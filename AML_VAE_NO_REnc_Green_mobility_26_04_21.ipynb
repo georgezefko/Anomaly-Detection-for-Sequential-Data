{
  "nbformat": 4,
  "nbformat_minor": 0,
  "metadata": {
    "accelerator": "GPU",
    "colab": {
      "name": "AML_VAE_NO_REnc_Green_mobility.ipynb",
      "provenance": [],
      "machine_shape": "hm",
      "include_colab_link": true
    },
    "kernelspec": {
      "display_name": "Python 3",
      "name": "python3"
    },
    "language_info": {
      "name": "python"
    }
  },
  "cells": [
    {
      "cell_type": "markdown",
      "metadata": {
        "id": "view-in-github",
        "colab_type": "text"
      },
      "source": [
        "<a href=\"https://colab.research.google.com/github/georgezefko/Anomaly-Detection-for-Sequential-Data/blob/branch_updates/AML_VAE_NO_REnc_Green_mobility_26_04_21.ipynb\" target=\"_parent\"><img src=\"https://colab.research.google.com/assets/colab-badge.svg\" alt=\"Open In Colab\"/></a>"
      ]
    },
    {
      "cell_type": "code",
      "metadata": {
        "colab": {
          "base_uri": "https://localhost:8080/"
        },
        "id": "gSmcjEonkIH3",
        "outputId": "08ceb589-f702-41c2-9c25-bd19c72a0c98"
      },
      "source": [
        "from google.colab import drive\n",
        "drive.mount('/content/drive', force_remount=True)"
      ],
      "execution_count": 1,
      "outputs": [
        {
          "output_type": "stream",
          "text": [
            "Mounted at /content/drive\n"
          ],
          "name": "stdout"
        }
      ]
    },
    {
      "cell_type": "code",
      "metadata": {
        "id": "ZOfF3qEoq1E3",
        "colab": {
          "base_uri": "https://localhost:8080/"
        },
        "outputId": "b90db3fb-fb51-47ae-98bc-49a0bde9b501"
      },
      "source": [
        "!pip3 install pickle5"
      ],
      "execution_count": 2,
      "outputs": [
        {
          "output_type": "stream",
          "text": [
            "Collecting pickle5\n",
            "\u001b[?25l  Downloading https://files.pythonhosted.org/packages/f7/4c/5c4dd0462c8d3a6bc4af500a6af240763c2ebd1efdc736fc2c946d44b70a/pickle5-0.0.11.tar.gz (132kB)\n",
            "\r\u001b[K     |██▌                             | 10kB 16.1MB/s eta 0:00:01\r\u001b[K     |█████                           | 20kB 10.7MB/s eta 0:00:01\r\u001b[K     |███████▍                        | 30kB 8.2MB/s eta 0:00:01\r\u001b[K     |██████████                      | 40kB 7.5MB/s eta 0:00:01\r\u001b[K     |████████████▍                   | 51kB 4.4MB/s eta 0:00:01\r\u001b[K     |██████████████▉                 | 61kB 5.0MB/s eta 0:00:01\r\u001b[K     |█████████████████▍              | 71kB 5.4MB/s eta 0:00:01\r\u001b[K     |███████████████████▉            | 81kB 5.5MB/s eta 0:00:01\r\u001b[K     |██████████████████████▎         | 92kB 5.3MB/s eta 0:00:01\r\u001b[K     |████████████████████████▉       | 102kB 5.5MB/s eta 0:00:01\r\u001b[K     |███████████████████████████▎    | 112kB 5.5MB/s eta 0:00:01\r\u001b[K     |█████████████████████████████▊  | 122kB 5.5MB/s eta 0:00:01\r\u001b[K     |████████████████████████████████| 133kB 5.5MB/s \n",
            "\u001b[?25hBuilding wheels for collected packages: pickle5\n",
            "  Building wheel for pickle5 (setup.py) ... \u001b[?25l\u001b[?25hdone\n",
            "  Created wheel for pickle5: filename=pickle5-0.0.11-cp37-cp37m-linux_x86_64.whl size=219251 sha256=64438a74b25841b81d7fb17a8fdb1933277bc5bc235176600dfa2216a697982e\n",
            "  Stored in directory: /root/.cache/pip/wheels/a6/90/95/f889ca4aa8b0e0c7f21c8470b6f5d6032f0390a3a141a9a3bd\n",
            "Successfully built pickle5\n",
            "Installing collected packages: pickle5\n",
            "Successfully installed pickle5-0.0.11\n"
          ],
          "name": "stdout"
        }
      ]
    },
    {
      "cell_type": "code",
      "metadata": {
        "id": "mUyh7zCf9D8Y"
      },
      "source": [
        "import numpy as np\n",
        "import torch\n",
        "from torch import nn, optim\n",
        "from torch import distributions\n",
        "from torch.utils.data import DataLoader, TensorDataset\n",
        "\n",
        "from torch.autograd import Variable\n",
        "import os\n",
        "import numpy as np\n",
        "from random import randint\n",
        "import os\n",
        "import matplotlib.pyplot as plt\n",
        "import pandas as pd\n",
        "from sklearn.model_selection import train_test_split\n",
        "import copy\n",
        "from torch.nn.parameter import Parameter\n",
        "import math\n",
        "from torch.nn import functional as F\n",
        "import seaborn as sns\n",
        "from sklearn.metrics import confusion_matrix, precision_recall_curve, roc_curve, auc, confusion_matrix, roc_auc_score\n",
        "from sklearn.preprocessing import StandardScaler\n",
        "import pickle5 as pickle"
      ],
      "execution_count": 3,
      "outputs": []
    },
    {
      "cell_type": "code",
      "metadata": {
        "id": "a4AY7fJy9JvZ"
      },
      "source": [
        "\n",
        "#Green mobility data\n",
        "#path = '/content/drive/MyDrive/AdvancedML/data/aligned_GM-5683_DRD-e9efaba7-a322-4793-a019-9592fb3ee73f_IRI.pickle' #original\n",
        "path = '/content/drive/MyDrive/AdvancedML/data/resampled_df.pickle' #resample\n",
        "with open(path, \"rb\") as fh:\n",
        "  data = pickle.load(fh)\n",
        "\n",
        "\n",
        "\n",
        "#Heartbeat data - getting good results\n",
        "# data_train = np.loadtxt('/content/drive/MyDrive/AdvancedML/data/ECG5000/ECG5000_TRAIN', delimiter=',')\n",
        "# data_test_val = np.loadtxt('/content/drive/MyDrive/AdvancedML/data/ECG5000/ECG5000_TEST', delimiter=',')[:-1]\n",
        "\n",
        "#Gun motion data- very bad results could be due to low amount of data\n",
        "# data_train = np.loadtxt('/content/drive/MyDrive/AdvancedML/data/GunPointAgeSpan/GunPointAgeSpan_TRAIN.txt')\n",
        "# data_test_val = np.loadtxt('/content/drive/MyDrive/AdvancedML/data/GunPointAgeSpan/GunPointAgeSpan_TEST.txt')\n",
        "\n",
        "#Modestrain data- quite good results\n",
        "# data_train = np.loadtxt('/content/drive/MyDrive/AdvancedML/data/MoteStrain/MoteStrain_TRAIN.txt')\n",
        "# data_test_val = np.loadtxt('/content/drive/MyDrive/AdvancedML/data/MoteStrain/MoteStrain_TEST.txt')"
      ],
      "execution_count": 4,
      "outputs": []
    },
    {
      "cell_type": "code",
      "metadata": {
        "colab": {
          "base_uri": "https://localhost:8080/",
          "height": 419
        },
        "id": "lQu0edWrxlhK",
        "outputId": "8e622b8d-6430-4545-871b-bd2c24d0fd8d"
      },
      "source": [
        "data"
      ],
      "execution_count": 5,
      "outputs": [
        {
          "output_type": "execute_result",
          "data": {
            "text/html": [
              "<div>\n",
              "<style scoped>\n",
              "    .dataframe tbody tr th:only-of-type {\n",
              "        vertical-align: middle;\n",
              "    }\n",
              "\n",
              "    .dataframe tbody tr th {\n",
              "        vertical-align: top;\n",
              "    }\n",
              "\n",
              "    .dataframe thead th {\n",
              "        text-align: right;\n",
              "    }\n",
              "</style>\n",
              "<table border=\"1\" class=\"dataframe\">\n",
              "  <thead>\n",
              "    <tr style=\"text-align: right;\">\n",
              "      <th></th>\n",
              "      <th>GM.obd.spd_veh.value_resampled</th>\n",
              "      <th>GM.acc.xyz.z_resampled</th>\n",
              "      <th>IRI_mean</th>\n",
              "    </tr>\n",
              "  </thead>\n",
              "  <tbody>\n",
              "    <tr>\n",
              "      <th>0</th>\n",
              "      <td>[86.16, 86.16212875339731, 86.17, 86.23, 86.22...</td>\n",
              "      <td>[1.0, 1.0, 1.0, 0.98, 0.95, 0.94, 0.98, 0.9713...</td>\n",
              "      <td>1.51418</td>\n",
              "    </tr>\n",
              "    <tr>\n",
              "      <th>1</th>\n",
              "      <td>[86.32000000000001, 86.27, 86.24345191303775, ...</td>\n",
              "      <td>[1.0, 1.0, 1.0, 1.02, 1.0338803450418523, 1.05...</td>\n",
              "      <td>1.38723</td>\n",
              "    </tr>\n",
              "    <tr>\n",
              "      <th>2</th>\n",
              "      <td>[86.23, 86.1967662154625, 86.05, 86.0618858267...</td>\n",
              "      <td>[0.94, 0.88, 0.88, 0.93, 0.93, 1.0087704273372...</td>\n",
              "      <td>1.49057</td>\n",
              "    </tr>\n",
              "    <tr>\n",
              "      <th>3</th>\n",
              "      <td>[86.27, 86.27, 86.28075666217394, 86.38, 86.37...</td>\n",
              "      <td>[1.0, 0.93, 0.95, 0.99, 0.9870294563438623, 0....</td>\n",
              "      <td>1.58045</td>\n",
              "    </tr>\n",
              "    <tr>\n",
              "      <th>4</th>\n",
              "      <td>[86.36, 86.31, 86.30259683296475, 86.27, 86.32...</td>\n",
              "      <td>[0.98, 0.96, 0.98, 0.98, 0.97, 0.9536732891567...</td>\n",
              "      <td>1.57347</td>\n",
              "    </tr>\n",
              "    <tr>\n",
              "      <th>...</th>\n",
              "      <td>...</td>\n",
              "      <td>...</td>\n",
              "      <td>...</td>\n",
              "    </tr>\n",
              "    <tr>\n",
              "      <th>5026</th>\n",
              "      <td>[80.18, 80.18708565614735, 80.2, 80.1807878920...</td>\n",
              "      <td>[0.99, 0.987953789453821, 0.9728568839903687, ...</td>\n",
              "      <td>1.93792</td>\n",
              "    </tr>\n",
              "    <tr>\n",
              "      <th>5027</th>\n",
              "      <td>[80.13, 80.15419725534622, 80.16, 80.22, 80.20...</td>\n",
              "      <td>[0.96, 0.9676620942909802, 0.9740279573115267,...</td>\n",
              "      <td>1.89542</td>\n",
              "    </tr>\n",
              "    <tr>\n",
              "      <th>5028</th>\n",
              "      <td>[80.04, 80.05463541614297, 80.07006515918876, ...</td>\n",
              "      <td>[0.9, 0.9003198146564586, 0.9027985699823563, ...</td>\n",
              "      <td>1.73519</td>\n",
              "    </tr>\n",
              "    <tr>\n",
              "      <th>5029</th>\n",
              "      <td>[80.09, 80.0778162710767, 80.07407561874355, 8...</td>\n",
              "      <td>[0.95, 0.9504846621084531, 0.9575837038544855,...</td>\n",
              "      <td>1.37274</td>\n",
              "    </tr>\n",
              "    <tr>\n",
              "      <th>5030</th>\n",
              "      <td>[80.04, 80.04, 80.04, 80.04, 80.04, 80.04, 80....</td>\n",
              "      <td>[1.0, 1.0060650129433324, 1.0074229754329098, ...</td>\n",
              "      <td>1.1304</td>\n",
              "    </tr>\n",
              "  </tbody>\n",
              "</table>\n",
              "<p>5031 rows × 3 columns</p>\n",
              "</div>"
            ],
            "text/plain": [
              "                         GM.obd.spd_veh.value_resampled  ... IRI_mean\n",
              "0     [86.16, 86.16212875339731, 86.17, 86.23, 86.22...  ...  1.51418\n",
              "1     [86.32000000000001, 86.27, 86.24345191303775, ...  ...  1.38723\n",
              "2     [86.23, 86.1967662154625, 86.05, 86.0618858267...  ...  1.49057\n",
              "3     [86.27, 86.27, 86.28075666217394, 86.38, 86.37...  ...  1.58045\n",
              "4     [86.36, 86.31, 86.30259683296475, 86.27, 86.32...  ...  1.57347\n",
              "...                                                 ...  ...      ...\n",
              "5026  [80.18, 80.18708565614735, 80.2, 80.1807878920...  ...  1.93792\n",
              "5027  [80.13, 80.15419725534622, 80.16, 80.22, 80.20...  ...  1.89542\n",
              "5028  [80.04, 80.05463541614297, 80.07006515918876, ...  ...  1.73519\n",
              "5029  [80.09, 80.0778162710767, 80.07407561874355, 8...  ...  1.37274\n",
              "5030  [80.04, 80.04, 80.04, 80.04, 80.04, 80.04, 80....  ...   1.1304\n",
              "\n",
              "[5031 rows x 3 columns]"
            ]
          },
          "metadata": {
            "tags": []
          },
          "execution_count": 5
        }
      ]
    },
    {
      "cell_type": "code",
      "metadata": {
        "id": "b_TAzexkFzkY"
      },
      "source": [
        "train_data = data[['GM.acc.xyz.z_resampled','IRI_mean']]\n",
        "train_data_unstack = train_data.iloc[:,0].apply(list).apply(pd.Series)\n",
        "frames = pd.concat([train_data,train_data_unstack],axis=1)\n",
        "frames = frames.drop(labels = 'GM.acc.xyz.z_resampled', axis=1)"
      ],
      "execution_count": 6,
      "outputs": []
    },
    {
      "cell_type": "code",
      "metadata": {
        "colab": {
          "base_uri": "https://localhost:8080/",
          "height": 439
        },
        "id": "K_eeQBt3yFJf",
        "outputId": "5f7929f7-74a1-47fc-8d43-37769c8ab608"
      },
      "source": [
        "frames"
      ],
      "execution_count": 7,
      "outputs": [
        {
          "output_type": "execute_result",
          "data": {
            "text/html": [
              "<div>\n",
              "<style scoped>\n",
              "    .dataframe tbody tr th:only-of-type {\n",
              "        vertical-align: middle;\n",
              "    }\n",
              "\n",
              "    .dataframe tbody tr th {\n",
              "        vertical-align: top;\n",
              "    }\n",
              "\n",
              "    .dataframe thead th {\n",
              "        text-align: right;\n",
              "    }\n",
              "</style>\n",
              "<table border=\"1\" class=\"dataframe\">\n",
              "  <thead>\n",
              "    <tr style=\"text-align: right;\">\n",
              "      <th></th>\n",
              "      <th>IRI_mean</th>\n",
              "      <th>0</th>\n",
              "      <th>1</th>\n",
              "      <th>2</th>\n",
              "      <th>3</th>\n",
              "      <th>4</th>\n",
              "      <th>5</th>\n",
              "      <th>6</th>\n",
              "      <th>7</th>\n",
              "      <th>8</th>\n",
              "      <th>9</th>\n",
              "      <th>10</th>\n",
              "      <th>11</th>\n",
              "      <th>12</th>\n",
              "      <th>13</th>\n",
              "      <th>14</th>\n",
              "      <th>15</th>\n",
              "      <th>16</th>\n",
              "      <th>17</th>\n",
              "      <th>18</th>\n",
              "      <th>19</th>\n",
              "      <th>20</th>\n",
              "      <th>21</th>\n",
              "      <th>22</th>\n",
              "      <th>23</th>\n",
              "      <th>24</th>\n",
              "      <th>25</th>\n",
              "      <th>26</th>\n",
              "      <th>27</th>\n",
              "      <th>28</th>\n",
              "      <th>29</th>\n",
              "      <th>30</th>\n",
              "      <th>31</th>\n",
              "      <th>32</th>\n",
              "      <th>33</th>\n",
              "      <th>34</th>\n",
              "      <th>35</th>\n",
              "      <th>36</th>\n",
              "      <th>37</th>\n",
              "      <th>38</th>\n",
              "      <th>...</th>\n",
              "      <th>329</th>\n",
              "      <th>330</th>\n",
              "      <th>331</th>\n",
              "      <th>332</th>\n",
              "      <th>333</th>\n",
              "      <th>334</th>\n",
              "      <th>335</th>\n",
              "      <th>336</th>\n",
              "      <th>337</th>\n",
              "      <th>338</th>\n",
              "      <th>339</th>\n",
              "      <th>340</th>\n",
              "      <th>341</th>\n",
              "      <th>342</th>\n",
              "      <th>343</th>\n",
              "      <th>344</th>\n",
              "      <th>345</th>\n",
              "      <th>346</th>\n",
              "      <th>347</th>\n",
              "      <th>348</th>\n",
              "      <th>349</th>\n",
              "      <th>350</th>\n",
              "      <th>351</th>\n",
              "      <th>352</th>\n",
              "      <th>353</th>\n",
              "      <th>354</th>\n",
              "      <th>355</th>\n",
              "      <th>356</th>\n",
              "      <th>357</th>\n",
              "      <th>358</th>\n",
              "      <th>359</th>\n",
              "      <th>360</th>\n",
              "      <th>361</th>\n",
              "      <th>362</th>\n",
              "      <th>363</th>\n",
              "      <th>364</th>\n",
              "      <th>365</th>\n",
              "      <th>366</th>\n",
              "      <th>367</th>\n",
              "      <th>368</th>\n",
              "    </tr>\n",
              "  </thead>\n",
              "  <tbody>\n",
              "    <tr>\n",
              "      <th>0</th>\n",
              "      <td>1.51418</td>\n",
              "      <td>1.00</td>\n",
              "      <td>1.000000</td>\n",
              "      <td>1.000000</td>\n",
              "      <td>0.980000</td>\n",
              "      <td>0.950000</td>\n",
              "      <td>0.940000</td>\n",
              "      <td>0.980000</td>\n",
              "      <td>0.971371</td>\n",
              "      <td>0.960000</td>\n",
              "      <td>0.958496</td>\n",
              "      <td>0.931354</td>\n",
              "      <td>0.920000</td>\n",
              "      <td>0.910000</td>\n",
              "      <td>1.000000</td>\n",
              "      <td>0.920000</td>\n",
              "      <td>0.910000</td>\n",
              "      <td>0.950000</td>\n",
              "      <td>0.945014</td>\n",
              "      <td>0.940000</td>\n",
              "      <td>0.970000</td>\n",
              "      <td>0.970000</td>\n",
              "      <td>0.930000</td>\n",
              "      <td>0.920000</td>\n",
              "      <td>0.920000</td>\n",
              "      <td>0.970000</td>\n",
              "      <td>0.940000</td>\n",
              "      <td>0.950000</td>\n",
              "      <td>0.956678</td>\n",
              "      <td>0.980000</td>\n",
              "      <td>0.981531</td>\n",
              "      <td>1.000000</td>\n",
              "      <td>1.000000</td>\n",
              "      <td>1.000000</td>\n",
              "      <td>1.000672</td>\n",
              "      <td>1.010000</td>\n",
              "      <td>1.000738</td>\n",
              "      <td>1.000000</td>\n",
              "      <td>1.000000</td>\n",
              "      <td>1.000000</td>\n",
              "      <td>...</td>\n",
              "      <td>0.950000</td>\n",
              "      <td>0.940000</td>\n",
              "      <td>0.930000</td>\n",
              "      <td>0.930000</td>\n",
              "      <td>0.920000</td>\n",
              "      <td>0.910000</td>\n",
              "      <td>0.910000</td>\n",
              "      <td>0.890000</td>\n",
              "      <td>0.940000</td>\n",
              "      <td>0.960000</td>\n",
              "      <td>0.950000</td>\n",
              "      <td>0.958098</td>\n",
              "      <td>0.960000</td>\n",
              "      <td>0.970000</td>\n",
              "      <td>1.000000</td>\n",
              "      <td>0.983928</td>\n",
              "      <td>0.980000</td>\n",
              "      <td>0.990000</td>\n",
              "      <td>0.995552</td>\n",
              "      <td>1.040000</td>\n",
              "      <td>1.050000</td>\n",
              "      <td>1.050000</td>\n",
              "      <td>0.840000</td>\n",
              "      <td>0.960000</td>\n",
              "      <td>1.014819</td>\n",
              "      <td>1.100000</td>\n",
              "      <td>1.010000</td>\n",
              "      <td>0.954922</td>\n",
              "      <td>0.91000</td>\n",
              "      <td>0.910000</td>\n",
              "      <td>0.910000</td>\n",
              "      <td>0.980000</td>\n",
              "      <td>1.000000</td>\n",
              "      <td>0.959389</td>\n",
              "      <td>0.947035</td>\n",
              "      <td>0.917743</td>\n",
              "      <td>0.910000</td>\n",
              "      <td>0.898345</td>\n",
              "      <td>0.880000</td>\n",
              "      <td>0.86</td>\n",
              "    </tr>\n",
              "    <tr>\n",
              "      <th>1</th>\n",
              "      <td>1.38723</td>\n",
              "      <td>1.00</td>\n",
              "      <td>1.000000</td>\n",
              "      <td>1.000000</td>\n",
              "      <td>1.020000</td>\n",
              "      <td>1.033880</td>\n",
              "      <td>1.050000</td>\n",
              "      <td>1.040000</td>\n",
              "      <td>1.020000</td>\n",
              "      <td>1.090000</td>\n",
              "      <td>1.090000</td>\n",
              "      <td>1.090000</td>\n",
              "      <td>1.087617</td>\n",
              "      <td>1.070000</td>\n",
              "      <td>1.000000</td>\n",
              "      <td>1.090000</td>\n",
              "      <td>1.090000</td>\n",
              "      <td>1.020000</td>\n",
              "      <td>0.840000</td>\n",
              "      <td>0.839704</td>\n",
              "      <td>0.820000</td>\n",
              "      <td>0.950000</td>\n",
              "      <td>0.950000</td>\n",
              "      <td>0.950000</td>\n",
              "      <td>0.840000</td>\n",
              "      <td>0.840000</td>\n",
              "      <td>0.730000</td>\n",
              "      <td>0.730000</td>\n",
              "      <td>0.730000</td>\n",
              "      <td>0.787184</td>\n",
              "      <td>0.800000</td>\n",
              "      <td>0.800000</td>\n",
              "      <td>0.800000</td>\n",
              "      <td>0.860000</td>\n",
              "      <td>0.740000</td>\n",
              "      <td>0.850000</td>\n",
              "      <td>0.852515</td>\n",
              "      <td>0.910000</td>\n",
              "      <td>0.940000</td>\n",
              "      <td>0.938403</td>\n",
              "      <td>...</td>\n",
              "      <td>0.919613</td>\n",
              "      <td>0.980000</td>\n",
              "      <td>0.994807</td>\n",
              "      <td>1.000000</td>\n",
              "      <td>0.949393</td>\n",
              "      <td>0.910000</td>\n",
              "      <td>0.880000</td>\n",
              "      <td>0.860000</td>\n",
              "      <td>0.930000</td>\n",
              "      <td>0.950000</td>\n",
              "      <td>0.955205</td>\n",
              "      <td>0.960000</td>\n",
              "      <td>0.920000</td>\n",
              "      <td>0.950000</td>\n",
              "      <td>0.960000</td>\n",
              "      <td>0.900000</td>\n",
              "      <td>0.891890</td>\n",
              "      <td>0.890000</td>\n",
              "      <td>0.890000</td>\n",
              "      <td>0.910000</td>\n",
              "      <td>0.980000</td>\n",
              "      <td>0.932662</td>\n",
              "      <td>0.930000</td>\n",
              "      <td>0.920000</td>\n",
              "      <td>0.950000</td>\n",
              "      <td>0.950000</td>\n",
              "      <td>0.970000</td>\n",
              "      <td>0.978764</td>\n",
              "      <td>1.00000</td>\n",
              "      <td>1.000000</td>\n",
              "      <td>0.965926</td>\n",
              "      <td>0.950000</td>\n",
              "      <td>0.930000</td>\n",
              "      <td>0.930000</td>\n",
              "      <td>0.930000</td>\n",
              "      <td>0.940000</td>\n",
              "      <td>0.940000</td>\n",
              "      <td>0.960000</td>\n",
              "      <td>1.020000</td>\n",
              "      <td>1.02</td>\n",
              "    </tr>\n",
              "    <tr>\n",
              "      <th>2</th>\n",
              "      <td>1.49057</td>\n",
              "      <td>0.94</td>\n",
              "      <td>0.880000</td>\n",
              "      <td>0.880000</td>\n",
              "      <td>0.930000</td>\n",
              "      <td>0.930000</td>\n",
              "      <td>1.008770</td>\n",
              "      <td>1.020000</td>\n",
              "      <td>1.020000</td>\n",
              "      <td>1.020000</td>\n",
              "      <td>1.030000</td>\n",
              "      <td>1.030000</td>\n",
              "      <td>0.970000</td>\n",
              "      <td>0.970000</td>\n",
              "      <td>0.950000</td>\n",
              "      <td>0.950000</td>\n",
              "      <td>1.030000</td>\n",
              "      <td>1.030000</td>\n",
              "      <td>1.050000</td>\n",
              "      <td>0.980000</td>\n",
              "      <td>0.980000</td>\n",
              "      <td>0.980000</td>\n",
              "      <td>1.070000</td>\n",
              "      <td>1.051604</td>\n",
              "      <td>1.033881</td>\n",
              "      <td>1.020000</td>\n",
              "      <td>1.020000</td>\n",
              "      <td>0.970000</td>\n",
              "      <td>0.970000</td>\n",
              "      <td>0.970000</td>\n",
              "      <td>0.970000</td>\n",
              "      <td>1.020000</td>\n",
              "      <td>0.990000</td>\n",
              "      <td>0.960955</td>\n",
              "      <td>0.960000</td>\n",
              "      <td>0.960000</td>\n",
              "      <td>0.990000</td>\n",
              "      <td>0.990000</td>\n",
              "      <td>0.990000</td>\n",
              "      <td>0.990000</td>\n",
              "      <td>...</td>\n",
              "      <td>0.983465</td>\n",
              "      <td>1.000000</td>\n",
              "      <td>1.000000</td>\n",
              "      <td>0.950000</td>\n",
              "      <td>0.930000</td>\n",
              "      <td>0.930000</td>\n",
              "      <td>0.940000</td>\n",
              "      <td>0.940000</td>\n",
              "      <td>0.960000</td>\n",
              "      <td>1.020000</td>\n",
              "      <td>1.020000</td>\n",
              "      <td>1.020000</td>\n",
              "      <td>1.030000</td>\n",
              "      <td>1.030000</td>\n",
              "      <td>1.030000</td>\n",
              "      <td>0.990000</td>\n",
              "      <td>0.900000</td>\n",
              "      <td>0.950000</td>\n",
              "      <td>0.960000</td>\n",
              "      <td>0.900000</td>\n",
              "      <td>0.900000</td>\n",
              "      <td>0.910000</td>\n",
              "      <td>0.910000</td>\n",
              "      <td>0.960000</td>\n",
              "      <td>0.943403</td>\n",
              "      <td>0.930000</td>\n",
              "      <td>0.940000</td>\n",
              "      <td>0.910000</td>\n",
              "      <td>0.95000</td>\n",
              "      <td>0.960000</td>\n",
              "      <td>0.940000</td>\n",
              "      <td>0.890000</td>\n",
              "      <td>0.950000</td>\n",
              "      <td>0.930000</td>\n",
              "      <td>0.890000</td>\n",
              "      <td>0.930000</td>\n",
              "      <td>0.930000</td>\n",
              "      <td>0.930000</td>\n",
              "      <td>0.950000</td>\n",
              "      <td>0.93</td>\n",
              "    </tr>\n",
              "    <tr>\n",
              "      <th>3</th>\n",
              "      <td>1.58045</td>\n",
              "      <td>1.00</td>\n",
              "      <td>0.930000</td>\n",
              "      <td>0.950000</td>\n",
              "      <td>0.990000</td>\n",
              "      <td>0.987029</td>\n",
              "      <td>0.970000</td>\n",
              "      <td>0.950000</td>\n",
              "      <td>0.950000</td>\n",
              "      <td>0.950000</td>\n",
              "      <td>0.950000</td>\n",
              "      <td>0.950000</td>\n",
              "      <td>0.950000</td>\n",
              "      <td>0.940000</td>\n",
              "      <td>0.910000</td>\n",
              "      <td>0.950000</td>\n",
              "      <td>0.950000</td>\n",
              "      <td>0.930000</td>\n",
              "      <td>0.930000</td>\n",
              "      <td>0.960000</td>\n",
              "      <td>0.955925</td>\n",
              "      <td>0.930000</td>\n",
              "      <td>0.960000</td>\n",
              "      <td>0.980000</td>\n",
              "      <td>0.960000</td>\n",
              "      <td>0.980000</td>\n",
              "      <td>0.980000</td>\n",
              "      <td>0.980000</td>\n",
              "      <td>0.974084</td>\n",
              "      <td>0.970000</td>\n",
              "      <td>0.930000</td>\n",
              "      <td>0.960000</td>\n",
              "      <td>0.980000</td>\n",
              "      <td>0.949853</td>\n",
              "      <td>0.930000</td>\n",
              "      <td>0.940000</td>\n",
              "      <td>0.930000</td>\n",
              "      <td>0.930000</td>\n",
              "      <td>0.945669</td>\n",
              "      <td>0.950000</td>\n",
              "      <td>...</td>\n",
              "      <td>0.930000</td>\n",
              "      <td>0.950000</td>\n",
              "      <td>0.950000</td>\n",
              "      <td>0.972631</td>\n",
              "      <td>0.980000</td>\n",
              "      <td>0.960000</td>\n",
              "      <td>0.960000</td>\n",
              "      <td>0.960000</td>\n",
              "      <td>0.950000</td>\n",
              "      <td>1.000000</td>\n",
              "      <td>0.980000</td>\n",
              "      <td>0.934372</td>\n",
              "      <td>0.930000</td>\n",
              "      <td>0.930610</td>\n",
              "      <td>0.970000</td>\n",
              "      <td>0.990000</td>\n",
              "      <td>0.980000</td>\n",
              "      <td>0.965509</td>\n",
              "      <td>0.940000</td>\n",
              "      <td>0.940000</td>\n",
              "      <td>0.950000</td>\n",
              "      <td>0.960000</td>\n",
              "      <td>0.950000</td>\n",
              "      <td>0.930000</td>\n",
              "      <td>0.932252</td>\n",
              "      <td>0.935448</td>\n",
              "      <td>0.949327</td>\n",
              "      <td>0.970000</td>\n",
              "      <td>1.00000</td>\n",
              "      <td>0.976874</td>\n",
              "      <td>0.973458</td>\n",
              "      <td>0.970000</td>\n",
              "      <td>0.960000</td>\n",
              "      <td>0.980000</td>\n",
              "      <td>0.970000</td>\n",
              "      <td>0.970000</td>\n",
              "      <td>0.970000</td>\n",
              "      <td>0.980000</td>\n",
              "      <td>0.972523</td>\n",
              "      <td>0.96</td>\n",
              "    </tr>\n",
              "    <tr>\n",
              "      <th>4</th>\n",
              "      <td>1.57347</td>\n",
              "      <td>0.98</td>\n",
              "      <td>0.960000</td>\n",
              "      <td>0.980000</td>\n",
              "      <td>0.980000</td>\n",
              "      <td>0.970000</td>\n",
              "      <td>0.953673</td>\n",
              "      <td>0.930000</td>\n",
              "      <td>0.960000</td>\n",
              "      <td>0.972596</td>\n",
              "      <td>0.980000</td>\n",
              "      <td>0.930000</td>\n",
              "      <td>0.934801</td>\n",
              "      <td>0.937639</td>\n",
              "      <td>0.940000</td>\n",
              "      <td>0.930000</td>\n",
              "      <td>0.930000</td>\n",
              "      <td>0.946195</td>\n",
              "      <td>0.948151</td>\n",
              "      <td>0.950000</td>\n",
              "      <td>0.950000</td>\n",
              "      <td>0.951297</td>\n",
              "      <td>0.970000</td>\n",
              "      <td>0.960000</td>\n",
              "      <td>0.960000</td>\n",
              "      <td>0.980000</td>\n",
              "      <td>0.960000</td>\n",
              "      <td>0.940000</td>\n",
              "      <td>0.940000</td>\n",
              "      <td>0.970000</td>\n",
              "      <td>0.967346</td>\n",
              "      <td>0.960000</td>\n",
              "      <td>0.960000</td>\n",
              "      <td>0.960000</td>\n",
              "      <td>0.960000</td>\n",
              "      <td>0.930000</td>\n",
              "      <td>0.930000</td>\n",
              "      <td>0.931222</td>\n",
              "      <td>0.935907</td>\n",
              "      <td>0.947930</td>\n",
              "      <td>...</td>\n",
              "      <td>0.980000</td>\n",
              "      <td>0.960000</td>\n",
              "      <td>0.950000</td>\n",
              "      <td>0.940000</td>\n",
              "      <td>0.940000</td>\n",
              "      <td>0.940000</td>\n",
              "      <td>0.990000</td>\n",
              "      <td>0.911932</td>\n",
              "      <td>0.910000</td>\n",
              "      <td>0.940000</td>\n",
              "      <td>0.960000</td>\n",
              "      <td>0.960000</td>\n",
              "      <td>0.940000</td>\n",
              "      <td>0.940000</td>\n",
              "      <td>0.940000</td>\n",
              "      <td>0.940000</td>\n",
              "      <td>0.950000</td>\n",
              "      <td>0.960000</td>\n",
              "      <td>0.960000</td>\n",
              "      <td>0.951390</td>\n",
              "      <td>0.940000</td>\n",
              "      <td>0.950000</td>\n",
              "      <td>0.950000</td>\n",
              "      <td>0.940000</td>\n",
              "      <td>0.933261</td>\n",
              "      <td>0.930000</td>\n",
              "      <td>0.948239</td>\n",
              "      <td>0.950000</td>\n",
              "      <td>0.95000</td>\n",
              "      <td>0.950000</td>\n",
              "      <td>0.957999</td>\n",
              "      <td>0.960000</td>\n",
              "      <td>0.951391</td>\n",
              "      <td>0.940000</td>\n",
              "      <td>0.949118</td>\n",
              "      <td>0.954997</td>\n",
              "      <td>0.960000</td>\n",
              "      <td>0.970000</td>\n",
              "      <td>0.975592</td>\n",
              "      <td>0.98</td>\n",
              "    </tr>\n",
              "    <tr>\n",
              "      <th>...</th>\n",
              "      <td>...</td>\n",
              "      <td>...</td>\n",
              "      <td>...</td>\n",
              "      <td>...</td>\n",
              "      <td>...</td>\n",
              "      <td>...</td>\n",
              "      <td>...</td>\n",
              "      <td>...</td>\n",
              "      <td>...</td>\n",
              "      <td>...</td>\n",
              "      <td>...</td>\n",
              "      <td>...</td>\n",
              "      <td>...</td>\n",
              "      <td>...</td>\n",
              "      <td>...</td>\n",
              "      <td>...</td>\n",
              "      <td>...</td>\n",
              "      <td>...</td>\n",
              "      <td>...</td>\n",
              "      <td>...</td>\n",
              "      <td>...</td>\n",
              "      <td>...</td>\n",
              "      <td>...</td>\n",
              "      <td>...</td>\n",
              "      <td>...</td>\n",
              "      <td>...</td>\n",
              "      <td>...</td>\n",
              "      <td>...</td>\n",
              "      <td>...</td>\n",
              "      <td>...</td>\n",
              "      <td>...</td>\n",
              "      <td>...</td>\n",
              "      <td>...</td>\n",
              "      <td>...</td>\n",
              "      <td>...</td>\n",
              "      <td>...</td>\n",
              "      <td>...</td>\n",
              "      <td>...</td>\n",
              "      <td>...</td>\n",
              "      <td>...</td>\n",
              "      <td>...</td>\n",
              "      <td>...</td>\n",
              "      <td>...</td>\n",
              "      <td>...</td>\n",
              "      <td>...</td>\n",
              "      <td>...</td>\n",
              "      <td>...</td>\n",
              "      <td>...</td>\n",
              "      <td>...</td>\n",
              "      <td>...</td>\n",
              "      <td>...</td>\n",
              "      <td>...</td>\n",
              "      <td>...</td>\n",
              "      <td>...</td>\n",
              "      <td>...</td>\n",
              "      <td>...</td>\n",
              "      <td>...</td>\n",
              "      <td>...</td>\n",
              "      <td>...</td>\n",
              "      <td>...</td>\n",
              "      <td>...</td>\n",
              "      <td>...</td>\n",
              "      <td>...</td>\n",
              "      <td>...</td>\n",
              "      <td>...</td>\n",
              "      <td>...</td>\n",
              "      <td>...</td>\n",
              "      <td>...</td>\n",
              "      <td>...</td>\n",
              "      <td>...</td>\n",
              "      <td>...</td>\n",
              "      <td>...</td>\n",
              "      <td>...</td>\n",
              "      <td>...</td>\n",
              "      <td>...</td>\n",
              "      <td>...</td>\n",
              "      <td>...</td>\n",
              "      <td>...</td>\n",
              "      <td>...</td>\n",
              "      <td>...</td>\n",
              "      <td>...</td>\n",
              "    </tr>\n",
              "    <tr>\n",
              "      <th>5026</th>\n",
              "      <td>1.93792</td>\n",
              "      <td>0.99</td>\n",
              "      <td>0.987954</td>\n",
              "      <td>0.972857</td>\n",
              "      <td>0.960000</td>\n",
              "      <td>1.016551</td>\n",
              "      <td>1.020000</td>\n",
              "      <td>0.970000</td>\n",
              "      <td>0.970094</td>\n",
              "      <td>0.970453</td>\n",
              "      <td>0.973584</td>\n",
              "      <td>0.977190</td>\n",
              "      <td>0.980000</td>\n",
              "      <td>0.991989</td>\n",
              "      <td>0.998922</td>\n",
              "      <td>1.000000</td>\n",
              "      <td>1.000000</td>\n",
              "      <td>1.000000</td>\n",
              "      <td>1.000000</td>\n",
              "      <td>1.000000</td>\n",
              "      <td>1.000000</td>\n",
              "      <td>1.000000</td>\n",
              "      <td>0.999986</td>\n",
              "      <td>0.993191</td>\n",
              "      <td>0.984443</td>\n",
              "      <td>0.955806</td>\n",
              "      <td>0.940000</td>\n",
              "      <td>0.942414</td>\n",
              "      <td>0.943708</td>\n",
              "      <td>0.950000</td>\n",
              "      <td>0.971329</td>\n",
              "      <td>0.991993</td>\n",
              "      <td>1.020000</td>\n",
              "      <td>1.020000</td>\n",
              "      <td>1.018791</td>\n",
              "      <td>1.004037</td>\n",
              "      <td>0.998913</td>\n",
              "      <td>0.988145</td>\n",
              "      <td>0.985470</td>\n",
              "      <td>0.980000</td>\n",
              "      <td>...</td>\n",
              "      <td>1.054196</td>\n",
              "      <td>1.056916</td>\n",
              "      <td>1.057179</td>\n",
              "      <td>1.060000</td>\n",
              "      <td>1.080000</td>\n",
              "      <td>1.080739</td>\n",
              "      <td>1.110000</td>\n",
              "      <td>1.099232</td>\n",
              "      <td>1.010000</td>\n",
              "      <td>1.006371</td>\n",
              "      <td>1.003090</td>\n",
              "      <td>1.000400</td>\n",
              "      <td>1.000000</td>\n",
              "      <td>1.040000</td>\n",
              "      <td>1.035728</td>\n",
              "      <td>1.012656</td>\n",
              "      <td>1.004613</td>\n",
              "      <td>1.000000</td>\n",
              "      <td>0.950000</td>\n",
              "      <td>0.950589</td>\n",
              "      <td>0.968330</td>\n",
              "      <td>0.970994</td>\n",
              "      <td>0.976461</td>\n",
              "      <td>0.980000</td>\n",
              "      <td>0.980000</td>\n",
              "      <td>0.980000</td>\n",
              "      <td>0.980000</td>\n",
              "      <td>0.980000</td>\n",
              "      <td>0.98000</td>\n",
              "      <td>0.966505</td>\n",
              "      <td>0.960727</td>\n",
              "      <td>0.958350</td>\n",
              "      <td>0.954611</td>\n",
              "      <td>0.933783</td>\n",
              "      <td>0.930000</td>\n",
              "      <td>0.930000</td>\n",
              "      <td>0.930000</td>\n",
              "      <td>0.940104</td>\n",
              "      <td>0.960000</td>\n",
              "      <td>0.91</td>\n",
              "    </tr>\n",
              "    <tr>\n",
              "      <th>5027</th>\n",
              "      <td>1.89542</td>\n",
              "      <td>0.96</td>\n",
              "      <td>0.967662</td>\n",
              "      <td>0.974028</td>\n",
              "      <td>0.980000</td>\n",
              "      <td>0.984442</td>\n",
              "      <td>0.990000</td>\n",
              "      <td>0.987174</td>\n",
              "      <td>0.982754</td>\n",
              "      <td>0.974711</td>\n",
              "      <td>0.970000</td>\n",
              "      <td>0.980000</td>\n",
              "      <td>0.987229</td>\n",
              "      <td>0.989373</td>\n",
              "      <td>1.000731</td>\n",
              "      <td>1.035777</td>\n",
              "      <td>1.040000</td>\n",
              "      <td>1.006454</td>\n",
              "      <td>0.981822</td>\n",
              "      <td>0.977596</td>\n",
              "      <td>0.970000</td>\n",
              "      <td>0.963790</td>\n",
              "      <td>0.950000</td>\n",
              "      <td>0.961257</td>\n",
              "      <td>0.965078</td>\n",
              "      <td>0.978668</td>\n",
              "      <td>0.980000</td>\n",
              "      <td>0.980000</td>\n",
              "      <td>0.980000</td>\n",
              "      <td>0.980000</td>\n",
              "      <td>0.980000</td>\n",
              "      <td>0.983387</td>\n",
              "      <td>0.987263</td>\n",
              "      <td>0.991924</td>\n",
              "      <td>0.998021</td>\n",
              "      <td>1.000000</td>\n",
              "      <td>1.000000</td>\n",
              "      <td>1.000000</td>\n",
              "      <td>1.000000</td>\n",
              "      <td>1.000000</td>\n",
              "      <td>...</td>\n",
              "      <td>1.000000</td>\n",
              "      <td>1.005753</td>\n",
              "      <td>1.016431</td>\n",
              "      <td>1.040000</td>\n",
              "      <td>1.030423</td>\n",
              "      <td>1.000000</td>\n",
              "      <td>0.951432</td>\n",
              "      <td>0.950000</td>\n",
              "      <td>0.953475</td>\n",
              "      <td>0.960501</td>\n",
              "      <td>0.962775</td>\n",
              "      <td>0.970197</td>\n",
              "      <td>0.972568</td>\n",
              "      <td>0.978659</td>\n",
              "      <td>0.980000</td>\n",
              "      <td>0.980000</td>\n",
              "      <td>0.980000</td>\n",
              "      <td>0.980000</td>\n",
              "      <td>0.980000</td>\n",
              "      <td>0.980000</td>\n",
              "      <td>0.980000</td>\n",
              "      <td>0.961707</td>\n",
              "      <td>0.957545</td>\n",
              "      <td>0.950898</td>\n",
              "      <td>0.936529</td>\n",
              "      <td>0.930000</td>\n",
              "      <td>0.930000</td>\n",
              "      <td>0.930000</td>\n",
              "      <td>0.93000</td>\n",
              "      <td>0.930000</td>\n",
              "      <td>0.930000</td>\n",
              "      <td>0.930000</td>\n",
              "      <td>0.947079</td>\n",
              "      <td>0.960000</td>\n",
              "      <td>0.955972</td>\n",
              "      <td>0.946516</td>\n",
              "      <td>0.941014</td>\n",
              "      <td>0.932020</td>\n",
              "      <td>0.929255</td>\n",
              "      <td>0.91</td>\n",
              "    </tr>\n",
              "    <tr>\n",
              "      <th>5028</th>\n",
              "      <td>1.73519</td>\n",
              "      <td>0.90</td>\n",
              "      <td>0.900320</td>\n",
              "      <td>0.902799</td>\n",
              "      <td>0.903372</td>\n",
              "      <td>0.904333</td>\n",
              "      <td>0.908195</td>\n",
              "      <td>0.908496</td>\n",
              "      <td>0.909118</td>\n",
              "      <td>0.910000</td>\n",
              "      <td>0.910000</td>\n",
              "      <td>0.910000</td>\n",
              "      <td>0.910000</td>\n",
              "      <td>0.927834</td>\n",
              "      <td>0.939949</td>\n",
              "      <td>0.942788</td>\n",
              "      <td>0.943511</td>\n",
              "      <td>0.946269</td>\n",
              "      <td>0.950000</td>\n",
              "      <td>0.943718</td>\n",
              "      <td>0.935710</td>\n",
              "      <td>0.931503</td>\n",
              "      <td>0.905982</td>\n",
              "      <td>0.899999</td>\n",
              "      <td>0.890000</td>\n",
              "      <td>0.890000</td>\n",
              "      <td>0.890000</td>\n",
              "      <td>0.890000</td>\n",
              "      <td>0.890000</td>\n",
              "      <td>0.890000</td>\n",
              "      <td>0.890000</td>\n",
              "      <td>0.913657</td>\n",
              "      <td>0.970000</td>\n",
              "      <td>0.973970</td>\n",
              "      <td>0.979253</td>\n",
              "      <td>0.983368</td>\n",
              "      <td>0.992537</td>\n",
              "      <td>1.000000</td>\n",
              "      <td>1.000923</td>\n",
              "      <td>1.018962</td>\n",
              "      <td>...</td>\n",
              "      <td>0.963258</td>\n",
              "      <td>0.950267</td>\n",
              "      <td>0.950000</td>\n",
              "      <td>0.955402</td>\n",
              "      <td>0.955767</td>\n",
              "      <td>0.956954</td>\n",
              "      <td>0.970825</td>\n",
              "      <td>0.980000</td>\n",
              "      <td>0.980000</td>\n",
              "      <td>0.980000</td>\n",
              "      <td>0.980000</td>\n",
              "      <td>0.980000</td>\n",
              "      <td>0.980000</td>\n",
              "      <td>0.980000</td>\n",
              "      <td>0.980000</td>\n",
              "      <td>0.980000</td>\n",
              "      <td>0.980000</td>\n",
              "      <td>0.980000</td>\n",
              "      <td>0.980000</td>\n",
              "      <td>0.980000</td>\n",
              "      <td>0.961189</td>\n",
              "      <td>0.934877</td>\n",
              "      <td>0.930000</td>\n",
              "      <td>0.930000</td>\n",
              "      <td>0.930000</td>\n",
              "      <td>0.930000</td>\n",
              "      <td>0.930000</td>\n",
              "      <td>0.930000</td>\n",
              "      <td>0.93000</td>\n",
              "      <td>0.930000</td>\n",
              "      <td>0.941629</td>\n",
              "      <td>0.948186</td>\n",
              "      <td>0.957616</td>\n",
              "      <td>0.957981</td>\n",
              "      <td>0.960000</td>\n",
              "      <td>0.951756</td>\n",
              "      <td>0.934377</td>\n",
              "      <td>0.928815</td>\n",
              "      <td>0.913806</td>\n",
              "      <td>0.91</td>\n",
              "    </tr>\n",
              "    <tr>\n",
              "      <th>5029</th>\n",
              "      <td>1.37274</td>\n",
              "      <td>0.95</td>\n",
              "      <td>0.950485</td>\n",
              "      <td>0.957584</td>\n",
              "      <td>0.963103</td>\n",
              "      <td>0.967651</td>\n",
              "      <td>0.975762</td>\n",
              "      <td>1.000000</td>\n",
              "      <td>0.992296</td>\n",
              "      <td>0.985990</td>\n",
              "      <td>0.977686</td>\n",
              "      <td>0.973467</td>\n",
              "      <td>0.966646</td>\n",
              "      <td>0.964932</td>\n",
              "      <td>0.961173</td>\n",
              "      <td>0.960000</td>\n",
              "      <td>0.934495</td>\n",
              "      <td>0.918202</td>\n",
              "      <td>0.916683</td>\n",
              "      <td>0.886060</td>\n",
              "      <td>0.860000</td>\n",
              "      <td>0.872739</td>\n",
              "      <td>0.873456</td>\n",
              "      <td>0.880781</td>\n",
              "      <td>0.892878</td>\n",
              "      <td>0.894203</td>\n",
              "      <td>0.898998</td>\n",
              "      <td>0.900000</td>\n",
              "      <td>0.900549</td>\n",
              "      <td>0.902722</td>\n",
              "      <td>0.906257</td>\n",
              "      <td>0.911208</td>\n",
              "      <td>0.913068</td>\n",
              "      <td>0.915505</td>\n",
              "      <td>0.918958</td>\n",
              "      <td>0.920000</td>\n",
              "      <td>0.924861</td>\n",
              "      <td>0.934057</td>\n",
              "      <td>0.936454</td>\n",
              "      <td>0.940000</td>\n",
              "      <td>...</td>\n",
              "      <td>0.980000</td>\n",
              "      <td>0.980000</td>\n",
              "      <td>0.980000</td>\n",
              "      <td>0.980000</td>\n",
              "      <td>0.980000</td>\n",
              "      <td>0.980000</td>\n",
              "      <td>0.980000</td>\n",
              "      <td>0.980000</td>\n",
              "      <td>0.980000</td>\n",
              "      <td>0.980000</td>\n",
              "      <td>0.980000</td>\n",
              "      <td>0.980000</td>\n",
              "      <td>0.980000</td>\n",
              "      <td>0.965687</td>\n",
              "      <td>0.963117</td>\n",
              "      <td>0.962281</td>\n",
              "      <td>0.948152</td>\n",
              "      <td>0.946713</td>\n",
              "      <td>0.941929</td>\n",
              "      <td>0.940636</td>\n",
              "      <td>0.936288</td>\n",
              "      <td>0.930000</td>\n",
              "      <td>0.930000</td>\n",
              "      <td>0.930000</td>\n",
              "      <td>0.930000</td>\n",
              "      <td>0.930000</td>\n",
              "      <td>0.930000</td>\n",
              "      <td>0.930000</td>\n",
              "      <td>0.93000</td>\n",
              "      <td>0.930000</td>\n",
              "      <td>0.935284</td>\n",
              "      <td>0.935606</td>\n",
              "      <td>0.942369</td>\n",
              "      <td>0.947479</td>\n",
              "      <td>0.949640</td>\n",
              "      <td>0.958452</td>\n",
              "      <td>0.959000</td>\n",
              "      <td>0.960000</td>\n",
              "      <td>0.924620</td>\n",
              "      <td>0.91</td>\n",
              "    </tr>\n",
              "    <tr>\n",
              "      <th>5030</th>\n",
              "      <td>1.1304</td>\n",
              "      <td>1.00</td>\n",
              "      <td>1.006065</td>\n",
              "      <td>1.007423</td>\n",
              "      <td>1.012283</td>\n",
              "      <td>1.012913</td>\n",
              "      <td>1.014006</td>\n",
              "      <td>1.021653</td>\n",
              "      <td>1.022169</td>\n",
              "      <td>1.024731</td>\n",
              "      <td>1.025220</td>\n",
              "      <td>1.025777</td>\n",
              "      <td>1.027165</td>\n",
              "      <td>1.028741</td>\n",
              "      <td>1.028930</td>\n",
              "      <td>1.029201</td>\n",
              "      <td>1.031915</td>\n",
              "      <td>1.039072</td>\n",
              "      <td>1.043523</td>\n",
              "      <td>1.048295</td>\n",
              "      <td>1.048700</td>\n",
              "      <td>1.050000</td>\n",
              "      <td>1.049688</td>\n",
              "      <td>1.033818</td>\n",
              "      <td>1.014759</td>\n",
              "      <td>1.007550</td>\n",
              "      <td>0.995714</td>\n",
              "      <td>0.973257</td>\n",
              "      <td>0.970000</td>\n",
              "      <td>0.970350</td>\n",
              "      <td>0.971068</td>\n",
              "      <td>0.972864</td>\n",
              "      <td>0.973671</td>\n",
              "      <td>0.977049</td>\n",
              "      <td>0.978063</td>\n",
              "      <td>0.981202</td>\n",
              "      <td>0.981776</td>\n",
              "      <td>0.981817</td>\n",
              "      <td>0.983022</td>\n",
              "      <td>0.986336</td>\n",
              "      <td>...</td>\n",
              "      <td>0.930000</td>\n",
              "      <td>0.930000</td>\n",
              "      <td>0.930000</td>\n",
              "      <td>0.930000</td>\n",
              "      <td>0.930000</td>\n",
              "      <td>0.930000</td>\n",
              "      <td>0.930000</td>\n",
              "      <td>0.930000</td>\n",
              "      <td>0.930000</td>\n",
              "      <td>0.930000</td>\n",
              "      <td>0.931522</td>\n",
              "      <td>0.931870</td>\n",
              "      <td>0.931891</td>\n",
              "      <td>0.942154</td>\n",
              "      <td>0.942871</td>\n",
              "      <td>0.943723</td>\n",
              "      <td>0.949997</td>\n",
              "      <td>0.952647</td>\n",
              "      <td>0.955192</td>\n",
              "      <td>0.957815</td>\n",
              "      <td>0.960000</td>\n",
              "      <td>0.959087</td>\n",
              "      <td>0.957979</td>\n",
              "      <td>0.957903</td>\n",
              "      <td>0.952366</td>\n",
              "      <td>0.948528</td>\n",
              "      <td>0.947166</td>\n",
              "      <td>0.944983</td>\n",
              "      <td>0.94241</td>\n",
              "      <td>0.935814</td>\n",
              "      <td>0.934085</td>\n",
              "      <td>0.933466</td>\n",
              "      <td>0.932353</td>\n",
              "      <td>0.930859</td>\n",
              "      <td>0.929384</td>\n",
              "      <td>0.922500</td>\n",
              "      <td>0.922276</td>\n",
              "      <td>0.912959</td>\n",
              "      <td>0.910298</td>\n",
              "      <td>0.91</td>\n",
              "    </tr>\n",
              "  </tbody>\n",
              "</table>\n",
              "<p>5031 rows × 370 columns</p>\n",
              "</div>"
            ],
            "text/plain": [
              "     IRI_mean     0         1         2  ...       365       366       367   368\n",
              "0     1.51418  1.00  1.000000  1.000000  ...  0.910000  0.898345  0.880000  0.86\n",
              "1     1.38723  1.00  1.000000  1.000000  ...  0.940000  0.960000  1.020000  1.02\n",
              "2     1.49057  0.94  0.880000  0.880000  ...  0.930000  0.930000  0.950000  0.93\n",
              "3     1.58045  1.00  0.930000  0.950000  ...  0.970000  0.980000  0.972523  0.96\n",
              "4     1.57347  0.98  0.960000  0.980000  ...  0.960000  0.970000  0.975592  0.98\n",
              "...       ...   ...       ...       ...  ...       ...       ...       ...   ...\n",
              "5026  1.93792  0.99  0.987954  0.972857  ...  0.930000  0.940104  0.960000  0.91\n",
              "5027  1.89542  0.96  0.967662  0.974028  ...  0.941014  0.932020  0.929255  0.91\n",
              "5028  1.73519  0.90  0.900320  0.902799  ...  0.934377  0.928815  0.913806  0.91\n",
              "5029  1.37274  0.95  0.950485  0.957584  ...  0.959000  0.960000  0.924620  0.91\n",
              "5030   1.1304  1.00  1.006065  1.007423  ...  0.922276  0.912959  0.910298  0.91\n",
              "\n",
              "[5031 rows x 370 columns]"
            ]
          },
          "metadata": {
            "tags": []
          },
          "execution_count": 7
        }
      ]
    },
    {
      "cell_type": "code",
      "metadata": {
        "id": "8IGnAUF5GIaB"
      },
      "source": [
        "Normal = frames.loc[(frames['IRI_mean'] < 2)].drop(labels='IRI_mean', axis=1).reset_index(drop=True)\n",
        "Anomaly = frames.loc[(frames['IRI_mean'] >2)].drop(labels='IRI_mean', axis=1).reset_index(drop=True)"
      ],
      "execution_count": 8,
      "outputs": []
    },
    {
      "cell_type": "code",
      "metadata": {
        "id": "zo3WTN8Q9hJK"
      },
      "source": [
        "RANDOM_SEED = 42\n",
        "train_df, val_df = train_test_split(Normal,test_size=0.33,random_state=RANDOM_SEED)\n",
        "val_df, test_df = train_test_split(val_df,test_size=0.15, random_state=RANDOM_SEED)\n",
        "\n",
        "\n",
        "#anomaly\n",
        "\n"
      ],
      "execution_count": 12,
      "outputs": []
    },
    {
      "cell_type": "code",
      "metadata": {
        "id": "ZanB2K8j40Tc"
      },
      "source": [
        "scaler = StandardScaler()\n",
        "train_df = scaler.fit_transform(train_df)\n",
        "test_df = scaler.transform(test_df)\n",
        "val_df = scaler.transform(val_df)\n",
        "anomaly_df = scaler.fit_transform(Anomaly)\n"
      ],
      "execution_count": 13,
      "outputs": []
    },
    {
      "cell_type": "code",
      "metadata": {
        "id": "pRY7sxCO3Xx5"
      },
      "source": [
        "\n",
        "train_df = np.expand_dims(train_df,-1)\n",
        "test_df = np.expand_dims(test_df,-1)\n",
        "val_df = np.expand_dims(val_df,-1)\n",
        "anomaly_df = np.expand_dims(anomaly_df,-1)"
      ],
      "execution_count": 14,
      "outputs": []
    },
    {
      "cell_type": "code",
      "metadata": {
        "colab": {
          "base_uri": "https://localhost:8080/"
        },
        "id": "agsmAlJBGXq6",
        "outputId": "114136d4-b475-41e8-962f-129fe23eb202"
      },
      "source": [
        "train_df.shape"
      ],
      "execution_count": null,
      "outputs": [
        {
          "output_type": "execute_result",
          "data": {
            "text/plain": [
              "(3252, 369, 1)"
            ]
          },
          "metadata": {
            "tags": []
          },
          "execution_count": 80
        }
      ]
    },
    {
      "cell_type": "code",
      "metadata": {
        "colab": {
          "base_uri": "https://localhost:8080/"
        },
        "id": "v--Nvhf3smJP",
        "outputId": "4ba9b3e2-dd56-4d13-f20a-a18e16b54674"
      },
      "source": [
        "anomaly_df.shape"
      ],
      "execution_count": null,
      "outputs": [
        {
          "output_type": "execute_result",
          "data": {
            "text/plain": [
              "(176, 369, 1)"
            ]
          },
          "metadata": {
            "tags": []
          },
          "execution_count": 9
        }
      ]
    },
    {
      "cell_type": "code",
      "metadata": {
        "id": "gTwYM4b4G4Be"
      },
      "source": [
        "train_dataset = TensorDataset(torch.from_numpy(train_df).float())\n",
        "test_dataset = TensorDataset(torch.from_numpy(test_df).float())\n",
        "val_dataset = TensorDataset(torch.from_numpy(val_df).float())\n",
        "anomaly_dataset = TensorDataset(torch.from_numpy(anomaly_df).float())"
      ],
      "execution_count": 15,
      "outputs": []
    },
    {
      "cell_type": "code",
      "metadata": {
        "id": "NaRrwi9d40OT"
      },
      "source": [
        "seq_len = train_df.shape[1]\n",
        "n_features = train_df.shape[2]"
      ],
      "execution_count": 16,
      "outputs": []
    },
    {
      "cell_type": "code",
      "metadata": {
        "colab": {
          "base_uri": "https://localhost:8080/"
        },
        "id": "780OU6rHzDgF",
        "outputId": "715dc7e1-8a65-49dd-9cfd-5811f872ee2c"
      },
      "source": [
        "seq_len"
      ],
      "execution_count": null,
      "outputs": [
        {
          "output_type": "execute_result",
          "data": {
            "text/plain": [
              "369"
            ]
          },
          "metadata": {
            "tags": []
          },
          "execution_count": 23
        }
      ]
    },
    {
      "cell_type": "code",
      "metadata": {
        "id": "FmAJMQh_5RHz"
      },
      "source": [
        "cuda = torch.cuda.is_available()"
      ],
      "execution_count": 17,
      "outputs": []
    },
    {
      "cell_type": "code",
      "metadata": {
        "id": "JmPUpDKF9r9L"
      },
      "source": [
        "batch_size = 32\n",
        "train_loader = DataLoader(train_dataset, batch_size=batch_size, pin_memory=cuda,drop_last=True)\n",
        "test_loader  = DataLoader(test_dataset, batch_size=batch_size, pin_memory=cuda,drop_last=True)\n",
        "val_loader  = DataLoader(val_dataset, batch_size=batch_size, pin_memory=cuda, drop_last=True)\n",
        "anomaly_loader = DataLoader(anomaly_dataset, batch_size=batch_size, pin_memory=cuda,drop_last=True)"
      ],
      "execution_count": 18,
      "outputs": []
    },
    {
      "cell_type": "code",
      "metadata": {
        "id": "FWBqtQZI9u2C"
      },
      "source": [
        "device = torch.device(\"cuda\" if torch.cuda.is_available() else \"cpu\")"
      ],
      "execution_count": 19,
      "outputs": []
    },
    {
      "cell_type": "code",
      "metadata": {
        "id": "3rHWowkltrd7",
        "colab": {
          "base_uri": "https://localhost:8080/"
        },
        "outputId": "2e158783-1473-4506-cc81-c45e765233ef"
      },
      "source": [
        "for i in test_loader:\n",
        "  print(i[0].shape)"
      ],
      "execution_count": null,
      "outputs": [
        {
          "output_type": "stream",
          "text": [
            "torch.Size([64, 369, 1])\n",
            "torch.Size([64, 369, 1])\n",
            "torch.Size([64, 369, 1])\n"
          ],
          "name": "stdout"
        }
      ]
    },
    {
      "cell_type": "code",
      "metadata": {
        "id": "wFAIS1wX9zV2"
      },
      "source": [
        "class Encoder(nn.Module):\n",
        "\n",
        "  def __init__(self, n_features, hidden_size, hidden_layer_depth, latent_length, bidirectional,dropout):\n",
        "\n",
        "    super(Encoder,self).__init__()\n",
        "\n",
        "\n",
        "    self.n_features = n_features\n",
        "    self.hidden_size = hidden_size\n",
        "    self.hidden_layer_depth = hidden_layer_depth\n",
        "    self.latent_length = latent_length\n",
        "    self.bidirectional = bidirectional\n",
        "    self.direction_factor = (2 if self.bidirectional else 1)\n",
        "    \n",
        "\n",
        "\n",
        "    self.rnn1 = nn.GRU( input_size=self.n_features, \n",
        "                       hidden_size=self.hidden_size, \n",
        "                       dropout = dropout, \n",
        "                       num_layers = self.hidden_layer_depth,\n",
        "                       batch_first=True,bidirectional = self.bidirectional)\n",
        "      \n",
        "  def forward(self, x):\n",
        "    \n",
        "    x = x.to(device)\n",
        "    #print('input',x.shape)\n",
        "    batch = x.size(0)\n",
        "    h0 = torch.zeros(hidden_layer_depth*self.direction_factor, batch, self.hidden_size).to(device)\n",
        "\n",
        "    out,hidden_n = self.rnn1(x,h0) \n",
        "    #print('hidden',hidden_n.shape)\n",
        "    if self.bidirectional:\n",
        "\n",
        "      last_hidden_state = hidden_n.view(hidden_layer_depth, self.direction_factor, batch, self.hidden_size)[-1] #(num_directions, batch, hidden_size)\n",
        "      #print('final',last_hidden_state.shape)\n",
        "      h_1, h_2 = last_hidden_state[0], last_hidden_state[1]\n",
        "      #print('h1',h_1.shape)\n",
        "      #print('h2',h_2.shape)\n",
        "\n",
        "      #X = h_1 + h_2                # Add both states (needs different input size for first linear layer)\n",
        "      hidden = torch.cat((h_1, h_2), 1)  # Concatenate both states\n",
        "      #print('X',hidden.shape)\n",
        "    else:\n",
        "      hidden = hidden_n[-1, :, :]\n",
        "      #print('cell',hidden.shape)\n",
        "    \n",
        "\n",
        "    return hidden\n",
        "\n"
      ],
      "execution_count": 20,
      "outputs": []
    },
    {
      "cell_type": "code",
      "metadata": {
        "id": "TC-fTM7Pl1qd",
        "colab": {
          "base_uri": "https://localhost:8080/"
        },
        "outputId": "450a89ca-2b3e-41ee-8ae0-26e493e0184d"
      },
      "source": [
        "# hidden_size = 90\n",
        "# hidden_layer_depth = 1\n",
        "# latent_length = 20\n",
        "# bidirectional = False\n",
        "\n",
        "# # encoder\n",
        "# en = Encoder(n_features, hidden_size, hidden_layer_depth, hidden_size, bidirectional, dropout).to(device)\n",
        "# en\n"
      ],
      "execution_count": null,
      "outputs": [
        {
          "output_type": "stream",
          "text": [
            "/usr/local/lib/python3.7/dist-packages/torch/nn/modules/rnn.py:63: UserWarning: dropout option adds dropout after all but last recurrent layer, so non-zero dropout expects num_layers greater than 1, but got dropout=0.2 and num_layers=1\n",
            "  \"num_layers={}\".format(dropout, num_layers))\n"
          ],
          "name": "stderr"
        },
        {
          "output_type": "execute_result",
          "data": {
            "text/plain": [
              "Encoder(\n",
              "  (rnn1): GRU(1, 90, batch_first=True, dropout=0.2)\n",
              ")"
            ]
          },
          "metadata": {
            "tags": []
          },
          "execution_count": 81
        }
      ]
    },
    {
      "cell_type": "code",
      "metadata": {
        "id": "GdH1JILymJtS"
      },
      "source": [
        "# X= next(iter(train_loader))\n",
        "# x = X[0].to(device)\n",
        "# outputs = en(x.float())\n",
        "# cell = outputs"
      ],
      "execution_count": null,
      "outputs": []
    },
    {
      "cell_type": "code",
      "metadata": {
        "id": "0IOTzJKqmL2p",
        "colab": {
          "base_uri": "https://localhost:8080/"
        },
        "outputId": "8bf28448-e218-4136-edc7-2f12157ae4c4"
      },
      "source": [
        "# print('cell',cell.shape)\n"
      ],
      "execution_count": null,
      "outputs": [
        {
          "output_type": "stream",
          "text": [
            "cell torch.Size([32, 90])\n"
          ],
          "name": "stdout"
        }
      ]
    },
    {
      "cell_type": "code",
      "metadata": {
        "id": "vriDHSn6zM8o"
      },
      "source": [
        "class Latent(nn.Module):\n",
        "    \"\"\"Lambda module converts output of encoder to latent vector\n",
        "    :param hidden_size: hidden size of the encoder\n",
        "    :param latent_length: latent vector length\n",
        "    \"\"\"\n",
        "    def __init__(self, hidden_size, latent_length,bidirectional):\n",
        "        super(Latent, self).__init__()\n",
        "\n",
        "        self.bidirectional = bidirectional\n",
        "        self.direction_factor = (2 if self.bidirectional else 1)\n",
        "        self.hidden_size = hidden_size\n",
        "        self.latent_length = latent_length\n",
        "\n",
        "        self.hidden_to_mean = nn.Linear(self.hidden_size*self.direction_factor, self.latent_length)\n",
        "        self.hidden_to_logvar = nn.Linear(self.hidden_size*self.direction_factor, self.latent_length)\n",
        "\n",
        "        nn.init.xavier_uniform_(self.hidden_to_mean.weight)\n",
        "        nn.init.xavier_uniform_(self.hidden_to_logvar.weight)\n",
        "\n",
        "    def forward(self, cell_output):\n",
        "        \n",
        "        self.latent_mean = self.hidden_to_mean(cell_output)\n",
        "        self.latent_logvar = self.hidden_to_logvar(cell_output)\n",
        "        z_mu = self.latent_mean\n",
        "        z_var = self.latent_logvar\n",
        "        \n",
        "\n",
        "        \n",
        "        std = torch.exp(0.5 * self.latent_logvar)\n",
        "        eps = torch.randn_like(std)\n",
        "        sample = eps.mul(std).add_(self.latent_mean)\n",
        "\n",
        "        return sample, z_mu, z_var\n",
        "        "
      ],
      "execution_count": 21,
      "outputs": []
    },
    {
      "cell_type": "code",
      "metadata": {
        "id": "826itD_I5YrY"
      },
      "source": [
        "# #latent\n",
        "# latent_length=20\n",
        "# bidirectional = False\n",
        "# la = Latent(hidden_size,latent_length,bidirectional).to(device)"
      ],
      "execution_count": null,
      "outputs": []
    },
    {
      "cell_type": "code",
      "metadata": {
        "id": "1rvCFtQT5Yop"
      },
      "source": [
        "# sample,z_mu,z_var = la(cell)"
      ],
      "execution_count": null,
      "outputs": []
    },
    {
      "cell_type": "code",
      "metadata": {
        "colab": {
          "base_uri": "https://localhost:8080/"
        },
        "id": "jX10ESuS6agz",
        "outputId": "224cc9c7-9e45-4220-8623-17c4ca146829"
      },
      "source": [
        "# print(sample.shape)\n",
        "# print(z_mu.shape)\n",
        "# print(z_var.shape)"
      ],
      "execution_count": null,
      "outputs": [
        {
          "output_type": "stream",
          "text": [
            "torch.Size([32, 20])\n",
            "torch.Size([32, 20])\n",
            "torch.Size([32, 20])\n"
          ],
          "name": "stdout"
        }
      ]
    },
    {
      "cell_type": "code",
      "metadata": {
        "id": "QiM1LVOQ93I_"
      },
      "source": [
        "\n",
        "class Decoder(nn.Module):\n",
        "\n",
        "  def __init__(self, seq_len, batch_size, hidden_size, hidden_layer_depth, latent_length, n_features,bidirectional):\n",
        "    super(Decoder, self).__init__()\n",
        "\n",
        "    self.hidden_size = hidden_size\n",
        "    self.batch_size = batch_size\n",
        "    self.seq_len = seq_len\n",
        "    self.hidden_layer_depth = hidden_layer_depth\n",
        "    self.latent_length = latent_length\n",
        "    self.n_features = n_features\n",
        "    self.bidirectional = bidirectional\n",
        "    self.direction_factor = (2 if self.bidirectional else 1)\n",
        "    \n",
        "    \n",
        "\n",
        "    self.rnn1 = nn.GRU(input_size=1,\n",
        "                       hidden_size=self.hidden_size,\n",
        "                       dropout = dropout,\n",
        "                       num_layers=hidden_layer_depth,\n",
        "                       batch_first=True,\n",
        "                       bidirectional= bidirectional\n",
        "                       )\n",
        "\n",
        "    \n",
        "\n",
        "    self.latent_to_hidden = nn.Linear(self.latent_length,self.hidden_size)\n",
        "    self.hidden_to_output = nn.Linear(self.hidden_size*self.direction_factor, self.n_features)\n",
        "\n",
        "    self.decoder_inputs = torch.zeros( self.batch_size, self.seq_len, 1, requires_grad=True).to(device)\n",
        "\n",
        "    nn.init.xavier_uniform_(self.latent_to_hidden.weight)\n",
        "    nn.init.xavier_uniform_(self.hidden_to_output.weight)\n",
        "\n",
        "\n",
        "  def forward(self, x):\n",
        "    #print('original',x.shape)\n",
        "    x = x.to(device)\n",
        "    h_state = self.latent_to_hidden(x)\n",
        "    #print('h_state',h_state.shape)\n",
        "\n",
        "\n",
        "    h_0 = torch.stack([h_state for _ in range(self.hidden_layer_depth*self.direction_factor)]).to(device)\n",
        "    #print('h0',h_0.shape)\n",
        "\n",
        "    \n",
        "    d = self.decoder_inputs\n",
        "    #print('input',d.shape)\n",
        "    decoder_output, _ = self.rnn1(self.decoder_inputs, h_0)\n",
        "    #print('decoder_output',decoder_output.shape)\n",
        "\n",
        "    out = self.hidden_to_output(decoder_output)\n",
        "\n",
        "    return out"
      ],
      "execution_count": 22,
      "outputs": []
    },
    {
      "cell_type": "code",
      "metadata": {
        "id": "hApna9du94k9"
      },
      "source": [
        "class VAE(nn.Module):\n",
        "\n",
        "  def __init__(self, enc,lat,dec):\n",
        "\n",
        "    super(VAE,self).__init__()\n",
        "\n",
        "  \n",
        "    self.enc = enc\n",
        "    self.lat = lat\n",
        "    self.dec = dec\n",
        "    \n",
        "\n",
        "  def forward(self, x):\n",
        "\n",
        "    encoder_output = self.enc(x)\n",
        "    sample,z_mu,z_var = self.lat(encoder_output)\n",
        "    x_hat = self.dec(sample)\n",
        "\n",
        "\n",
        "\n",
        "    return x_hat, z_mu, z_var "
      ],
      "execution_count": 23,
      "outputs": []
    },
    {
      "cell_type": "code",
      "metadata": {
        "colab": {
          "base_uri": "https://localhost:8080/"
        },
        "id": "On7-e4mx98FK",
        "outputId": "57b1c6cd-7817-45fb-ba1f-c7fcc086ef0e"
      },
      "source": [
        "hidden_size = 64\n",
        "hidden_layer_depth = 1\n",
        "latent_length = 10\n",
        "dropout = 0.5\n",
        "bidirectional = True\n",
        "# encoder\n",
        "encoder = Encoder( n_features, hidden_size, hidden_layer_depth, latent_length,bidirectional, dropout)\n",
        "\n",
        "#latent\n",
        "latent = Latent( hidden_size, latent_length, bidirectional)\n",
        "\n",
        "# decoder\n",
        "decoder = Decoder(seq_len, batch_size, hidden_size, hidden_layer_depth, latent_length, n_features,bidirectional)\n",
        "\n",
        "# vae\n",
        "model = VAE(encoder,latent,decoder).to(device)\n",
        "\n",
        "\n",
        "\n",
        "print(model)"
      ],
      "execution_count": 24,
      "outputs": [
        {
          "output_type": "stream",
          "text": [
            "/usr/local/lib/python3.7/dist-packages/torch/nn/modules/rnn.py:63: UserWarning: dropout option adds dropout after all but last recurrent layer, so non-zero dropout expects num_layers greater than 1, but got dropout=0.5 and num_layers=1\n",
            "  \"num_layers={}\".format(dropout, num_layers))\n"
          ],
          "name": "stderr"
        },
        {
          "output_type": "stream",
          "text": [
            "VAE(\n",
            "  (enc): Encoder(\n",
            "    (rnn1): GRU(1, 64, batch_first=True, dropout=0.5)\n",
            "  )\n",
            "  (lat): Latent(\n",
            "    (hidden_to_mean): Linear(in_features=64, out_features=10, bias=True)\n",
            "    (hidden_to_logvar): Linear(in_features=64, out_features=10, bias=True)\n",
            "  )\n",
            "  (dec): Decoder(\n",
            "    (rnn1): GRU(1, 64, batch_first=True, dropout=0.5)\n",
            "    (latent_to_hidden): Linear(in_features=10, out_features=64, bias=True)\n",
            "    (hidden_to_output): Linear(in_features=64, out_features=1, bias=True)\n",
            "  )\n",
            ")\n"
          ],
          "name": "stdout"
        }
      ]
    },
    {
      "cell_type": "code",
      "metadata": {
        "id": "JlC50fY332vU"
      },
      "source": [
        "def loss(X, x_hat, z_mu, z_var, beta, criterion):\n",
        "  \n",
        "\n",
        "  if criterion == 'MSELoss':\n",
        "    criterion = nn.MSELoss(size_average=False,reduction='sum')\n",
        "  elif criterion == 'SmoothL1Loss':\n",
        "    criterion = nn.SmoothL1Loss(size_average=False,reduction='sum')\n",
        "\n",
        "  recon_loss = criterion(x_hat, X)\n",
        "  KL_loss = -0.5 * torch.mean(1 + z_var - z_mu**2 - torch.exp(z_var))\n",
        "  #KL_loss/= X.shape[0] * 32\n",
        "  elbo_loss = recon_loss + beta * KL_loss\n",
        "  \n",
        "  return elbo_loss, KL_loss"
      ],
      "execution_count": 25,
      "outputs": []
    },
    {
      "cell_type": "code",
      "metadata": {
        "id": "Cc5coPBu-F4m"
      },
      "source": [
        "optimizer = optim.Adam(model.parameters(), lr=0.0001) # lr derived from optimazation method\n",
        "\n",
        "#optimizer = optim.SGD(model.parameters(), lr=0.0001, momentum=0.9)"
      ],
      "execution_count": 26,
      "outputs": []
    },
    {
      "cell_type": "code",
      "metadata": {
        "colab": {
          "base_uri": "https://localhost:8080/"
        },
        "id": "1p8YTCYI-Izs",
        "outputId": "f34c2199-015d-4351-b3bb-d1b39902af60"
      },
      "source": [
        "X= next(iter(train_loader))\n",
        "x = X[0].to(device)\n",
        "outputs = model(x.float())\n",
        "\n",
        "\n",
        "x_hat, z_mu, z_var = outputs\n",
        "\n",
        "#total_loss, elbo_loss, KL_loss = loss(x, x_hat, z_mu, z_var, x_sample, mu_rec, var_rec, z_sample,criterion='SmoothL1Loss')\n",
        "print('x',x.shape)\n",
        "print('mu',z_mu.shape)\n",
        "print('var',z_var.shape)\n",
        "print('x_hat',x_hat.shape)\n",
        "# print('total',total_loss)\n",
        "# print('elbo',elbo_loss)\n",
        "# print('KL',KL_loss)\n"
      ],
      "execution_count": 27,
      "outputs": [
        {
          "output_type": "stream",
          "text": [
            "x torch.Size([32, 369, 1])\n",
            "mu torch.Size([32, 10])\n",
            "var torch.Size([32, 10])\n",
            "x_hat torch.Size([32, 369, 1])\n"
          ],
          "name": "stdout"
        }
      ]
    },
    {
      "cell_type": "code",
      "metadata": {
        "colab": {
          "base_uri": "https://localhost:8080/"
        },
        "id": "P6WULzxfkWRw",
        "outputId": "3581236d-611f-4c05-e32c-9e5642529d26"
      },
      "source": [
        "elbo_loss, KL_loss = loss(x, x_hat, z_mu, z_var,beta=0.5,criterion='SmoothL1Loss')\n",
        "\n",
        "print(elbo_loss)\n",
        "print(KL_loss)"
      ],
      "execution_count": 29,
      "outputs": [
        {
          "output_type": "stream",
          "text": [
            "tensor(4710.2061, device='cuda:0', grad_fn=<AddBackward0>)\n",
            "tensor(0.0147, device='cuda:0', grad_fn=<MulBackward0>)\n"
          ],
          "name": "stdout"
        },
        {
          "output_type": "stream",
          "text": [
            "/usr/local/lib/python3.7/dist-packages/torch/nn/_reduction.py:42: UserWarning: size_average and reduce args will be deprecated, please use reduction='sum' instead.\n",
            "  warnings.warn(warning.format(ret))\n"
          ],
          "name": "stderr"
        }
      ]
    },
    {
      "cell_type": "code",
      "metadata": {
        "id": "4q-KBOMKChfa"
      },
      "source": [
        "def train():\n",
        " \n",
        "\n",
        "  model.train()\n",
        "\n",
        "  train_loss = []\n",
        "  train_kl = []\n",
        "  \n",
        "  \n",
        "\n",
        "  for t, X in enumerate(train_loader):\n",
        "\n",
        "    X =X[0]\n",
        "    #print('trina',X.shape)\n",
        "    X = X.to(device)\n",
        "\n",
        "    optimizer.zero_grad()\n",
        "\n",
        "    x_hat, z_mu, z_var= model(X)\n",
        "\n",
        "    elbo_loss, KL_loss = loss(X, x_hat, z_mu, z_var, beta = 1,criterion='MSELoss')\n",
        "    # total_loss = (len(train_loader)/X.shape[0])*total_loss\n",
        "    # elbo_loss = (len(train_loader)/X.shape[0])*elbo_loss\n",
        "\n",
        "    elbo_loss.backward()\n",
        "\n",
        "    train_loss.append(elbo_loss.item())\n",
        "    train_kl.append(KL_loss.item())\n",
        "    \n",
        "\n",
        "    optimizer.step()\n",
        "  \n",
        "  train_elbo_loss = np.mean(train_loss)\n",
        "  train_kl_loss = np.mean(train_kl)\n",
        " \n",
        "\n",
        "  return  train_elbo_loss,train_kl_loss"
      ],
      "execution_count": 30,
      "outputs": []
    },
    {
      "cell_type": "code",
      "metadata": {
        "id": "7vIAvRgoCi71"
      },
      "source": [
        "def test():\n",
        "\n",
        "  model.eval()\n",
        "\n",
        "  with torch.no_grad():\n",
        "    test_loss = []\n",
        "    test_kl = []\n",
        "    \n",
        "    for t, x in enumerate(val_loader):\n",
        "\n",
        "      x = x[0]\n",
        "      x = x.to(device)\n",
        "      x_hat, z_mu, z_var = model(x)\n",
        "      elbo_loss, KL_loss = loss(x, x_hat, z_mu, z_var,beta=1,criterion='SmoothL1Loss')\n",
        "      # total_loss = (len(val_loader)/x.shape[0])*total_loss\n",
        "      # elbo_loss = (len(val_loader)/x.shape[0])*elbo_loss\n",
        "\n",
        "      test_loss.append(elbo_loss.item())\n",
        "      test_kl.append(KL_loss.item())\n",
        "      \n",
        "\n",
        "  test_elbo_loss = np.mean(test_loss)\n",
        "  test_kl_loss = np.mean(test_kl)\n",
        "  \n",
        "\n",
        "  return model.eval(), test_elbo_loss,test_kl_loss"
      ],
      "execution_count": 31,
      "outputs": []
    },
    {
      "cell_type": "code",
      "metadata": {
        "id": "ITTlvdIR41ot"
      },
      "source": [
        "import time\n",
        "\n",
        "def epoch_time(start_time, end_time):\n",
        "    elapsed_time = end_time - start_time\n",
        "    elapsed_mins = int(elapsed_time / 60)\n",
        "    elapsed_secs = int(elapsed_time - (elapsed_mins * 60))\n",
        "    return elapsed_mins, elapsed_secs"
      ],
      "execution_count": 32,
      "outputs": []
    },
    {
      "cell_type": "code",
      "metadata": {
        "colab": {
          "base_uri": "https://localhost:8080/"
        },
        "id": "XV_p0xxvCmeg",
        "outputId": "d666d1a3-7a3a-4bde-a9fe-632819f2f02e"
      },
      "source": [
        "epochs = 100\n",
        "\n",
        "best_model_wts = copy.deepcopy(model.state_dict())\n",
        "best_loss = 10000.0\n",
        "history_elbo = dict(train_elbo=[], test_elbo=[])\n",
        "history_kl = dict(train_kl=[], test_kl=[])\n",
        "\n",
        "\n",
        "device = torch.device(\"cuda:0\" if cuda else \"cpu\")\n",
        "print(\"Using device:\", device)\n",
        "\n",
        "for e in range(epochs):\n",
        "\n",
        "  start_time = time.time()\n",
        "\n",
        "  train_elbo_loss, train_kl_loss = train()\n",
        "  model, test_elbo_loss, test_kl_loss  = test()\n",
        "\n",
        "  end_time = time.time()\n",
        "\n",
        "  epoch_mins, epoch_secs = epoch_time(start_time, end_time)\n",
        "\n",
        "  if best_loss > test_elbo_loss:\n",
        "    best_test_loss = test_elbo_loss\n",
        "    best_model_wts = copy.deepcopy(model.state_dict())\n",
        "\n",
        "  print(f'Epoch: {e+1:02} | Epoch Time: {epoch_mins}m {epoch_secs}s')\n",
        "  print(f'\\t train elbo loss {train_elbo_loss}   | train kl loss {train_kl_loss}') \n",
        "  print(f'\\t val  val elbo loss {test_elbo_loss} | valid kl loss {test_kl_loss}') \n",
        "\n",
        "\n",
        "  history_elbo['train_elbo'].append(train_elbo_loss)\n",
        "  history_elbo['test_elbo'].append(test_elbo_loss)\n",
        "\n",
        "  history_kl['train_kl'].append(train_kl_loss)\n",
        "  history_kl['test_kl'].append(test_kl_loss)\n"
      ],
      "execution_count": 33,
      "outputs": [
        {
          "output_type": "stream",
          "text": [
            "Using device: cuda:0\n"
          ],
          "name": "stdout"
        },
        {
          "output_type": "stream",
          "text": [
            "/usr/local/lib/python3.7/dist-packages/torch/nn/_reduction.py:42: UserWarning: size_average and reduce args will be deprecated, please use reduction='sum' instead.\n",
            "  warnings.warn(warning.format(ret))\n"
          ],
          "name": "stderr"
        },
        {
          "output_type": "stream",
          "text": [
            "Epoch: 01 | Epoch Time: 0m 3s\n",
            "\t train elbo loss 11829.90671410891   | train kl loss 0.013502884923600324\n",
            "\t val  val elbo loss 4755.58074079241 | valid kl loss 0.01313347007990593\n",
            "Epoch: 02 | Epoch Time: 0m 3s\n",
            "\t train elbo loss 11814.432501160272   | train kl loss 0.012893450852151555\n",
            "\t val  val elbo loss 4754.795375279018 | valid kl loss 0.012948170215601013\n",
            "Epoch: 03 | Epoch Time: 0m 2s\n",
            "\t train elbo loss 11814.294129022277   | train kl loss 0.013104213586095537\n",
            "\t val  val elbo loss 4754.66791062128 | valid kl loss 0.01398605942016556\n",
            "Epoch: 04 | Epoch Time: 0m 3s\n",
            "\t train elbo loss 11813.695447865099   | train kl loss 0.014704347698774078\n",
            "\t val  val elbo loss 4754.51105608259 | valid kl loss 0.015381909175110715\n",
            "Epoch: 05 | Epoch Time: 0m 2s\n",
            "\t train elbo loss 11813.396049272897   | train kl loss 0.0157354422614421\n",
            "\t val  val elbo loss 4754.625860305059 | valid kl loss 0.01657378196805006\n",
            "Epoch: 06 | Epoch Time: 0m 2s\n",
            "\t train elbo loss 11813.369111618193   | train kl loss 0.01665857340218407\n",
            "\t val  val elbo loss 4754.427408854167 | valid kl loss 0.01714652113705164\n",
            "Epoch: 07 | Epoch Time: 0m 2s\n",
            "\t train elbo loss 11813.613165222772   | train kl loss 0.017552303878756444\n",
            "\t val  val elbo loss 4754.3996814546135 | valid kl loss 0.018700373492070606\n",
            "Epoch: 08 | Epoch Time: 0m 2s\n",
            "\t train elbo loss 11813.370175201115   | train kl loss 0.019075038962730086\n",
            "\t val  val elbo loss 4754.366338820684 | valid kl loss 0.018884853770335514\n",
            "Epoch: 09 | Epoch Time: 0m 2s\n",
            "\t train elbo loss 11813.470596766709   | train kl loss 0.019434940033029802\n",
            "\t val  val elbo loss 4754.364629836309 | valid kl loss 0.02021671694126867\n",
            "Epoch: 10 | Epoch Time: 0m 3s\n",
            "\t train elbo loss 11813.292378944925   | train kl loss 0.019981376882089247\n",
            "\t val  val elbo loss 4754.268101283482 | valid kl loss 0.020449280073600157\n",
            "Epoch: 11 | Epoch Time: 0m 2s\n",
            "\t train elbo loss 11813.275777382425   | train kl loss 0.020407641915106536\n",
            "\t val  val elbo loss 4754.328485398066 | valid kl loss 0.020188982642832257\n",
            "Epoch: 12 | Epoch Time: 0m 2s\n",
            "\t train elbo loss 11813.426574102723   | train kl loss 0.020653904978149007\n",
            "\t val  val elbo loss 4754.319056919643 | valid kl loss 0.02158497544449\n",
            "Epoch: 13 | Epoch Time: 0m 2s\n",
            "\t train elbo loss 11813.309608988242   | train kl loss 0.022539087543540663\n",
            "\t val  val elbo loss 4754.348528180803 | valid kl loss 0.022928746372816108\n",
            "Epoch: 14 | Epoch Time: 0m 2s\n",
            "\t train elbo loss 11813.31383431312   | train kl loss 0.023149430548938196\n",
            "\t val  val elbo loss 4754.308151971726 | valid kl loss 0.023114157796260856\n",
            "Epoch: 15 | Epoch Time: 0m 3s\n",
            "\t train elbo loss 11813.318388381807   | train kl loss 0.023176272021661892\n",
            "\t val  val elbo loss 4754.3388904389885 | valid kl loss 0.02355046508212884\n",
            "Epoch: 16 | Epoch Time: 0m 3s\n",
            "\t train elbo loss 11813.085666769803   | train kl loss 0.023881805525852902\n",
            "\t val  val elbo loss 4754.26220703125 | valid kl loss 0.0247046272048638\n",
            "Epoch: 17 | Epoch Time: 0m 2s\n",
            "\t train elbo loss 11813.537747524753   | train kl loss 0.025959351717835605\n",
            "\t val  val elbo loss 4754.277471633184 | valid kl loss 0.02684814633712882\n",
            "Epoch: 18 | Epoch Time: 0m 2s\n",
            "\t train elbo loss 11813.20425626547   | train kl loss 0.026892266983147894\n",
            "\t val  val elbo loss 4754.200427827381 | valid kl loss 0.026964759764571983\n",
            "Epoch: 19 | Epoch Time: 0m 2s\n",
            "\t train elbo loss 11813.239460860148   | train kl loss 0.02739865356816514\n",
            "\t val  val elbo loss 4754.32634626116 | valid kl loss 0.028312095352226778\n",
            "Epoch: 20 | Epoch Time: 0m 3s\n",
            "\t train elbo loss 11813.248220915842   | train kl loss 0.02877568488590198\n",
            "\t val  val elbo loss 4754.337774367559 | valid kl loss 0.028968445424522673\n",
            "Epoch: 21 | Epoch Time: 0m 2s\n",
            "\t train elbo loss 11813.128625850866   | train kl loss 0.028503926526201834\n",
            "\t val  val elbo loss 4754.232073102678 | valid kl loss 0.02836745467391752\n",
            "Epoch: 22 | Epoch Time: 0m 3s\n",
            "\t train elbo loss 11813.249748607674   | train kl loss 0.0288697468430394\n",
            "\t val  val elbo loss 4754.351655505952 | valid kl loss 0.029625418595969677\n",
            "Epoch: 23 | Epoch Time: 0m 3s\n",
            "\t train elbo loss 11813.203231358291   | train kl loss 0.02952001118423915\n",
            "\t val  val elbo loss 4754.281156994048 | valid kl loss 0.02963369521534159\n",
            "Epoch: 24 | Epoch Time: 0m 3s\n",
            "\t train elbo loss 11813.185131110768   | train kl loss 0.029742881766345243\n",
            "\t val  val elbo loss 4754.26318359375 | valid kl loss 0.030497051775455475\n",
            "Epoch: 25 | Epoch Time: 0m 3s\n",
            "\t train elbo loss 11813.251208616955   | train kl loss 0.030412815658762905\n",
            "\t val  val elbo loss 4754.275983537947 | valid kl loss 0.030330073310150987\n",
            "Epoch: 26 | Epoch Time: 0m 3s\n",
            "\t train elbo loss 11813.288869121287   | train kl loss 0.03075203692337664\n",
            "\t val  val elbo loss 4754.356887090774 | valid kl loss 0.031027913847494693\n",
            "Epoch: 27 | Epoch Time: 0m 2s\n",
            "\t train elbo loss 11813.131671565594   | train kl loss 0.03069644543056441\n",
            "\t val  val elbo loss 4754.240385509673 | valid kl loss 0.030287861291851317\n",
            "Epoch: 28 | Epoch Time: 0m 2s\n",
            "\t train elbo loss 11813.241539681312   | train kl loss 0.03105465660222096\n",
            "\t val  val elbo loss 4754.344424293155 | valid kl loss 0.031814497407703174\n",
            "Epoch: 29 | Epoch Time: 0m 2s\n",
            "\t train elbo loss 11813.198261525371   | train kl loss 0.03157183539011691\n",
            "\t val  val elbo loss 4754.315441313244 | valid kl loss 0.031550341684903414\n",
            "Epoch: 30 | Epoch Time: 0m 2s\n",
            "\t train elbo loss 11813.192498839728   | train kl loss 0.03169615795411686\n",
            "\t val  val elbo loss 4754.232817150298 | valid kl loss 0.03225085139274597\n",
            "Epoch: 31 | Epoch Time: 0m 2s\n",
            "\t train elbo loss 11813.136854115099   | train kl loss 0.03216617255665288\n",
            "\t val  val elbo loss 4754.275925409226 | valid kl loss 0.03268599545671826\n",
            "Epoch: 32 | Epoch Time: 0m 3s\n",
            "\t train elbo loss 11813.32233330755   | train kl loss 0.033308550733888505\n",
            "\t val  val elbo loss 4754.30109514509 | valid kl loss 0.03456702322832176\n",
            "Epoch: 33 | Epoch Time: 0m 2s\n",
            "\t train elbo loss 11813.15480932859   | train kl loss 0.03566268604654487\n",
            "\t val  val elbo loss 4754.338797433035 | valid kl loss 0.037088023143864814\n",
            "Epoch: 34 | Epoch Time: 0m 2s\n",
            "\t train elbo loss 11813.128877243193   | train kl loss 0.036244862556162445\n",
            "\t val  val elbo loss 4754.21941266741 | valid kl loss 0.03663854252192236\n",
            "Epoch: 35 | Epoch Time: 0m 2s\n",
            "\t train elbo loss 11813.206683168317   | train kl loss 0.03627725091237243\n",
            "\t val  val elbo loss 4754.269054594494 | valid kl loss 0.0374197754121962\n",
            "Epoch: 36 | Epoch Time: 0m 3s\n",
            "\t train elbo loss 11812.97789681312   | train kl loss 0.03705825970166981\n",
            "\t val  val elbo loss 4754.247605096726 | valid kl loss 0.037095005224858014\n",
            "Epoch: 37 | Epoch Time: 0m 2s\n",
            "\t train elbo loss 11813.174949721535   | train kl loss 0.037807733392213834\n",
            "\t val  val elbo loss 4754.324148995535 | valid kl loss 0.03913588804148492\n",
            "Epoch: 38 | Epoch Time: 0m 3s\n",
            "\t train elbo loss 11813.368135055693   | train kl loss 0.040365849132880126\n",
            "\t val  val elbo loss 4754.309930710566 | valid kl loss 0.04243320559284517\n",
            "Epoch: 39 | Epoch Time: 0m 2s\n",
            "\t train elbo loss 11813.209989944307   | train kl loss 0.04281177556160653\n",
            "\t val  val elbo loss 4754.308268229167 | valid kl loss 0.04390730025867621\n",
            "Epoch: 40 | Epoch Time: 0m 2s\n",
            "\t train elbo loss 11812.946095683787   | train kl loss 0.043896914450543945\n",
            "\t val  val elbo loss 4754.0925060453865 | valid kl loss 0.04472049370053269\n",
            "Epoch: 41 | Epoch Time: 0m 3s\n",
            "\t train elbo loss 11813.310305151608   | train kl loss 0.04526723227878608\n",
            "\t val  val elbo loss 4754.211460658482 | valid kl loss 0.04592588765635377\n",
            "Epoch: 42 | Epoch Time: 0m 2s\n",
            "\t train elbo loss 11813.235989712253   | train kl loss 0.04620110959109693\n",
            "\t val  val elbo loss 4754.369222005208 | valid kl loss 0.04696679913571903\n",
            "Epoch: 43 | Epoch Time: 0m 2s\n",
            "\t train elbo loss 11813.221563660272   | train kl loss 0.04717461089834128\n",
            "\t val  val elbo loss 4754.341180710566 | valid kl loss 0.049028534087396804\n",
            "Epoch: 44 | Epoch Time: 0m 2s\n",
            "\t train elbo loss 11813.005143873763   | train kl loss 0.04887729816802657\n",
            "\t val  val elbo loss 4754.24431501116 | valid kl loss 0.04936031491628715\n",
            "Epoch: 45 | Epoch Time: 0m 3s\n",
            "\t train elbo loss 11813.095683787129   | train kl loss 0.04962066099932878\n",
            "\t val  val elbo loss 4754.307768322173 | valid kl loss 0.05140154826499167\n",
            "Epoch: 46 | Epoch Time: 0m 3s\n",
            "\t train elbo loss 11812.934937732054   | train kl loss 0.05194804219916315\n",
            "\t val  val elbo loss 4754.238920665923 | valid kl loss 0.05415986318673406\n",
            "Epoch: 47 | Epoch Time: 0m 3s\n",
            "\t train elbo loss 11813.277914217202   | train kl loss 0.05596186394000997\n",
            "\t val  val elbo loss 4754.311802455357 | valid kl loss 0.05796384092952524\n",
            "Epoch: 48 | Epoch Time: 0m 3s\n",
            "\t train elbo loss 11813.154219523514   | train kl loss 0.0575675593670642\n",
            "\t val  val elbo loss 4754.202683221726 | valid kl loss 0.05963540157037122\n",
            "Epoch: 49 | Epoch Time: 0m 2s\n",
            "\t train elbo loss 11812.669728496287   | train kl loss 0.05869768759106646\n",
            "\t val  val elbo loss 4754.426455543155 | valid kl loss 0.05910707318357059\n",
            "Epoch: 50 | Epoch Time: 0m 2s\n",
            "\t train elbo loss 11813.204111231436   | train kl loss 0.05884434968823254\n",
            "\t val  val elbo loss 4754.305047898066 | valid kl loss 0.06026221847250348\n",
            "Epoch: 51 | Epoch Time: 0m 2s\n",
            "\t train elbo loss 11812.885684173885   | train kl loss 0.05996645902200501\n",
            "\t val  val elbo loss 4754.340436662947 | valid kl loss 0.0616645539800326\n",
            "Epoch: 52 | Epoch Time: 0m 2s\n",
            "\t train elbo loss 11813.142181698639   | train kl loss 0.06172076896718233\n",
            "\t val  val elbo loss 4754.29790969122 | valid kl loss 0.06387442944660074\n",
            "Epoch: 53 | Epoch Time: 0m 2s\n",
            "\t train elbo loss 11813.115901531559   | train kl loss 0.06369921937584877\n",
            "\t val  val elbo loss 4754.315592447917 | valid kl loss 0.06553403900137969\n",
            "Epoch: 54 | Epoch Time: 0m 3s\n",
            "\t train elbo loss 11813.197913443688   | train kl loss 0.06581474608271429\n",
            "\t val  val elbo loss 4754.214390345982 | valid kl loss 0.06841456056350753\n",
            "Epoch: 55 | Epoch Time: 0m 3s\n",
            "\t train elbo loss 11813.004670095916   | train kl loss 0.06785983592271805\n",
            "\t val  val elbo loss 4754.175548735119 | valid kl loss 0.06931021534616039\n",
            "Epoch: 56 | Epoch Time: 0m 2s\n",
            "\t train elbo loss 11813.036722617575   | train kl loss 0.06979349004750204\n",
            "\t val  val elbo loss 4754.278273809524 | valid kl loss 0.07212251371570996\n",
            "Epoch: 57 | Epoch Time: 0m 3s\n",
            "\t train elbo loss 11813.320902305075   | train kl loss 0.071924937944306\n",
            "\t val  val elbo loss 4754.314348493303 | valid kl loss 0.07364904507994652\n",
            "Epoch: 58 | Epoch Time: 0m 3s\n",
            "\t train elbo loss 11812.96650680693   | train kl loss 0.07307710590781552\n",
            "\t val  val elbo loss 4754.348563058035 | valid kl loss 0.07448524963997659\n",
            "Epoch: 59 | Epoch Time: 0m 2s\n",
            "\t train elbo loss 11813.066705987005   | train kl loss 0.07426918637339432\n",
            "\t val  val elbo loss 4754.261160714285 | valid kl loss 0.07590250786216486\n",
            "Epoch: 60 | Epoch Time: 0m 2s\n",
            "\t train elbo loss 11813.08076461943   | train kl loss 0.07538576719194355\n",
            "\t val  val elbo loss 4754.174560546875 | valid kl loss 0.07839489541947842\n",
            "Epoch: 61 | Epoch Time: 0m 3s\n",
            "\t train elbo loss 11813.192392481436   | train kl loss 0.0784589940368539\n",
            "\t val  val elbo loss 4754.230596633184 | valid kl loss 0.08120435715786048\n",
            "Epoch: 62 | Epoch Time: 0m 2s\n",
            "\t train elbo loss 11813.064772199876   | train kl loss 0.07962316045961758\n",
            "\t val  val elbo loss 4754.27130998884 | valid kl loss 0.0803349529880853\n",
            "Epoch: 63 | Epoch Time: 0m 3s\n",
            "\t train elbo loss 11812.93714224938   | train kl loss 0.07852940962161167\n",
            "\t val  val elbo loss 4754.226981026785 | valid kl loss 0.07874164517436709\n",
            "Epoch: 64 | Epoch Time: 0m 3s\n",
            "\t train elbo loss 11813.201481280941   | train kl loss 0.07830846848169176\n",
            "\t val  val elbo loss 4754.318231491816 | valid kl loss 0.08124160988345033\n",
            "Epoch: 65 | Epoch Time: 0m 3s\n",
            "\t train elbo loss 11813.204817063737   | train kl loss 0.08085675847412337\n",
            "\t val  val elbo loss 4754.1948474702385 | valid kl loss 0.08367451040872506\n",
            "Epoch: 66 | Epoch Time: 0m 2s\n",
            "\t train elbo loss 11813.078850170174   | train kl loss 0.08262957964498217\n",
            "\t val  val elbo loss 4754.33050827753 | valid kl loss 0.08478761029740174\n",
            "Epoch: 67 | Epoch Time: 0m 3s\n",
            "\t train elbo loss 11813.193243347772   | train kl loss 0.0845982491748758\n",
            "\t val  val elbo loss 4754.2607654389885 | valid kl loss 0.0866623938615833\n",
            "Epoch: 68 | Epoch Time: 0m 2s\n",
            "\t train elbo loss 11813.208994043936   | train kl loss 0.08515341716385123\n",
            "\t val  val elbo loss 4754.2961658296135 | valid kl loss 0.08630304943237986\n",
            "Epoch: 69 | Epoch Time: 0m 2s\n",
            "\t train elbo loss 11813.003635519803   | train kl loss 0.0849913034846287\n",
            "\t val  val elbo loss 4754.362397693452 | valid kl loss 0.08683573844886962\n",
            "Epoch: 70 | Epoch Time: 0m 3s\n",
            "\t train elbo loss 11813.203763149753   | train kl loss 0.08568837228092817\n",
            "\t val  val elbo loss 4754.328020368303 | valid kl loss 0.08784770823660351\n",
            "Epoch: 71 | Epoch Time: 0m 2s\n",
            "\t train elbo loss 11813.152575804455   | train kl loss 0.08696775330175267\n",
            "\t val  val elbo loss 4754.150553385417 | valid kl loss 0.08868159788350265\n",
            "Epoch: 72 | Epoch Time: 0m 3s\n",
            "\t train elbo loss 11812.88582920792   | train kl loss 0.08699711423256609\n",
            "\t val  val elbo loss 4754.331449962798 | valid kl loss 0.08847363603611787\n",
            "Epoch: 73 | Epoch Time: 0m 3s\n",
            "\t train elbo loss 11813.117661277847   | train kl loss 0.08670630623208414\n",
            "\t val  val elbo loss 4754.264950706845 | valid kl loss 0.08810961645628725\n",
            "Epoch: 74 | Epoch Time: 0m 2s\n",
            "\t train elbo loss 11813.25044477104   | train kl loss 0.08640010474194394\n",
            "\t val  val elbo loss 4754.281436011905 | valid kl loss 0.0882181367349057\n",
            "Epoch: 75 | Epoch Time: 0m 3s\n",
            "\t train elbo loss 11812.755201887376   | train kl loss 0.08523244266905407\n",
            "\t val  val elbo loss 4754.274937220982 | valid kl loss 0.08623077214828559\n",
            "Epoch: 76 | Epoch Time: 0m 3s\n",
            "\t train elbo loss 11813.163898128094   | train kl loss 0.08562920710975581\n",
            "\t val  val elbo loss 4754.323893229167 | valid kl loss 0.08770761585661344\n",
            "Epoch: 77 | Epoch Time: 0m 2s\n",
            "\t train elbo loss 11812.68217241646   | train kl loss 0.08477867796722025\n",
            "\t val  val elbo loss 4754.321823846726 | valid kl loss 0.0861798119509504\n",
            "Epoch: 78 | Epoch Time: 0m 2s\n",
            "\t train elbo loss 11813.12366568688   | train kl loss 0.08481729591246878\n",
            "\t val  val elbo loss 4754.20947265625 | valid kl loss 0.08726590055794943\n",
            "Epoch: 79 | Epoch Time: 0m 3s\n",
            "\t train elbo loss 11813.045598700495   | train kl loss 0.08578348602398787\n",
            "\t val  val elbo loss 4754.299653552827 | valid kl loss 0.08784767337853\n",
            "Epoch: 80 | Epoch Time: 0m 3s\n",
            "\t train elbo loss 11813.100595606436   | train kl loss 0.08645673192078525\n",
            "\t val  val elbo loss 4754.2180408296135 | valid kl loss 0.08846104898977847\n",
            "Epoch: 81 | Epoch Time: 0m 3s\n",
            "\t train elbo loss 11813.128490485768   | train kl loss 0.08636399616699407\n",
            "\t val  val elbo loss 4754.279180617559 | valid kl loss 0.08843453095427581\n",
            "Epoch: 82 | Epoch Time: 0m 3s\n",
            "\t train elbo loss 11813.129650758045   | train kl loss 0.08777512846016648\n",
            "\t val  val elbo loss 4754.2470703125 | valid kl loss 0.08983441805910497\n",
            "Epoch: 83 | Epoch Time: 0m 3s\n",
            "\t train elbo loss 11813.040174427599   | train kl loss 0.08854788571301073\n",
            "\t val  val elbo loss 4754.371349516369 | valid kl loss 0.09108623117208481\n",
            "Epoch: 84 | Epoch Time: 0m 2s\n",
            "\t train elbo loss 11812.995223545791   | train kl loss 0.08985870003257648\n",
            "\t val  val elbo loss 4754.254022507441 | valid kl loss 0.09151741489768028\n",
            "Epoch: 85 | Epoch Time: 0m 3s\n",
            "\t train elbo loss 11812.856880414603   | train kl loss 0.08985565226561952\n",
            "\t val  val elbo loss 4754.318487258184 | valid kl loss 0.09199135883578233\n",
            "Epoch: 86 | Epoch Time: 0m 3s\n",
            "\t train elbo loss 11812.935537206064   | train kl loss 0.08903476308182914\n",
            "\t val  val elbo loss 4754.39208984375 | valid kl loss 0.0900185616420848\n",
            "Epoch: 87 | Epoch Time: 0m 3s\n",
            "\t train elbo loss 11812.822023901608   | train kl loss 0.08877017068685872\n",
            "\t val  val elbo loss 4754.377394903274 | valid kl loss 0.08973939495072478\n",
            "Epoch: 88 | Epoch Time: 0m 2s\n",
            "\t train elbo loss 11813.254824798885   | train kl loss 0.08862505904813804\n",
            "\t val  val elbo loss 4754.337506975447 | valid kl loss 0.09140846718634878\n",
            "Epoch: 89 | Epoch Time: 0m 3s\n",
            "\t train elbo loss 11812.918983988242   | train kl loss 0.08955856792554998\n",
            "\t val  val elbo loss 4754.309988839285 | valid kl loss 0.09125047700390929\n",
            "Epoch: 90 | Epoch Time: 0m 3s\n",
            "\t train elbo loss 11813.061262376237   | train kl loss 0.08977500168551313\n",
            "\t val  val elbo loss 4754.328810918899 | valid kl loss 0.09258116870408967\n",
            "Epoch: 91 | Epoch Time: 0m 2s\n",
            "\t train elbo loss 11812.920144260519   | train kl loss 0.0921173558229267\n",
            "\t val  val elbo loss 4754.297816685268 | valid kl loss 0.0942642583201329\n",
            "Epoch: 92 | Epoch Time: 0m 3s\n",
            "\t train elbo loss 11812.917204904084   | train kl loss 0.09138063127451604\n",
            "\t val  val elbo loss 4754.287853422619 | valid kl loss 0.09296217711553686\n",
            "Epoch: 93 | Epoch Time: 0m 3s\n",
            "\t train elbo loss 11813.12515470297   | train kl loss 0.0929571279868631\n",
            "\t val  val elbo loss 4754.258823939732 | valid kl loss 0.09522775720272746\n",
            "Epoch: 94 | Epoch Time: 0m 3s\n",
            "\t train elbo loss 11813.232624922648   | train kl loss 0.09292162943742063\n",
            "\t val  val elbo loss 4754.244582403274 | valid kl loss 0.09635345824062824\n",
            "Epoch: 95 | Epoch Time: 0m 2s\n",
            "\t train elbo loss 11812.981745049505   | train kl loss 0.09420204586764373\n",
            "\t val  val elbo loss 4754.232526506697 | valid kl loss 0.09491231798061303\n",
            "Epoch: 96 | Epoch Time: 0m 2s\n",
            "\t train elbo loss 11812.83345258354   | train kl loss 0.0916771404814012\n",
            "\t val  val elbo loss 4754.119256882441 | valid kl loss 0.09216701008734249\n",
            "Epoch: 97 | Epoch Time: 0m 2s\n",
            "\t train elbo loss 11813.022151531559   | train kl loss 0.09003527344453453\n",
            "\t val  val elbo loss 4754.248093377976 | valid kl loss 0.0916725532816989\n",
            "Epoch: 98 | Epoch Time: 0m 2s\n",
            "\t train elbo loss 11812.825591738861   | train kl loss 0.08939275514371324\n",
            "\t val  val elbo loss 4754.300339471726 | valid kl loss 0.09172268415845576\n",
            "Epoch: 99 | Epoch Time: 0m 2s\n",
            "\t train elbo loss 11812.93938544245   | train kl loss 0.08996629903074538\n",
            "\t val  val elbo loss 4754.333612351191 | valid kl loss 0.09204284855652423\n",
            "Epoch: 100 | Epoch Time: 0m 3s\n",
            "\t train elbo loss 11812.994981822401   | train kl loss 0.09110347041399172\n",
            "\t val  val elbo loss 4754.186628069197 | valid kl loss 0.09321388371643566\n"
          ],
          "name": "stdout"
        }
      ]
    },
    {
      "cell_type": "code",
      "metadata": {
        "id": "T77GWqiPglHK"
      },
      "source": [
        "# save the model\n",
        "MODEL_PATH = 'model.pth'\n",
        "torch.save(model, MODEL_PATH)"
      ],
      "execution_count": 34,
      "outputs": []
    },
    {
      "cell_type": "code",
      "metadata": {
        "colab": {
          "base_uri": "https://localhost:8080/",
          "height": 449
        },
        "id": "jaXDAlImgsUD",
        "outputId": "5de07d44-cec5-48c9-959b-6efcea7e7e7b"
      },
      "source": [
        "fig = plt.figure(figsize=(20,15))\n",
        "\n",
        "\n",
        "fig.add_subplot(2,2,1)\n",
        "plt.plot(list(range(0,len(history_elbo['train_elbo']))), history_elbo['train_elbo'],'r')\n",
        "plt.plot(list(range(0,len(history_elbo['test_elbo']))), history_elbo['test_elbo'],'g')\n",
        "plt.legend(['Train ELBO','Val ELBO'])\n",
        "plt.xlabel('EPOCH')\n",
        "plt.ylabel('Loss')\n",
        "plt.title('ELBO Loss')\n",
        "\n",
        "fig.add_subplot(2,2, 2)\n",
        "plt.plot(list(range(0,len(history_kl['train_kl']))), history_kl['train_kl'], 'r')\n",
        "plt.plot(list(range(0,len(history_kl['test_kl']))), history_kl['test_kl'],'g')\n",
        "plt.legend(['Train KL','Val KL'])\n",
        "plt.xlabel('EPOCH')\n",
        "plt.ylabel('Loss')\n",
        "plt.title('KL Loss')\n",
        "\n",
        "\n",
        "\n",
        "\n",
        "\n",
        "plt.show();\n",
        "\n"
      ],
      "execution_count": 35,
      "outputs": [
        {
          "output_type": "display_data",
          "data": {
            "image/png": "[encoded data removed]",
            "text/plain": [
              "<Figure size 1440x1080 with 2 Axes>"
            ]
          },
          "metadata": {
            "tags": [],
            "needs_background": "light"
          }
        }
      ]
    },
    {
      "cell_type": "code",
      "metadata": {
        "id": "4aoGYPvB0uaZ"
      },
      "source": [
        "def predict(model, dataset):\n",
        "    predictions = []\n",
        "    with torch.no_grad():\n",
        "        model = model.eval()\n",
        "    for t, X in enumerate(dataset):\n",
        "        X = X[0]\n",
        "        x = X.to(device)\n",
        "        #x = Variable(x, requires_grad = False)\n",
        "        x_hat, z_mu, z_var = model(x)\n",
        "        x_hat = x_hat.cpu().detach().numpy()\n",
        "        x_hat = np.squeeze(x_hat, axis=2)\n",
        "        predictions.append(x_hat)\n",
        "    predictions = np.concatenate(predictions, axis=0, out= None)\n",
        "    return predictions"
      ],
      "execution_count": 36,
      "outputs": []
    },
    {
      "cell_type": "code",
      "metadata": {
        "id": "pPJOw5Zo08go"
      },
      "source": [
        "predict_train = predict(model, train_loader)"
      ],
      "execution_count": 37,
      "outputs": []
    },
    {
      "cell_type": "code",
      "metadata": {
        "colab": {
          "base_uri": "https://localhost:8080/"
        },
        "id": "Ljrg6KlABdl7",
        "outputId": "bc9eadfd-4eda-4c8e-a775-18c07337b186"
      },
      "source": [
        "predict_train.shape"
      ],
      "execution_count": 38,
      "outputs": [
        {
          "output_type": "execute_result",
          "data": {
            "text/plain": [
              "(3232, 369)"
            ]
          },
          "metadata": {
            "tags": []
          },
          "execution_count": 38
        }
      ]
    },
    {
      "cell_type": "code",
      "metadata": {
        "id": "v2Lah1K51hnE"
      },
      "source": [
        "train_df = train_df[:3232]\n",
        "train_original = np.squeeze(train_df,axis=2)"
      ],
      "execution_count": 39,
      "outputs": []
    },
    {
      "cell_type": "code",
      "metadata": {
        "colab": {
          "base_uri": "https://localhost:8080/"
        },
        "id": "1J8rxFYOB64b",
        "outputId": "3b5fce11-c8ab-4fba-bede-fd118cd1a7bb"
      },
      "source": [
        "train_original.shape"
      ],
      "execution_count": 40,
      "outputs": [
        {
          "output_type": "execute_result",
          "data": {
            "text/plain": [
              "(3232, 369)"
            ]
          },
          "metadata": {
            "tags": []
          },
          "execution_count": 40
        }
      ]
    },
    {
      "cell_type": "code",
      "metadata": {
        "colab": {
          "base_uri": "https://localhost:8080/",
          "height": 319
        },
        "id": "UwGEUatk1o9F",
        "outputId": "27f373e9-86b4-4cf8-8978-26a1fcd5fbc8"
      },
      "source": [
        "train_sq_loss = np.mean(( train_original- predict_train)**2, axis=1)\n",
        "sns.distplot(train_sq_loss, bins=40, kde=True)\n",
        "plt.show()"
      ],
      "execution_count": 41,
      "outputs": [
        {
          "output_type": "stream",
          "text": [
            "/usr/local/lib/python3.7/dist-packages/seaborn/distributions.py:2557: FutureWarning: `distplot` is a deprecated function and will be removed in a future version. Please adapt your code to use either `displot` (a figure-level function with similar flexibility) or `histplot` (an axes-level function for histograms).\n",
            "  warnings.warn(msg, FutureWarning)\n"
          ],
          "name": "stderr"
        },
        {
          "output_type": "display_data",
          "data": {
            "image/png": "[encoded data removed]",
            "text/plain": [
              "<Figure size 432x288 with 1 Axes>"
            ]
          },
          "metadata": {
            "tags": [],
            "needs_background": "light"
          }
        }
      ]
    },
    {
      "cell_type": "code",
      "metadata": {
        "colab": {
          "base_uri": "https://localhost:8080/"
        },
        "id": "zAbDy_Wx1ynw",
        "outputId": "3106e339-fa60-4a10-f7c8-bef1d5bb0965"
      },
      "source": [
        "predict_test = predict(model, test_loader)\n",
        "predict_test.shape"
      ],
      "execution_count": 42,
      "outputs": [
        {
          "output_type": "execute_result",
          "data": {
            "text/plain": [
              "(224, 369)"
            ]
          },
          "metadata": {
            "tags": []
          },
          "execution_count": 42
        }
      ]
    },
    {
      "cell_type": "code",
      "metadata": {
        "colab": {
          "base_uri": "https://localhost:8080/",
          "height": 319
        },
        "id": "DnG7PA7pvxIA",
        "outputId": "a785f173-2af6-4fab-bdac-ac5a7cfbaba4"
      },
      "source": [
        "test_df=test_df[:224]\n",
        "test_original = np.squeeze(test_df,axis=2)\n",
        "test_sq_loss = np.mean(( test_original- predict_test)**2, axis=1)\n",
        "sns.distplot(test_sq_loss, bins=40, kde=True)\n",
        "plt.show()"
      ],
      "execution_count": 43,
      "outputs": [
        {
          "output_type": "stream",
          "text": [
            "/usr/local/lib/python3.7/dist-packages/seaborn/distributions.py:2557: FutureWarning: `distplot` is a deprecated function and will be removed in a future version. Please adapt your code to use either `displot` (a figure-level function with similar flexibility) or `histplot` (an axes-level function for histograms).\n",
            "  warnings.warn(msg, FutureWarning)\n"
          ],
          "name": "stderr"
        },
        {
          "output_type": "display_data",
          "data": {
            "image/png": "[encoded data removed]",
            "text/plain": [
              "<Figure size 432x288 with 1 Axes>"
            ]
          },
          "metadata": {
            "tags": [],
            "needs_background": "light"
          }
        }
      ]
    },
    {
      "cell_type": "code",
      "metadata": {
        "id": "wJq_g_uK18bM"
      },
      "source": [
        "\n",
        "# anomaly_dataset = TensorDataset(torch.from_numpy(anomaly_df).float())\n",
        "# anomaly_loader = DataLoader(anomaly_dataset, batch_size=batch_size, pin_memory=cuda,drop_last=True)\n",
        "predict_anomaly = predict(model, anomaly_loader)"
      ],
      "execution_count": 44,
      "outputs": []
    },
    {
      "cell_type": "code",
      "metadata": {
        "colab": {
          "base_uri": "https://localhost:8080/"
        },
        "id": "rFjIAUvEoC9n",
        "outputId": "927b00e2-635e-4087-eda8-94bba68fb7d3"
      },
      "source": [
        "predict_anomaly.shape"
      ],
      "execution_count": 45,
      "outputs": [
        {
          "output_type": "execute_result",
          "data": {
            "text/plain": [
              "(160, 369)"
            ]
          },
          "metadata": {
            "tags": []
          },
          "execution_count": 45
        }
      ]
    },
    {
      "cell_type": "code",
      "metadata": {
        "id": "KhCybFsyyqCg"
      },
      "source": [
        "anomaly_df = anomaly_df[:160]"
      ],
      "execution_count": 46,
      "outputs": []
    },
    {
      "cell_type": "code",
      "metadata": {
        "colab": {
          "base_uri": "https://localhost:8080/",
          "height": 319
        },
        "id": "AOtqquZlEegY",
        "outputId": "6e9034da-1c19-49a3-e804-56ff7367ded5"
      },
      "source": [
        "anomaly_sq_loss = np.mean(( np.squeeze(anomaly_df) - predict_anomaly)**2, axis=1)\n",
        "sns.distplot(anomaly_sq_loss, bins=20, kde=True)\n",
        "plt.show()"
      ],
      "execution_count": 47,
      "outputs": [
        {
          "output_type": "stream",
          "text": [
            "/usr/local/lib/python3.7/dist-packages/seaborn/distributions.py:2557: FutureWarning: `distplot` is a deprecated function and will be removed in a future version. Please adapt your code to use either `displot` (a figure-level function with similar flexibility) or `histplot` (an axes-level function for histograms).\n",
            "  warnings.warn(msg, FutureWarning)\n"
          ],
          "name": "stderr"
        },
        {
          "output_type": "display_data",
          "data": {
            "image/png": "[encoded data removed]",
            "text/plain": [
              "<Figure size 432x288 with 1 Axes>"
            ]
          },
          "metadata": {
            "tags": [],
            "needs_background": "light"
          }
        }
      ]
    },
    {
      "cell_type": "code",
      "metadata": {
        "id": "TCnz2u-1J0K7"
      },
      "source": [
        "threshold_fixed = 0.4"
      ],
      "execution_count": null,
      "outputs": []
    },
    {
      "cell_type": "code",
      "metadata": {
        "id": "9ZQzyw1nhpXr"
      },
      "source": [
        "def plot_prediction(data, reconstructed, title, ax):\n",
        "  ax.plot(data,'r', label='true')\n",
        "  ax.plot(reconstructed, 'b',label='reconstructed')\n",
        "  ax.set_title(f'{title} (Total loss: {np.around(np.mean(( data- reconstructed)**2), 2)})')\n",
        "  ax.legend()"
      ],
      "execution_count": 48,
      "outputs": []
    },
    {
      "cell_type": "code",
      "metadata": {
        "colab": {
          "base_uri": "https://localhost:8080/",
          "height": 585
        },
        "id": "tgSvMnRwhuGL",
        "outputId": "e4055401-49b1-49b9-ce0a-63ff1bf5966b"
      },
      "source": [
        "fig, axs = plt.subplots(nrows=2,ncols=6,sharey=True,sharex=True,figsize=(22, 8))\n",
        "\n",
        "for i, data in enumerate(test_original[:6]):\n",
        "  plot_prediction(data, predict_test[i], title='Normal', ax=axs[0, i])\n",
        "\n",
        "for i, data in enumerate(anomaly_df[:6]):\n",
        "  plot_prediction(data, predict_anomaly[i], title='Anomaly', ax=axs[1, i])\n",
        "\n",
        "fig.tight_layout();\n",
        "#plt.savefig('/content/drive/MyDrive/AdvancedML/data/green_recon.png')"
      ],
      "execution_count": 49,
      "outputs": [
        {
          "output_type": "display_data",
          "data": {
            "image/png": "[encoded data removed]",
            "text/plain": [
              "<Figure size 1584x576 with 12 Axes>"
            ]
          },
          "metadata": {
            "tags": [],
            "needs_background": "light"
          }
        }
      ]
    },
    {
      "cell_type": "code",
      "metadata": {
        "colab": {
          "base_uri": "https://localhost:8080/"
        },
        "id": "RAwebGjSVLcI",
        "outputId": "fdd0598b-7a14-4b3a-8f86-40de4979b38c"
      },
      "source": [
        "len(anomaly_sq_loss)"
      ],
      "execution_count": null,
      "outputs": [
        {
          "output_type": "execute_result",
          "data": {
            "text/plain": [
              "128"
            ]
          },
          "metadata": {
            "tags": []
          },
          "execution_count": 117
        }
      ]
    },
    {
      "cell_type": "code",
      "metadata": {
        "colab": {
          "base_uri": "https://localhost:8080/",
          "height": 111
        },
        "id": "RplRhj-PTna5",
        "outputId": "7a90998d-d308-4193-f8cd-c843ed8fee48"
      },
      "source": [
        "label = np.concatenate((np.ones(len(test_sq_loss)),np.zeros(len(test_sq_loss))))\n",
        "#total_losses = np.concatenate((train_sq_loss,anomaly_sq_loss),axis=0)\n",
        "total_losses = np.concatenate((test_sq_loss,np.random.choice(anomaly_sq_loss, len(test_sq_loss),replace=True)),axis=0)\n",
        "error_df = pd.DataFrame({'Reconstruction_error': total_losses,'Label':label})\n",
        "#error_df = error_df.sample(frac=1)\n",
        "error_df.head(2)"
      ],
      "execution_count": null,
      "outputs": [
        {
          "output_type": "execute_result",
          "data": {
            "text/html": [
              "<div>\n",
              "<style scoped>\n",
              "    .dataframe tbody tr th:only-of-type {\n",
              "        vertical-align: middle;\n",
              "    }\n",
              "\n",
              "    .dataframe tbody tr th {\n",
              "        vertical-align: top;\n",
              "    }\n",
              "\n",
              "    .dataframe thead th {\n",
              "        text-align: right;\n",
              "    }\n",
              "</style>\n",
              "<table border=\"1\" class=\"dataframe\">\n",
              "  <thead>\n",
              "    <tr style=\"text-align: right;\">\n",
              "      <th></th>\n",
              "      <th>Reconstruction_error</th>\n",
              "      <th>Label</th>\n",
              "    </tr>\n",
              "  </thead>\n",
              "  <tbody>\n",
              "    <tr>\n",
              "      <th>0</th>\n",
              "      <td>0.726157</td>\n",
              "      <td>1.0</td>\n",
              "    </tr>\n",
              "    <tr>\n",
              "      <th>1</th>\n",
              "      <td>0.561356</td>\n",
              "      <td>1.0</td>\n",
              "    </tr>\n",
              "  </tbody>\n",
              "</table>\n",
              "</div>"
            ],
            "text/plain": [
              "   Reconstruction_error  Label\n",
              "0              0.726157    1.0\n",
              "1              0.561356    1.0"
            ]
          },
          "metadata": {
            "tags": []
          },
          "execution_count": 153
        }
      ]
    },
    {
      "cell_type": "code",
      "metadata": {
        "colab": {
          "base_uri": "https://localhost:8080/",
          "height": 496
        },
        "id": "8jdj_QW-J4FF",
        "outputId": "841746d5-6ae0-4f59-dde9-90ca4428fdbe"
      },
      "source": [
        "pred_y = [0 if e > threshold_fixed else 1 for e in error_df.Reconstruction_error.values]\n",
        "conf_matrix = confusion_matrix(error_df.Label, pred_y)\n",
        "plt.figure(figsize=(10, 8))\n",
        "sns.heatmap(conf_matrix, xticklabels=[], yticklabels=[], annot=True, fmt=\"d\");\n",
        "plt.title(\"Confusion matrix\")\n",
        "plt.ylabel('True class')\n",
        "plt.xlabel('Predicted class')\n",
        "plt.show()\n",
        "#plt.savefig('/content/drive/MyDrive/AdvancedML/data/CM_green.png')\n"
      ],
      "execution_count": null,
      "outputs": [
        {
          "output_type": "display_data",
          "data": {
            "image/png": "[encoded data removed]",
            "text/plain": [
              "<Figure size 720x576 with 2 Axes>"
            ]
          },
          "metadata": {
            "tags": [],
            "needs_background": "light"
          }
        }
      ]
    },
    {
      "cell_type": "code",
      "metadata": {
        "id": "Xc_-KaGDC-nM"
      },
      "source": [
        "TN = conf_matrix[0][0]\n",
        "FN = conf_matrix[1][0]\n",
        "TP = conf_matrix[1][1]\n",
        "FP = conf_matrix[0][1]"
      ],
      "execution_count": null,
      "outputs": []
    },
    {
      "cell_type": "code",
      "metadata": {
        "colab": {
          "base_uri": "https://localhost:8080/"
        },
        "id": "g3YaPVAUDJ-n",
        "outputId": "3d7a55f1-e25b-4f82-f3a6-9030ab52757e"
      },
      "source": [
        "precision = TP/(TP+FP)\n",
        "recall = TP/(TP+FN)\n",
        "print('Precision',precision)\n",
        "print('Recall',recall)"
      ],
      "execution_count": null,
      "outputs": [
        {
          "output_type": "stream",
          "text": [
            "Precision 0.38372093023255816\n",
            "Recall 0.171875\n"
          ],
          "name": "stdout"
        }
      ]
    },
    {
      "cell_type": "code",
      "metadata": {
        "colab": {
          "base_uri": "https://localhost:8080/",
          "height": 312
        },
        "id": "e-wZm3-eACxc",
        "outputId": "6bbb7d2f-0704-425c-e675-6fa44a63408b"
      },
      "source": [
        "false_pos_rate, true_pos_rate, thresholds = roc_curve(error_df.Label, pred_y)\n",
        "roc_auc = auc(false_pos_rate, true_pos_rate,)\n",
        "plt.plot(false_pos_rate, true_pos_rate, linewidth=2, label='AUC = %0.3f'% roc_auc)\n",
        "plt.plot([0,1],[0,1], linewidth=2)\n",
        "plt.xlim([-0.01, 1])\n",
        "plt.ylim([0, 1.01])\n",
        "plt.legend(loc='lower right')\n",
        "plt.title('Receiver operating characteristic curve (ROC)')\n",
        "plt.ylabel('True Positive Rate')\n",
        "plt.xlabel('False Positive Rate')\n",
        "plt.show()\n",
        "plt.savefig('/content/drive/MyDrive/AdvancedML/data/ROC_green.png')"
      ],
      "execution_count": null,
      "outputs": [
        {
          "output_type": "display_data",
          "data": {
            "image/png": "[encoded data removed]",
            "text/plain": [
              "<Figure size 432x288 with 1 Axes>"
            ]
          },
          "metadata": {
            "tags": [],
            "needs_background": "light"
          }
        },
        {
          "output_type": "display_data",
          "data": {
            "text/plain": [
              "<Figure size 432x288 with 0 Axes>"
            ]
          },
          "metadata": {
            "tags": []
          }
        }
      ]
    },
    {
      "cell_type": "code",
      "metadata": {
        "id": "YU3YUw0_HF1W"
      },
      "source": [
        ""
      ],
      "execution_count": null,
      "outputs": []
    }
  ]
}