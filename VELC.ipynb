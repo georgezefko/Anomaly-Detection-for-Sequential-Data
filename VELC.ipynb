{
  "nbformat": 4,
  "nbformat_minor": 0,
  "metadata": {
    "colab": {
      "name": "AML_VAE.ipynb",
      "provenance": [],
      "machine_shape": "hm",
      "authorship_tag": "ABX9TyPHyZeK3sHck1SFN6eN6/aH",
      "include_colab_link": true
    },
    "kernelspec": {
      "name": "python3",
      "display_name": "Python 3"
    },
    "language_info": {
      "name": "python"
    },
    "accelerator": "GPU"
  },
  "cells": [
    {
      "cell_type": "markdown",
      "metadata": {
        "id": "view-in-github",
        "colab_type": "text"
      },
      "source": [
        "<a href=\"https://colab.research.google.com/github/georgezefko/Anomaly-Detection-for-Sequential-Data/blob/main/VELC.ipynb\" target=\"_parent\"><img src=\"https://colab.research.google.com/assets/colab-badge.svg\" alt=\"Open In Colab\"/></a>"
      ]
    },
    {
      "cell_type": "code",
      "metadata": {
        "id": "gSmcjEonkIH3",
        "colab": {
          "base_uri": "https://localhost:8080/"
        },
        "outputId": "e8faab1e-f820-4a90-fe66-cb58c56d1522"
      },
      "source": [
        "from google.colab import drive\n",
        "drive.mount('/content/drive', force_remount=True)"
      ],
      "execution_count": null,
      "outputs": [
        {
          "output_type": "stream",
          "text": [
            "Mounted at /content/drive\n"
          ],
          "name": "stdout"
        }
      ]
    },
    {
      "cell_type": "code",
      "metadata": {
        "id": "mUyh7zCf9D8Y"
      },
      "source": [
        "import numpy as np\n",
        "import torch\n",
        "from torch import nn, optim\n",
        "from torch import distributions\n",
        "from torch.utils.data import DataLoader, TensorDataset\n",
        "\n",
        "from torch.autograd import Variable\n",
        "import os\n",
        "import numpy as np\n",
        "from random import randint\n",
        "import os\n",
        "import matplotlib.pyplot as plt\n",
        "import pandas as pd\n",
        "from sklearn.model_selection import train_test_split\n",
        "import copy\n",
        "from torch.nn.parameter import Parameter\n",
        "import math\n",
        "from torch.nn import functional as F"
      ],
      "execution_count": null,
      "outputs": []
    },
    {
      "cell_type": "code",
      "metadata": {
        "id": "a4AY7fJy9JvZ"
      },
      "source": [
        "\n",
        "#Heartbeat data - getting good results\n",
        "data_train = np.loadtxt('/content/drive/MyDrive/AdvancedML/data/ECG5000/ECG5000_TRAIN', delimiter=',')\n",
        "data_test_val = np.loadtxt('/content/drive/MyDrive/AdvancedML/data/ECG5000/ECG5000_TEST', delimiter=',')[:-1]\n",
        "\n",
        "#Gun motion data- very bad results could be due to low amount of data\n",
        "# data_train = np.loadtxt('/content/drive/MyDrive/AdvancedML/data/GunPointAgeSpan/GunPointAgeSpan_TRAIN.txt')\n",
        "# data_test_val = np.loadtxt('/content/drive/MyDrive/AdvancedML/data/GunPointAgeSpan/GunPointAgeSpan_TEST.txt')\n",
        "\n",
        "#Modestrain data- quite good results\n",
        "# data_train = np.loadtxt('/content/drive/MyDrive/AdvancedML/data/MoteStrain/MoteStrain_TRAIN.txt')\n",
        "# data_test_val = np.loadtxt('/content/drive/MyDrive/AdvancedML/data/MoteStrain/MoteStrain_TEST.txt')\n"
      ],
      "execution_count": null,
      "outputs": []
    },
    {
      "cell_type": "code",
      "metadata": {
        "colab": {
          "base_uri": "https://localhost:8080/"
        },
        "id": "mXtojPwNLbiN",
        "outputId": "084a41d4-20eb-4554-fbc6-cddd17144fed"
      },
      "source": [
        "data_test_val.shape"
      ],
      "execution_count": null,
      "outputs": [
        {
          "output_type": "execute_result",
          "data": {
            "text/plain": [
              "(4499, 141)"
            ]
          },
          "metadata": {
            "tags": []
          },
          "execution_count": 66
        }
      ]
    },
    {
      "cell_type": "code",
      "metadata": {
        "id": "ywmjqUPV9M7H"
      },
      "source": [
        "data = np.concatenate((data_train, data_test_val), axis=0)\n"
      ],
      "execution_count": null,
      "outputs": []
    },
    {
      "cell_type": "code",
      "metadata": {
        "colab": {
          "base_uri": "https://localhost:8080/"
        },
        "id": "e_Ya28yLL42C",
        "outputId": "b95ce370-c18f-4ce4-c3df-bc7ebf5fe67b"
      },
      "source": [
        "data"
      ],
      "execution_count": null,
      "outputs": [
        {
          "output_type": "execute_result",
          "data": {
            "text/plain": [
              "array([[ 2.        ,  0.39814982,  0.50392146, ...,  0.21030731,\n",
              "         0.25998274,  0.28884552],\n",
              "       [ 2.        , -1.094367  , -1.2513069 , ...,  0.17415317,\n",
              "         0.28896389,  0.36294778],\n",
              "       [ 1.        ,  0.08169988,  0.05757971, ...,  0.12222389,\n",
              "         0.05352738,  0.02381132],\n",
              "       ...,\n",
              "       [ 2.        , -0.1283685 ,  0.02047697, ..., -0.11498284,\n",
              "        -0.15348808, -0.18251942],\n",
              "       [ 2.        , -0.13709822, -0.06932104, ...,  0.24394948,\n",
              "         0.25794406,  0.26727318],\n",
              "       [ 2.        , -1.3622416 , -1.4250535 , ...,  0.27430696,\n",
              "         0.31493025,  0.36523984]])"
            ]
          },
          "metadata": {
            "tags": []
          },
          "execution_count": 81
        }
      ]
    },
    {
      "cell_type": "code",
      "metadata": {
        "id": "y1bkTK9L9T-9"
      },
      "source": [
        "df = pd.DataFrame(data)\n",
        "new_columns = list(df.columns)\n",
        "new_columns[0] = 'target'\n",
        "df.columns = new_columns\n",
        "df.target = [int(i) for i in df.target]"
      ],
      "execution_count": null,
      "outputs": []
    },
    {
      "cell_type": "code",
      "metadata": {
        "colab": {
          "base_uri": "https://localhost:8080/"
        },
        "id": "UkshrkNh9V1V",
        "outputId": "aa4ec36f-5834-48f7-9b98-0931e2f99ba3"
      },
      "source": [
        "df.target.value_counts()"
      ],
      "execution_count": null,
      "outputs": [
        {
          "output_type": "execute_result",
          "data": {
            "text/plain": [
              "1    5546\n",
              "2    3356\n",
              "4     369\n",
              "3     182\n",
              "5      46\n",
              "Name: target, dtype: int64"
            ]
          },
          "metadata": {
            "tags": []
          },
          "execution_count": 35
        }
      ]
    },
    {
      "cell_type": "code",
      "metadata": {
        "colab": {
          "base_uri": "https://localhost:8080/"
        },
        "id": "Mb961EC79Wbn",
        "outputId": "5e67a250-e770-4c9b-8f24-4d3c8e00aab1"
      },
      "source": [
        "normal_df = df[df.target == 1].drop(labels='target', axis=1)\n",
        "normal_df.shape"
      ],
      "execution_count": null,
      "outputs": [
        {
          "output_type": "execute_result",
          "data": {
            "text/plain": [
              "(5546, 140)"
            ]
          },
          "metadata": {
            "tags": []
          },
          "execution_count": 6
        }
      ]
    },
    {
      "cell_type": "code",
      "metadata": {
        "colab": {
          "base_uri": "https://localhost:8080/"
        },
        "id": "rGewroUT9cPC",
        "outputId": "4cb033df-b403-4f87-efc2-bd2dba68e2c0"
      },
      "source": [
        "anomaly_df = df[df.target != 1].drop(labels='target', axis=1)\n",
        "anomaly_df.shape"
      ],
      "execution_count": null,
      "outputs": [
        {
          "output_type": "execute_result",
          "data": {
            "text/plain": [
              "(3953, 140)"
            ]
          },
          "metadata": {
            "tags": []
          },
          "execution_count": 7
        }
      ]
    },
    {
      "cell_type": "code",
      "metadata": {
        "id": "mOd5-nCU-sJ8"
      },
      "source": [
        "# normal = pd.read_csv('/content/drive/MyDrive/AdvancedML/data/normal_df.csv')\n",
        "# anomaly = pd.read_csv('/content/drive/MyDrive/AdvancedML/data/anomaly_df.csv')"
      ],
      "execution_count": null,
      "outputs": []
    },
    {
      "cell_type": "code",
      "metadata": {
        "id": "zo3WTN8Q9hJK"
      },
      "source": [
        "RANDOM_SEED = 42\n",
        "train_df, val_df = train_test_split(normal_df,test_size=0.15,random_state=RANDOM_SEED)\n",
        "\n",
        "val_df, test_df = train_test_split(val_df,test_size=0.33,random_state=RANDOM_SEED)"
      ],
      "execution_count": null,
      "outputs": []
    },
    {
      "cell_type": "code",
      "metadata": {
        "id": "4RinnTf_9pbX"
      },
      "source": [
        "def create_dataset(df):\n",
        "\n",
        "  sequences = df.astype(np.float32).to_numpy().tolist()\n",
        "\n",
        "  dataset = [torch.tensor(s).unsqueeze(1).float() for s in sequences]\n",
        "\n",
        "  n_seq, seq_len, n_features = torch.stack(dataset).shape\n",
        "\n",
        "  return dataset, seq_len, n_features"
      ],
      "execution_count": null,
      "outputs": []
    },
    {
      "cell_type": "code",
      "metadata": {
        "id": "JmPUpDKF9r9L"
      },
      "source": [
        "train_dataset, seq_len, n_features = create_dataset(train_df)\n",
        "val_dataset, _, _ = create_dataset(val_df)\n",
        "test_normal_dataset, _, _ = create_dataset(test_df)\n",
        "test_anomaly_dataset, _, _ = create_dataset(anomaly_df)"
      ],
      "execution_count": null,
      "outputs": []
    },
    {
      "cell_type": "code",
      "metadata": {
        "id": "FWBqtQZI9u2C"
      },
      "source": [
        "device = torch.device(\"cuda\" if torch.cuda.is_available() else \"cpu\")"
      ],
      "execution_count": null,
      "outputs": []
    },
    {
      "cell_type": "code",
      "metadata": {
        "id": "wFAIS1wX9zV2"
      },
      "source": [
        "class Encoder(nn.Module):\n",
        "\n",
        "  def __init__(self, seq_len, n_features, latent_features, dropout, latent_dim):\n",
        "\n",
        "    super(Encoder,self).__init__()\n",
        "\n",
        "\n",
        "    self.seq_len = seq_len\n",
        "    self.n_features = n_features\n",
        "    self.latent_dim = latent_dim\n",
        "    self.hidden_dim = 2 * latent_dim\n",
        "    self.latent_features = latent_features\n",
        "\n",
        "\n",
        "    # self.rnn1 = nn.GRU( input_size=self.n_features, hidden_size=self.hidden_dim, dropout = dropout, num_layers=1,batch_first=True)\n",
        "    # self.rnn2 = nn.GRU( input_size=self.hidden_dim, hidden_size= self.latent_dim, dropout = dropout, num_layers=1, batch_first=True)\n",
        "    self.rnn1 = nn.LSTM( input_size=self.n_features, hidden_size=self.hidden_dim, dropout = dropout, num_layers=1,batch_first=True)\n",
        "    self.rnn2 = nn.LSTM( input_size=self.hidden_dim, hidden_size= self.latent_dim, dropout = dropout, num_layers=1, batch_first=True)\n",
        "\n",
        "    self.fc = nn.Linear(self.latent_dim, self.hidden_dim )\n",
        "\n",
        "    self.mu = nn.Linear(self.hidden_dim, self.latent_features)\n",
        "    self.var = nn.Linear(self.hidden_dim, self.latent_features)\n",
        "\n",
        "\n",
        "  def forward(self, x):\n",
        "    \n",
        "    x = x.reshape((1, self.seq_len, self.n_features))\n",
        "\n",
        "    # h0 = torch.zeros(1, x.size(0), self.hidden_dim) #GRU\n",
        "\n",
        "    # out, _ = self.rnn1(x, h0) #GRU\n",
        "\n",
        "    # out, hidden_n = self.rnn2(out) #GRU\n",
        "    \n",
        "    x, (_, _) = self.rnn1(x)\n",
        "    \n",
        "    x, (hidden_n, _) = self.rnn2(x)\n",
        "    \n",
        "    hidden = self.fc(hidden_n.reshape((self.n_features, self.latent_dim)))\n",
        "\n",
        "    z_mu = self.mu(hidden)\n",
        "    z_var = self.var(hidden)\n",
        "\n",
        "    return z_mu, z_var\n",
        "\n"
      ],
      "execution_count": null,
      "outputs": []
    },
    {
      "cell_type": "code",
      "metadata": {
        "id": "QiM1LVOQ93I_"
      },
      "source": [
        "\n",
        "class Decoder(nn.Module):\n",
        "\n",
        "  def __init__(self, seq_len, input_dim, n_features,dropout):\n",
        "    super(Decoder, self).__init__()\n",
        "\n",
        "    self.seq_len, self.input_dim = seq_len, input_dim\n",
        "    self.hidden_dim, self.n_features = 2 * input_dim, n_features\n",
        "\n",
        "    # self.rnn1 = nn.GRU(input_size=self.input_dim,hidden_size=self.input_dim, dropout = dropout,num_layers=1,batch_first=True)\n",
        "    # self.rnn2 = nn.GRU(input_size=self.input_dim,hidden_size=self.hidden_dim,dropout=dropout,num_layers=1,batch_first=True)\n",
        "\n",
        "    self.rnn1 = nn.LSTM(input_size=self.input_dim,hidden_size=self.input_dim, dropout = dropout,num_layers=1,batch_first=True)\n",
        "    self.rnn2 = nn.LSTM(input_size=self.input_dim,hidden_size=self.hidden_dim,dropout=dropout,num_layers=1,batch_first=True)\n",
        "\n",
        "\n",
        "    self.output_layer = nn.Linear(self.hidden_dim, n_features)\n",
        "\n",
        "  def forward(self, x):\n",
        "    x = x.repeat(self.seq_len, self.n_features)\n",
        "    \n",
        "    x = x.reshape((self.n_features, self.seq_len, self.input_dim))\n",
        "\n",
        "    x, (hidden_n, cell_n) = self.rnn1(x)\n",
        "    x, (hidden_n, cell_n) = self.rnn2(x)\n",
        "    \n",
        "    x = x.reshape((self.seq_len, self.hidden_dim))\n",
        "\n",
        "    return self.output_layer(x)"
      ],
      "execution_count": null,
      "outputs": []
    },
    {
      "cell_type": "code",
      "metadata": {
        "id": "8TPkgTzVtpFG"
      },
      "source": [
        "class Rencoder(nn.Module):\n",
        "\n",
        "  def __init__(self, seq_len, n_features, latent_features, dropout, latent_dim):\n",
        "\n",
        "    super(Rencoder,self).__init__()\n",
        "\n",
        "\n",
        "    self.seq_len = seq_len\n",
        "    self.n_features = n_features\n",
        "    self.latent_dim = latent_dim\n",
        "    self.hidden_dim = 2 * latent_dim\n",
        "    self.latent_features = latent_features\n",
        "\n",
        "\n",
        "    # self.rnn1 = nn.GRU( input_size=self.n_features, hidden_size=self.hidden_dim, dropout = dropout, num_layers=1,batch_first=True)\n",
        "    # self.rnn2 = nn.GRU( input_size=self.hidden_dim, hidden_size= self.latent_dim, dropout = dropout, num_layers=1, batch_first=True)\n",
        "    self.rnn1 = nn.LSTM( input_size=self.n_features, hidden_size=self.hidden_dim, dropout = dropout, num_layers=1,batch_first=True)\n",
        "    self.rnn2 = nn.LSTM( input_size=self.hidden_dim, hidden_size= self.latent_dim, dropout = dropout, num_layers=1, batch_first=True)\n",
        "\n",
        "    self.fc = nn.Linear(self.latent_dim, self.hidden_dim )\n",
        "\n",
        "    self.mu = nn.Linear(self.hidden_dim, self.latent_features)\n",
        "    self.var = nn.Linear(self.hidden_dim, self.latent_features)\n",
        "\n",
        "\n",
        "  def forward(self, x):\n",
        "    \n",
        "    x = x.reshape((1, self.seq_len, self.n_features))\n",
        "\n",
        "    # h0 = torch.zeros(1, x.size(0), self.hidden_dim) #GRU\n",
        "\n",
        "    # out, _ = self.rnn1(x, h0) #GRU\n",
        "\n",
        "    # out, hidden_n = self.rnn2(out) #GRU\n",
        "    \n",
        "    x, (_, _) = self.rnn1(x)\n",
        "    \n",
        "    x, (hidden_n, _) = self.rnn2(x)\n",
        "    \n",
        "    hidden = self.fc(hidden_n.reshape((self.n_features, self.latent_dim)))\n",
        "\n",
        "    z_mu = self.mu(hidden)\n",
        "    z_var = self.var(hidden)\n",
        "\n",
        "    return z_mu, z_var\n",
        "\n"
      ],
      "execution_count": null,
      "outputs": []
    },
    {
      "cell_type": "code",
      "metadata": {
        "id": "bI_SCx1Zizqn"
      },
      "source": [
        "class MemoryUnit(nn.Module):\n",
        "    def __init__(self, mem_dim, fea_dim, shrink_thres=0.0025):\n",
        "        super(MemoryUnit, self).__init__()\n",
        "        self.mem_dim = mem_dim\n",
        "        self.fea_dim = fea_dim\n",
        "        self.weight = Parameter(torch.Tensor(self.mem_dim, self.fea_dim))  # M x C\n",
        "        self.bias = None\n",
        "        self.shrink_thres= shrink_thres\n",
        "        # self.hard_sparse_shrink_opt = nn.Hardshrink(lambd=shrink_thres)\n",
        "\n",
        "        self.reset_parameters()\n",
        "\n",
        "    def reset_parameters(self):\n",
        "        stdv = 1. / math.sqrt(self.weight.size(1))\n",
        "        self.weight.data.uniform_(-stdv, stdv)\n",
        "        if self.bias is not None:\n",
        "            self.bias.data.uniform_(-stdv, stdv)\n",
        "\n",
        "    def forward(self, input):\n",
        "        att_weight = F.linear(input, self.weight)  # Fea x Mem^T, (TxC) x (CxM) = TxM\n",
        "        att_weight = F.softmax(att_weight, dim=1)  # TxM (maybe coisine similarity instead of softmax)\n",
        "        # ReLU based shrinkage, hard shrinkage for positive value\n",
        "        if(self.shrink_thres>0):\n",
        "            att_weight = hard_shrink_relu(att_weight, lambd=self.shrink_thres)\n",
        "            # att_weight = F.softshrink(att_weight, lambd=self.shrink_thres)\n",
        "            # normalize???\n",
        "            att_weight = F.normalize(att_weight, p=1, dim=1)\n",
        "            # att_weight = F.softmax(att_weight, dim=1)\n",
        "            # att_weight = self.hard_sparse_shrink_opt(att_weight)\n",
        "        mem_trans = self.weight.permute(1, 0)  # Mem^T, MxC\n",
        "        output = F.linear(att_weight, mem_trans)  # AttWeight x Mem^T^T = AW x Mem, (TxM) x (MxC) = TxC\n",
        "        return {'output': output, 'att': att_weight}  # output, att_weight\n",
        "\n",
        "    def extra_repr(self):\n",
        "        return 'mem_dim={}, fea_dim={}'.format(\n",
        "            self.mem_dim, self.fea_dim is not None\n",
        "        )\n"
      ],
      "execution_count": null,
      "outputs": []
    },
    {
      "cell_type": "code",
      "metadata": {
        "id": "8fYS3pgzyMMf"
      },
      "source": [
        "class MemModule(nn.Module):\n",
        "    def __init__(self, mem_dim, fea_dim, shrink_thres=0.0025, device='cuda'):\n",
        "        super(MemModule, self).__init__()\n",
        "        self.mem_dim = mem_dim\n",
        "        self.fea_dim = fea_dim\n",
        "        self.shrink_thres = shrink_thres\n",
        "        self.memory = MemoryUnit(self.mem_dim, self.fea_dim, self.shrink_thres)\n",
        "\n",
        "    def forward(self, input):\n",
        "        s = input.data.shape\n",
        "        \n",
        "        l = len(s)\n",
        "        \n",
        "\n",
        "        if l == 2:\n",
        "            x = input.permute(0, 1) \n",
        "        #print('permute:',x)\n",
        "        elif l == 3:\n",
        "            x = input.permute(0, 2, 1)\n",
        "        elif l == 4:\n",
        "            x = input.permute(0, 2, 3, 1)\n",
        "        elif l == 5:\n",
        "            x = input.permute(0, 2, 3, 4, 1)\n",
        "        else:\n",
        "            x = []\n",
        "            print('wrong feature map size')\n",
        "        x = input.contiguous()\n",
        "        x = x.view(-1, s[1])\n",
        "      \n",
        "        #\n",
        "        y_and = self.memory(x)\n",
        "        #\n",
        "        y = y_and['output']\n",
        "     \n",
        "        att = y_and['att']\n",
        "\n",
        "\n",
        "        if l==2:\n",
        "            y = y.view(s[0], s[1])\n",
        "            y = y.permute(0, 1)\n",
        "            att = att.view(s[0], self.mem_dim)\n",
        "            att = att.permute(0, 1)\n",
        "\n",
        "        elif l == 3:\n",
        "            y = y.view(s[0], s[2], s[1])\n",
        "            y = y.permute(0, 2, 1)\n",
        "            att = att.view(s[0], s[2], self.mem_dim)\n",
        "            att = att.permute(0, 2, 1)\n",
        "        elif l == 4:\n",
        "            y = y.view(s[0], s[2], s[3], s[1])\n",
        "            y = y.permute(0, 3, 1, 2)\n",
        "            att = att.view(s[0], s[2], s[3], self.mem_dim)\n",
        "            att = att.permute(0, 3, 1, 2)\n",
        "        elif l == 5:\n",
        "            y = y.view(s[0], s[2], s[3], s[4], s[1])\n",
        "            y = y.permute(0, 4, 1, 2, 3)\n",
        "            att = att.view(s[0], s[2], s[3], s[4], self.mem_dim)\n",
        "            att = att.permute(0, 4, 1, 2, 3)\n",
        "        else:\n",
        "            y = x\n",
        "            att = att\n",
        "            print('wrong feature map size')\n",
        "        return {'output': y, 'att': att}\n",
        "\n",
        "# relu based hard shrinkage function, only works for positive values\n",
        "def hard_shrink_relu(input, lambd=0, epsilon=1e-12):\n",
        "    output = (F.relu(input-lambd) * input) / (torch.abs(input - lambd) + epsilon)\n",
        "    return output"
      ],
      "execution_count": null,
      "outputs": []
    },
    {
      "cell_type": "code",
      "metadata": {
        "id": "hApna9du94k9"
      },
      "source": [
        "class VAE(nn.Module):\n",
        "\n",
        "  def __init__(self, enc,mem,dec,rec, latent_features,latent_dim):\n",
        "\n",
        "    super(VAE,self).__init__()\n",
        "\n",
        "    \n",
        "\n",
        "    self.enc = enc\n",
        "\n",
        "    self.mem = mem\n",
        "    self.fc= nn.Linear(latent_features, latent_dim)\n",
        "    \n",
        "    self.dec = dec\n",
        "    self.rec = rec\n",
        "    \n",
        "\n",
        "  def forward(self, x):\n",
        "\n",
        "    z_mu, z_var = self.enc(x)\n",
        "\n",
        "\n",
        "    #reparameterization\n",
        "    std = torch.exp(z_var / 2)\n",
        "    eps = torch.randn_like(std)\n",
        "    x_sample = eps.mul(std).add_(z_mu)\n",
        "\n",
        "\n",
        "\n",
        "    #constraint network (memory module)\n",
        "    memory = self.mem(x_sample)\n",
        "    f = memory['output']\n",
        "    att = memory['att']\n",
        "    # x = self.fc(x_sample)\n",
        "\n",
        "    x = self.fc(f)\n",
        "\n",
        "    x = self.dec(x)\n",
        "\n",
        "    x_hat = x.unsqueeze(-1)\n",
        "    x_hat = torch.mean(x_hat, dim=1)\n",
        "\n",
        "    ##Re-encoder\n",
        "    mu_rec, var_rec = self.rec(x_hat)\n",
        "    #reparameterization\n",
        "    std_rec = torch.exp(var_rec / 2)\n",
        "    eps_rec = torch.randn_like(std_rec)\n",
        "    z_sample = eps.mul(std).add_(mu_rec)\n",
        "    return x_hat, z_mu, z_var ,x_sample, mu_rec,var_rec,z_sample #{'output': output, 'att': att}"
      ],
      "execution_count": null,
      "outputs": []
    },
    {
      "cell_type": "code",
      "metadata": {
        "colab": {
          "base_uri": "https://localhost:8080/"
        },
        "id": "On7-e4mx98FK",
        "outputId": "75fa992d-4e78-4e25-baba-97344138f3a3"
      },
      "source": [
        "latent_features = 10\n",
        "dropout = 0.2\n",
        "latent_dim = 64\n",
        "input_dim = 64\n",
        "mem_dim = 128\n",
        "\n",
        "\n",
        "# encoder\n",
        "encoder = Encoder(seq_len, n_features, latent_features, dropout, latent_dim)\n",
        "\n",
        "# memory\n",
        "memory = MemModule(mem_dim,latent_features,shrink_thres=0.0025)\n",
        "\n",
        "# decoder\n",
        "decoder = Decoder(seq_len, input_dim, n_features,dropout)\n",
        "\n",
        "#re-encoder\n",
        "rencoder = Rencoder(seq_len, n_features, latent_features, dropout, latent_dim)\n",
        "\n",
        "# vae\n",
        "model = VAE(encoder, memory, decoder, rencoder, latent_features, latent_dim).to(device)\n",
        "\n",
        "print(model)"
      ],
      "execution_count": null,
      "outputs": [
        {
          "output_type": "stream",
          "text": [
            "VAE(\n",
            "  (enc): Encoder(\n",
            "    (rnn1): LSTM(1, 128, batch_first=True, dropout=0.2)\n",
            "    (rnn2): LSTM(128, 64, batch_first=True, dropout=0.2)\n",
            "    (fc): Linear(in_features=64, out_features=128, bias=True)\n",
            "    (mu): Linear(in_features=128, out_features=10, bias=True)\n",
            "    (var): Linear(in_features=128, out_features=10, bias=True)\n",
            "  )\n",
            "  (mem): MemModule(\n",
            "    (memory): MemoryUnit(mem_dim=128, fea_dim=True)\n",
            "  )\n",
            "  (fc): Linear(in_features=10, out_features=64, bias=True)\n",
            "  (dec): Decoder(\n",
            "    (rnn1): LSTM(64, 64, batch_first=True, dropout=0.2)\n",
            "    (rnn2): LSTM(64, 128, batch_first=True, dropout=0.2)\n",
            "    (output_layer): Linear(in_features=128, out_features=1, bias=True)\n",
            "  )\n",
            "  (rec): Rencoder(\n",
            "    (rnn1): LSTM(1, 128, batch_first=True, dropout=0.2)\n",
            "    (rnn2): LSTM(128, 64, batch_first=True, dropout=0.2)\n",
            "    (fc): Linear(in_features=64, out_features=128, bias=True)\n",
            "    (mu): Linear(in_features=128, out_features=10, bias=True)\n",
            "    (var): Linear(in_features=128, out_features=10, bias=True)\n",
            "  )\n",
            ")\n"
          ],
          "name": "stdout"
        },
        {
          "output_type": "stream",
          "text": [
            "/usr/local/lib/python3.7/dist-packages/torch/nn/modules/rnn.py:63: UserWarning: dropout option adds dropout after all but last recurrent layer, so non-zero dropout expects num_layers greater than 1, but got dropout=0.2 and num_layers=1\n",
            "  \"num_layers={}\".format(dropout, num_layers))\n"
          ],
          "name": "stderr"
        }
      ]
    },
    {
      "cell_type": "code",
      "metadata": {
        "id": "Cc5coPBu-F4m",
        "colab": {
          "base_uri": "https://localhost:8080/"
        },
        "outputId": "a0612a4d-3cbb-480f-e267-56d2d199ebe2"
      },
      "source": [
        "optimizer = optim.Adam(model.parameters(), lr=0.0001)\n",
        "#criterion = nn.MSELoss(size_average=False)\n",
        "criterion = nn.SmoothL1Loss(size_average=False)\n",
        "cuda = torch.cuda.is_available()\n"
      ],
      "execution_count": null,
      "outputs": [
        {
          "output_type": "stream",
          "text": [
            "/usr/local/lib/python3.7/dist-packages/torch/nn/_reduction.py:42: UserWarning: size_average and reduce args will be deprecated, please use reduction='sum' instead.\n",
            "  warnings.warn(warning.format(ret))\n"
          ],
          "name": "stderr"
        }
      ]
    },
    {
      "cell_type": "code",
      "metadata": {
        "colab": {
          "base_uri": "https://localhost:8080/"
        },
        "id": "1p8YTCYI-Izs",
        "outputId": "ca7a2ce0-9913-48d5-f34b-9e53992a93c3"
      },
      "source": [
        "x =train_dataset[0].to(device)\n",
        "\n",
        "if cuda:\n",
        "    x = x.cuda()\n",
        "\n",
        "outputs = model(x)\n",
        "x_hat,z_mu,z_var,x_sample,mu_rec,var_rec,z_sample = outputs\n",
        "\n",
        "print(z_mu.shape)\n",
        "print(z_var.shape)\n",
        "print(x_hat.shape)\n",
        "print(x_sample.shape)\n",
        "print(mu_rec.shape)\n",
        "print(var_rec.shape)\n",
        "print(z_sample.shape)\n"
      ],
      "execution_count": null,
      "outputs": [
        {
          "output_type": "stream",
          "text": [
            "torch.Size([1, 10])\n",
            "torch.Size([1, 10])\n",
            "torch.Size([140, 1])\n",
            "torch.Size([1, 10])\n",
            "torch.Size([1, 10])\n",
            "torch.Size([1, 10])\n",
            "torch.Size([1, 10])\n"
          ],
          "name": "stdout"
        }
      ]
    },
    {
      "cell_type": "code",
      "metadata": {
        "id": "4q-KBOMKChfa"
      },
      "source": [
        "def train():\n",
        "\n",
        "  model.train()\n",
        "\n",
        "  train_loss = []\n",
        "  train_kl = []\n",
        "  train_total = []\n",
        "  \n",
        "\n",
        "  for X in train_dataset:\n",
        "\n",
        "    \n",
        "    X = X.to(device)\n",
        "\n",
        "    optimizer.zero_grad()\n",
        "\n",
        "    x_hat, z_mu, z_var, x_sample, rec_mu, rec_var, z_sample = model(X)\n",
        "\n",
        "    recon_loss = criterion(x_hat, X)\n",
        "    latent_loss = criterion(x_sample, z_sample)\n",
        "\n",
        "    KL_loss = -0.5 * torch.mean(1 + z_var - z_mu**2 - torch.exp(z_var))\n",
        "    KL_latent = -0.5 * torch.mean(1 + rec_var - rec_mu**2 - torch.exp(rec_var))\n",
        "\n",
        "    elbo_loss = recon_loss + KL_loss\n",
        "    total_loss = recon_loss + KL_loss + latent_loss + KL_latent\n",
        "\n",
        "\n",
        "    total_loss.backward()\n",
        "\n",
        "    train_loss.append(elbo_loss.item())\n",
        "    train_kl.append(KL_loss.item())\n",
        "    train_total.append(total_loss.item())\n",
        "\n",
        "    optimizer.step()\n",
        "  \n",
        "  train_elbo_loss = np.mean(train_loss)\n",
        "  train_kl_loss = np.mean(train_kl)\n",
        "  train_total_loss = np.mean(train_total)\n",
        "\n",
        "  return train_total_loss, train_elbo_loss,train_kl_loss\n",
        "\n"
      ],
      "execution_count": null,
      "outputs": []
    },
    {
      "cell_type": "code",
      "metadata": {
        "id": "7vIAvRgoCi71"
      },
      "source": [
        "def test():\n",
        "\n",
        "  model.eval()\n",
        "\n",
        "  with torch.no_grad():\n",
        "    test_loss = []\n",
        "    test_kl = []\n",
        "    test_total = []\n",
        "    for x in val_dataset:\n",
        "     \n",
        "      x = x.to(device)\n",
        "      x_hat, z_mu, z_var, x_sample, rec_mu, rec_var, z_sample = model(x)\n",
        "\n",
        "      recon_loss= criterion(x_hat, x)\n",
        "      latent_loss = criterion(x_sample, z_sample)\n",
        "\n",
        "      KL_loss = -0.5 * torch.mean(1 + z_var - z_mu**2 - torch.exp(z_var))\n",
        "      KL_latent_loss = -0.5 * torch.mean(1 + rec_var - rec_mu**2 - torch.exp(rec_var))\n",
        "\n",
        "      elbo_loss = recon_loss + KL_loss\n",
        "      total_loss = recon_loss + KL_loss + latent_loss + KL_latent_loss\n",
        "\n",
        "      test_loss.append(elbo_loss.item())\n",
        "      test_kl.append(KL_loss.item())\n",
        "      test_total.append(total_loss.item())\n",
        "\n",
        "  test_elbo_loss = np.mean(test_loss)\n",
        "  test_kl_loss = np.mean(test_kl)\n",
        "  test_total_loss = np.mean(test_total)\n",
        "\n",
        "  return model.eval(),test_total_loss, test_elbo_loss,test_kl_loss"
      ],
      "execution_count": null,
      "outputs": []
    },
    {
      "cell_type": "code",
      "metadata": {
        "colab": {
          "base_uri": "https://localhost:8080/",
          "height": 426
        },
        "id": "XV_p0xxvCmeg",
        "outputId": "130140ac-7c2a-49c6-a369-f73730398174"
      },
      "source": [
        "epochs = 5\n",
        "\n",
        "best_model_wts = copy.deepcopy(model.state_dict())\n",
        "best_loss = 10000.0\n",
        "history_elbo = dict(train_elbo=[], test_elbo=[])\n",
        "history_kl = dict(train_kl=[], test_kl=[])\n",
        "history_total = dict(train_total = [], test_total= [])\n",
        "\n",
        "device = torch.device(\"cuda:0\" if cuda else \"cpu\")\n",
        "print(\"Using device:\", device)\n",
        "\n",
        "for e in range(epochs):\n",
        "\n",
        "  train_total_loss, train_elbo_loss, train_kl_loss = train()\n",
        "  model, test_total_loss, test_elbo_loss, test_kl_loss  = test()\n",
        "\n",
        "  if best_loss > test_elbo_loss:\n",
        "    best_test_loss = test_elbo_loss\n",
        "    best_model_wts = copy.deepcopy(model.state_dict())\n",
        "\n",
        "\n",
        "  print(f'Epoch {e}: train total loss {train_total_loss} | train elbo loss {train_elbo_loss} | train kl loss {train_kl_loss}') \n",
        "  print(f'\\t val total loss {test_total_loss} | val elbo loss {test_elbo_loss} | valid kl loss {test_kl_loss}') \n",
        "\n",
        "\n",
        "  history_elbo['train_elbo'].append(train_elbo_loss)\n",
        "  history_elbo['test_elbo'].append(test_elbo_loss)\n",
        "\n",
        "  history_kl['train_kl'].append(train_kl_loss)\n",
        "  history_kl['test_kl'].append(test_kl_loss)\n",
        "\n",
        "  history_total['train_total'].append(train_total_loss)\n",
        "  history_total['test_total'].append(test_total_loss)\n"
      ],
      "execution_count": null,
      "outputs": [
        {
          "output_type": "stream",
          "text": [
            "Using device: cuda:0\n",
            "Epoch 0: train total loss 49.00662844354033 | train elbo loss 48.93090324579885 | train kl loss 0.0038434509878921236\n",
            "\t val total loss 49.13799873502721 | val elbo loss 49.062295513050344 | valid kl loss 0.003841989786954366\n"
          ],
          "name": "stdout"
        },
        {
          "output_type": "error",
          "ename": "KeyboardInterrupt",
          "evalue": "ignored",
          "traceback": [
            "\u001b[0;31m---------------------------------------------------------------------------\u001b[0m",
            "\u001b[0;31mKeyboardInterrupt\u001b[0m                         Traceback (most recent call last)",
            "\u001b[0;32m<ipython-input-54-9b4072893354>\u001b[0m in \u001b[0;36m<module>\u001b[0;34m()\u001b[0m\n\u001b[1;32m     12\u001b[0m \u001b[0;32mfor\u001b[0m \u001b[0me\u001b[0m \u001b[0;32min\u001b[0m \u001b[0mrange\u001b[0m\u001b[0;34m(\u001b[0m\u001b[0mepochs\u001b[0m\u001b[0;34m)\u001b[0m\u001b[0;34m:\u001b[0m\u001b[0;34m\u001b[0m\u001b[0;34m\u001b[0m\u001b[0m\n\u001b[1;32m     13\u001b[0m \u001b[0;34m\u001b[0m\u001b[0m\n\u001b[0;32m---> 14\u001b[0;31m   \u001b[0mtrain_total_loss\u001b[0m\u001b[0;34m,\u001b[0m \u001b[0mtrain_elbo_loss\u001b[0m\u001b[0;34m,\u001b[0m \u001b[0mtrain_kl_loss\u001b[0m \u001b[0;34m=\u001b[0m \u001b[0mtrain\u001b[0m\u001b[0;34m(\u001b[0m\u001b[0;34m)\u001b[0m\u001b[0;34m\u001b[0m\u001b[0;34m\u001b[0m\u001b[0m\n\u001b[0m\u001b[1;32m     15\u001b[0m   \u001b[0mmodel\u001b[0m\u001b[0;34m,\u001b[0m \u001b[0mtest_total_loss\u001b[0m\u001b[0;34m,\u001b[0m \u001b[0mtest_elbo_loss\u001b[0m\u001b[0;34m,\u001b[0m \u001b[0mtest_kl_loss\u001b[0m  \u001b[0;34m=\u001b[0m \u001b[0mtest\u001b[0m\u001b[0;34m(\u001b[0m\u001b[0;34m)\u001b[0m\u001b[0;34m\u001b[0m\u001b[0;34m\u001b[0m\u001b[0m\n\u001b[1;32m     16\u001b[0m \u001b[0;34m\u001b[0m\u001b[0m\n",
            "\u001b[0;32m<ipython-input-22-70703888add9>\u001b[0m in \u001b[0;36mtrain\u001b[0;34m()\u001b[0m\n\u001b[1;32m     27\u001b[0m \u001b[0;34m\u001b[0m\u001b[0m\n\u001b[1;32m     28\u001b[0m \u001b[0;34m\u001b[0m\u001b[0m\n\u001b[0;32m---> 29\u001b[0;31m     \u001b[0mtotal_loss\u001b[0m\u001b[0;34m.\u001b[0m\u001b[0mbackward\u001b[0m\u001b[0;34m(\u001b[0m\u001b[0;34m)\u001b[0m\u001b[0;34m\u001b[0m\u001b[0;34m\u001b[0m\u001b[0m\n\u001b[0m\u001b[1;32m     30\u001b[0m \u001b[0;34m\u001b[0m\u001b[0m\n\u001b[1;32m     31\u001b[0m     \u001b[0mtrain_loss\u001b[0m\u001b[0;34m.\u001b[0m\u001b[0mappend\u001b[0m\u001b[0;34m(\u001b[0m\u001b[0melbo_loss\u001b[0m\u001b[0;34m.\u001b[0m\u001b[0mitem\u001b[0m\u001b[0;34m(\u001b[0m\u001b[0;34m)\u001b[0m\u001b[0;34m)\u001b[0m\u001b[0;34m\u001b[0m\u001b[0;34m\u001b[0m\u001b[0m\n",
            "\u001b[0;32m/usr/local/lib/python3.7/dist-packages/torch/tensor.py\u001b[0m in \u001b[0;36mbackward\u001b[0;34m(self, gradient, retain_graph, create_graph, inputs)\u001b[0m\n\u001b[1;32m    243\u001b[0m                 \u001b[0mcreate_graph\u001b[0m\u001b[0;34m=\u001b[0m\u001b[0mcreate_graph\u001b[0m\u001b[0;34m,\u001b[0m\u001b[0;34m\u001b[0m\u001b[0;34m\u001b[0m\u001b[0m\n\u001b[1;32m    244\u001b[0m                 inputs=inputs)\n\u001b[0;32m--> 245\u001b[0;31m         \u001b[0mtorch\u001b[0m\u001b[0;34m.\u001b[0m\u001b[0mautograd\u001b[0m\u001b[0;34m.\u001b[0m\u001b[0mbackward\u001b[0m\u001b[0;34m(\u001b[0m\u001b[0mself\u001b[0m\u001b[0;34m,\u001b[0m \u001b[0mgradient\u001b[0m\u001b[0;34m,\u001b[0m \u001b[0mretain_graph\u001b[0m\u001b[0;34m,\u001b[0m \u001b[0mcreate_graph\u001b[0m\u001b[0;34m,\u001b[0m \u001b[0minputs\u001b[0m\u001b[0;34m=\u001b[0m\u001b[0minputs\u001b[0m\u001b[0;34m)\u001b[0m\u001b[0;34m\u001b[0m\u001b[0;34m\u001b[0m\u001b[0m\n\u001b[0m\u001b[1;32m    246\u001b[0m \u001b[0;34m\u001b[0m\u001b[0m\n\u001b[1;32m    247\u001b[0m     \u001b[0;32mdef\u001b[0m \u001b[0mregister_hook\u001b[0m\u001b[0;34m(\u001b[0m\u001b[0mself\u001b[0m\u001b[0;34m,\u001b[0m \u001b[0mhook\u001b[0m\u001b[0;34m)\u001b[0m\u001b[0;34m:\u001b[0m\u001b[0;34m\u001b[0m\u001b[0;34m\u001b[0m\u001b[0m\n",
            "\u001b[0;32m/usr/local/lib/python3.7/dist-packages/torch/autograd/__init__.py\u001b[0m in \u001b[0;36mbackward\u001b[0;34m(tensors, grad_tensors, retain_graph, create_graph, grad_variables, inputs)\u001b[0m\n\u001b[1;32m    145\u001b[0m     Variable._execution_engine.run_backward(\n\u001b[1;32m    146\u001b[0m         \u001b[0mtensors\u001b[0m\u001b[0;34m,\u001b[0m \u001b[0mgrad_tensors_\u001b[0m\u001b[0;34m,\u001b[0m \u001b[0mretain_graph\u001b[0m\u001b[0;34m,\u001b[0m \u001b[0mcreate_graph\u001b[0m\u001b[0;34m,\u001b[0m \u001b[0minputs\u001b[0m\u001b[0;34m,\u001b[0m\u001b[0;34m\u001b[0m\u001b[0;34m\u001b[0m\u001b[0m\n\u001b[0;32m--> 147\u001b[0;31m         allow_unreachable=True, accumulate_grad=True)  # allow_unreachable flag\n\u001b[0m\u001b[1;32m    148\u001b[0m \u001b[0;34m\u001b[0m\u001b[0m\n\u001b[1;32m    149\u001b[0m \u001b[0;34m\u001b[0m\u001b[0m\n",
            "\u001b[0;31mKeyboardInterrupt\u001b[0m: "
          ]
        }
      ]
    },
    {
      "cell_type": "code",
      "metadata": {
        "id": "T77GWqiPglHK"
      },
      "source": [
        "# save the model\n",
        "MODEL_PATH = 'model.pth'\n",
        "torch.save(model, MODEL_PATH)"
      ],
      "execution_count": null,
      "outputs": []
    },
    {
      "cell_type": "code",
      "metadata": {
        "colab": {
          "base_uri": "https://localhost:8080/",
          "height": 633
        },
        "id": "jaXDAlImgsUD",
        "outputId": "723644aa-b175-4316-b982-a6bcdf278da1"
      },
      "source": [
        "plt.figure(figsize=(10,10))\n",
        "plt.subplot(211)\n",
        "plt.plot(list(range(0,len(history_elbo['train_elbo']))), history_elbo['train_elbo'],'r')\n",
        "plt.plot(list(range(0,len(history_elbo['test_elbo']))), history_elbo['test_elbo'],'g')\n",
        "plt.legend(['Train ELBO','Val ELBO'])\n",
        "plt.xlabel('EPOCH')\n",
        "plt.ylabel('Loss')\n",
        "plt.title('ELBO Loss')\n",
        "plt.show();\n",
        "\n",
        "plt.figure(figsize=(10,10))\n",
        "plt.subplot(212)\n",
        "plt.plot(list(range(0,len(history_kl['train_kl']))), history_kl['train_kl'], 'r')\n",
        "plt.plot(list(range(0,len(history_kl['test_kl']))), history_kl['test_kl'],'g')\n",
        "plt.legend(['Train KL','Val KL'])\n",
        "plt.xlabel('EPOCH')\n",
        "plt.ylabel('Loss')\n",
        "plt.title('KL Loss')\n",
        "\n",
        "plt.show();"
      ],
      "execution_count": null,
      "outputs": [
        {
          "output_type": "display_data",
          "data": {
            "image/png": "[encoded data removed]",
            "text/plain": [
              "<Figure size 720x720 with 1 Axes>"
            ]
          },
          "metadata": {
            "tags": [],
            "needs_background": "light"
          }
        },
        {
          "output_type": "display_data",
          "data": {
            "image/png": "[encoded data removed]",
            "text/plain": [
              "<Figure size 720x720 with 1 Axes>"
            ]
          },
          "metadata": {
            "tags": [],
            "needs_background": "light"
          }
        }
      ]
    },
    {
      "cell_type": "code",
      "metadata": {
        "id": "Hp_YCiAxg65l"
      },
      "source": [
        "def predict(model, dataset):\n",
        "  predictions, elbo_losses, total_losses = [], [],[]\n",
        "  with torch.no_grad():\n",
        "    model = model.eval()\n",
        "    for x in dataset:\n",
        "        x = x.to(device)\n",
        "        \n",
        "        x_hat, z_mu, z_var, rec_mu, rec_var, z_sample = model(x)\n",
        "\n",
        "        recon_loss= criterion(x_hat, x)\n",
        "        latent_loss = criterion(x_sample, z_sample)\n",
        "\n",
        "        KL_loss = -0.5 * torch.mean(1 + z_var - z_mu**2 - torch.exp(z_var))\n",
        "        KL_latent_loss = -0.5 * torch.mean(1 + rec_var - rec_mu**2 - torch.exp(rec_var))\n",
        "\n",
        "        elbo_loss = recon_loss + KL_loss\n",
        "        total_loss = elbo_loss + latent_loss + KL_latent_loss\n",
        "       \n",
        "\n",
        "        elbo_losses.append(elbo_loss.item())\n",
        "        total_losses.append(total_loss.item())\n",
        "        predictions.append(x_hat.cpu().numpy().flatten())\n",
        "  return predictions, elbo_losses,kl_losses"
      ],
      "execution_count": null,
      "outputs": []
    },
    {
      "cell_type": "code",
      "metadata": {
        "id": "kM0Uz03JhNYG"
      },
      "source": [
        "predict_train, elbo_losses,total_losses = predict(model, train_dataset)\n"
      ],
      "execution_count": null,
      "outputs": []
    },
    {
      "cell_type": "code",
      "metadata": {
        "id": "hMJ30iM3hZZ-"
      },
      "source": [
        "import seaborn as sns\n",
        "sns.set_style(\"whitegrid\")\n",
        "sns.set_palette(sns.dark_palette(\"purple\"))"
      ],
      "execution_count": null,
      "outputs": []
    },
    {
      "cell_type": "code",
      "metadata": {
        "colab": {
          "base_uri": "https://localhost:8080/",
          "height": 319
        },
        "id": "XS4uWxzfhTT0",
        "outputId": "3eb9b93c-4668-4edf-9f88-ad9b969f1f62"
      },
      "source": [
        "sns.distplot(total_losses, bins=40, kde=True);"
      ],
      "execution_count": null,
      "outputs": [
        {
          "output_type": "stream",
          "text": [
            "/usr/local/lib/python3.7/dist-packages/seaborn/distributions.py:2557: FutureWarning: `distplot` is a deprecated function and will be removed in a future version. Please adapt your code to use either `displot` (a figure-level function with similar flexibility) or `histplot` (an axes-level function for histograms).\n",
            "  warnings.warn(msg, FutureWarning)\n"
          ],
          "name": "stderr"
        },
        {
          "output_type": "display_data",
          "data": {
            "image/png": "[encoded data removed]",
            "text/plain": [
              "<Figure size 432x288 with 1 Axes>"
            ]
          },
          "metadata": {
            "tags": []
          }
        }
      ]
    },
    {
      "cell_type": "code",
      "metadata": {
        "id": "3escsk93hbZB"
      },
      "source": [
        "THRESHOLD = 15"
      ],
      "execution_count": null,
      "outputs": []
    },
    {
      "cell_type": "code",
      "metadata": {
        "colab": {
          "base_uri": "https://localhost:8080/",
          "height": 319
        },
        "id": "cCufs51jhjNl",
        "outputId": "c12f3712-1001-4cb7-fc1b-75dbfb10a3d2"
      },
      "source": [
        "predict_test, elbo_losses_test,total_losses_test = predict(model,test_normal_dataset)\n",
        "\n",
        "sns.distplot(total_losses_test, bins=40, kde=True);"
      ],
      "execution_count": null,
      "outputs": [
        {
          "output_type": "stream",
          "text": [
            "/usr/local/lib/python3.7/dist-packages/seaborn/distributions.py:2557: FutureWarning: `distplot` is a deprecated function and will be removed in a future version. Please adapt your code to use either `displot` (a figure-level function with similar flexibility) or `histplot` (an axes-level function for histograms).\n",
            "  warnings.warn(msg, FutureWarning)\n"
          ],
          "name": "stderr"
        },
        {
          "output_type": "display_data",
          "data": {
            "image/png": "[encoded data removed]",
            "text/plain": [
              "<Figure size 432x288 with 1 Axes>"
            ]
          },
          "metadata": {
            "tags": []
          }
        }
      ]
    },
    {
      "cell_type": "code",
      "metadata": {
        "colab": {
          "base_uri": "https://localhost:8080/"
        },
        "id": "hMNxIoT1hnPA",
        "outputId": "e32533ed-703b-4a91-efde-2bba951c24b2"
      },
      "source": [
        "correct = sum(l <= THRESHOLD for l in elbo_losses_test)\n",
        "print(f'Correct normal predictions: {correct}/{len(test_normal_dataset)}')"
      ],
      "execution_count": null,
      "outputs": [
        {
          "output_type": "stream",
          "text": [
            "Correct normal predictions: 138/145\n"
          ],
          "name": "stdout"
        }
      ]
    },
    {
      "cell_type": "code",
      "metadata": {
        "id": "9ZQzyw1nhpXr"
      },
      "source": [
        "def plot_prediction(data, model, title, ax):\n",
        "  predictions, elbo_losses,kl_losses = predict(model, [data])\n",
        "\n",
        "  ax.plot(data,'r', label='true')\n",
        "  ax.plot(predictions[0], 'b',label='reconstructed')\n",
        "  ax.set_title(f'{title} (Elbo loss: {np.around(elbo_losses[0], 2)})')\n",
        "  ax.legend()"
      ],
      "execution_count": null,
      "outputs": []
    },
    {
      "cell_type": "code",
      "metadata": {
        "colab": {
          "base_uri": "https://localhost:8080/",
          "height": 492
        },
        "id": "tgSvMnRwhuGL",
        "outputId": "9acf2b55-b82b-4112-a7e6-81c00543b77e"
      },
      "source": [
        "fig, axs = plt.subplots(nrows=2,ncols=6,sharey=True,sharex=True,figsize=(22, 8))\n",
        "\n",
        "for i, data in enumerate(test_normal_dataset[:6]):\n",
        "  plot_prediction(data, model, title='Normal', ax=axs[0, i])\n",
        "\n",
        "for i, data in enumerate(test_anomaly_dataset[:6]):\n",
        "  plot_prediction(data, model, title='Anomaly', ax=axs[1, i])\n",
        "\n",
        "fig.tight_layout();"
      ],
      "execution_count": null,
      "outputs": [
        {
          "output_type": "display_data",
          "data": {
            "image/png": "[encoded data removed]",
            "text/plain": [
              "<Figure size 1584x576 with 12 Axes>"
            ]
          },
          "metadata": {
            "tags": []
          }
        }
      ]
    }
  ]
}