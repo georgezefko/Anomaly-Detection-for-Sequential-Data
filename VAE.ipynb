{
  "nbformat": 4,
  "nbformat_minor": 0,
  "metadata": {
    "colab": {
      "name": "Advanced_ML.ipynb",
      "provenance": [],
      "machine_shape": "hm",
      "authorship_tag": "ABX9TyPSsH5JCuR5WeB3GHaaKtfd",
      "include_colab_link": true
    },
    "kernelspec": {
      "name": "python3",
      "display_name": "Python 3"
    },
    "accelerator": "GPU"
  },
  "cells": [
    {
      "cell_type": "markdown",
      "metadata": {
        "id": "view-in-github",
        "colab_type": "text"
      },
      "source": [
        "<a href=\"https://colab.research.google.com/github/georgezefko/Anomaly-Detection-for-Sequential-Data/blob/main/VAE.ipynb\" target=\"_parent\"><img src=\"https://colab.research.google.com/assets/colab-badge.svg\" alt=\"Open In Colab\"/></a>"
      ]
    },
    {
      "cell_type": "code",
      "metadata": {
        "id": "0zmcJTGbRmMg",
        "colab": {
          "base_uri": "https://localhost:8080/"
        },
        "outputId": "a71cee31-47b5-4d02-815e-a3efb2e2343d"
      },
      "source": [
        "from google.colab import drive\n",
        "drive.mount('/content/drive', force_remount=True)"
      ],
      "execution_count": 133,
      "outputs": [
        {
          "output_type": "stream",
          "text": [
            "Mounted at /content/drive\n"
          ],
          "name": "stdout"
        }
      ]
    },
    {
      "cell_type": "code",
      "metadata": {
        "id": "q7-L353Dcbvx"
      },
      "source": [
        "import torch\n",
        "\n",
        "import copy\n",
        "import numpy as np\n",
        "import pandas as pd\n",
        "import seaborn as sns\n",
        "from pylab import rcParams\n",
        "import matplotlib.pyplot as plt\n",
        "from matplotlib import rc\n",
        "from sklearn.model_selection import train_test_split\n",
        "\n",
        "from torch import nn, optim\n",
        "\n",
        "import torch\n",
        "from torch import distributions\n",
        "# from .base import BaseEstimator\n",
        "from torch.utils.data import DataLoader\n",
        "from torch.autograd import Variable\n",
        "import os\n",
        "import torch.nn.functional as F\n",
        "#from arff2pandas import a2p"
      ],
      "execution_count": 134,
      "outputs": []
    },
    {
      "cell_type": "code",
      "metadata": {
        "id": "fMN_SYWLcWuY"
      },
      "source": [
        "device = torch.device(\"cuda\" if torch.cuda.is_available() else \"cpu\")"
      ],
      "execution_count": 135,
      "outputs": []
    },
    {
      "cell_type": "markdown",
      "metadata": {
        "id": "9mhICTeene2p"
      },
      "source": [
        "# Data Exploration"
      ]
    },
    {
      "cell_type": "code",
      "metadata": {
        "id": "59N1AwrmQuRK"
      },
      "source": [
        "data_train = np.loadtxt('/content/drive/MyDrive/AdvancedML/data/ECG5000/ECG5000_TRAIN', delimiter=',')\n",
        "data_test_val = np.loadtxt('/content/drive/MyDrive/AdvancedML/data/ECG5000/ECG5000_TEST', delimiter=',')[:-1]\n"
      ],
      "execution_count": 136,
      "outputs": []
    },
    {
      "cell_type": "code",
      "metadata": {
        "id": "OzacMIANmPgI"
      },
      "source": [
        "counts = [i[0] for i in data_train]"
      ],
      "execution_count": 137,
      "outputs": []
    },
    {
      "cell_type": "code",
      "metadata": {
        "id": "U-yH5OAPSBxf"
      },
      "source": [
        "classes = dict((x,counts.count(x)) for x in set(counts))"
      ],
      "execution_count": 138,
      "outputs": []
    },
    {
      "cell_type": "code",
      "metadata": {
        "colab": {
          "base_uri": "https://localhost:8080/"
        },
        "id": "Dk5y7zRHS3JS",
        "outputId": "521d3320-dad0-4ed4-f7c6-4b4c253f0524"
      },
      "source": [
        "classes"
      ],
      "execution_count": 139,
      "outputs": [
        {
          "output_type": "execute_result",
          "data": {
            "text/plain": [
              "{1.0: 2919, 2.0: 1767, 3.0: 96, 4.0: 194, 5.0: 24}"
            ]
          },
          "metadata": {
            "tags": []
          },
          "execution_count": 139
        }
      ]
    },
    {
      "cell_type": "code",
      "metadata": {
        "colab": {
          "base_uri": "https://localhost:8080/",
          "height": 320
        },
        "id": "p1ka8mMX7mgZ",
        "outputId": "3b3315df-2034-46aa-effd-8420968c5b95"
      },
      "source": [
        "\n",
        "\n",
        "class_names = ['Normal','R on T','PVC','SP','UB']\n",
        "values = list(classes.values())\n",
        "\n",
        "\n",
        "fig = plt.figure(figsize = (10, 5))\n",
        "\n",
        "plt.bar(class_names, values, color =['green', 'red', 'gray', 'blue', 'cyan']\n",
        ", width = 0.8)\n",
        "\n",
        "plt.show()"
      ],
      "execution_count": 140,
      "outputs": [
        {
          "output_type": "display_data",
          "data": {
            "image/png": "[encoded data removed]",
            "text/plain": [
              "<Figure size 720x360 with 1 Axes>"
            ]
          },
          "metadata": {
            "tags": [],
            "needs_background": "light"
          }
        }
      ]
    },
    {
      "cell_type": "code",
      "metadata": {
        "id": "UYq2Q5SJZIU8"
      },
      "source": [
        "df = pd.DataFrame(data_train)"
      ],
      "execution_count": 141,
      "outputs": []
    },
    {
      "cell_type": "code",
      "metadata": {
        "id": "wj3OdfTFbWuS"
      },
      "source": [
        "new_columns = list(df.columns)\n",
        "new_columns[0] = 'target'\n",
        "df.columns = new_columns\n",
        "df.target = [int(i) for i in df.target]"
      ],
      "execution_count": 142,
      "outputs": []
    },
    {
      "cell_type": "code",
      "metadata": {
        "id": "P5WctHCKm-A4"
      },
      "source": [
        "def plot_time_series_class(data, class_name, ax, n_steps=10):\n",
        "  time_series_df = pd.DataFrame(data)\n",
        "\n",
        "  smooth_path = time_series_df.rolling(n_steps).mean()\n",
        "  path_deviation = 2 * time_series_df.rolling(n_steps).std()\n",
        "\n",
        "  under_line = (smooth_path - path_deviation)[0]\n",
        "  over_line = (smooth_path + path_deviation)[0]\n",
        "\n",
        "  ax.plot(smooth_path, linewidth=2)\n",
        "  ax.fill_between(\n",
        "    path_deviation.index,\n",
        "    under_line,\n",
        "    over_line,\n",
        "    alpha=.125\n",
        "  )\n",
        "  ax.set_title(class_name)"
      ],
      "execution_count": 143,
      "outputs": []
    },
    {
      "cell_type": "code",
      "metadata": {
        "colab": {
          "base_uri": "https://localhost:8080/",
          "height": 585
        },
        "id": "_wNMzTASZm4C",
        "outputId": "777f201c-a77a-4389-b322-4a62ab69cb46"
      },
      "source": [
        "classes = df.target.unique()\n",
        "\n",
        "\n",
        "fig, axs = plt.subplots(\n",
        "  nrows=len(classes) // 3 + 1,\n",
        "  ncols=3,\n",
        "  sharey=True,\n",
        "  figsize=(14, 8)\n",
        ")\n",
        "\n",
        "for i, cls in enumerate(classes):\n",
        "  ax = axs.flat[i]\n",
        "  data = df[df.target == cls].drop(labels='target', axis=1).mean(axis=0).to_numpy()\n",
        "  #print(data)\n",
        "  plot_time_series_class(data, class_names[i], ax)\n",
        "\n",
        "fig.delaxes(axs.flat[-1])\n",
        "fig.tight_layout()"
      ],
      "execution_count": 144,
      "outputs": [
        {
          "output_type": "display_data",
          "data": {
            "image/png": "[encoded data removed]",
            "text/plain": [
              "<Figure size 1008x576 with 5 Axes>"
            ]
          },
          "metadata": {
            "tags": [],
            "needs_background": "light"
          }
        }
      ]
    },
    {
      "cell_type": "code",
      "metadata": {
        "id": "BFMH0_huFKyu"
      },
      "source": [
        ""
      ],
      "execution_count": null,
      "outputs": []
    },
    {
      "cell_type": "markdown",
      "metadata": {
        "id": "U-jvPyl8njuJ"
      },
      "source": [
        "# Data Pre-processing"
      ]
    },
    {
      "cell_type": "code",
      "metadata": {
        "colab": {
          "base_uri": "https://localhost:8080/"
        },
        "id": "wGIEEnsJnnBU",
        "outputId": "f9236b76-c9d6-4197-9caf-1fd26221952c"
      },
      "source": [
        "#class normal has target equal to 1\n",
        "normal_df = df[df.target == 1].drop(labels='target', axis=1)\n",
        "normal_df.shape"
      ],
      "execution_count": 145,
      "outputs": [
        {
          "output_type": "execute_result",
          "data": {
            "text/plain": [
              "(2919, 140)"
            ]
          },
          "metadata": {
            "tags": []
          },
          "execution_count": 145
        }
      ]
    },
    {
      "cell_type": "code",
      "metadata": {
        "colab": {
          "base_uri": "https://localhost:8080/"
        },
        "id": "3YHubfPnoHUK",
        "outputId": "eed2fe82-860d-42b9-f692-90edf1345e51"
      },
      "source": [
        "# we merge all the other classes into one and use them as train anomalies framework\n",
        "anomaly_df = df[df.target != 1].drop(labels='target', axis=1)\n",
        "anomaly_df.shape"
      ],
      "execution_count": 146,
      "outputs": [
        {
          "output_type": "execute_result",
          "data": {
            "text/plain": [
              "(2081, 140)"
            ]
          },
          "metadata": {
            "tags": []
          },
          "execution_count": 146
        }
      ]
    },
    {
      "cell_type": "code",
      "metadata": {
        "colab": {
          "base_uri": "https://localhost:8080/"
        },
        "id": "8464Bo1ys5ds",
        "outputId": "52cd0cc9-a167-4ed8-f1db-83f48f85a7d4"
      },
      "source": [
        "RANDOM_SEED = 42\n",
        "np.random.seed(RANDOM_SEED)\n",
        "torch.manual_seed(RANDOM_SEED)"
      ],
      "execution_count": 147,
      "outputs": [
        {
          "output_type": "execute_result",
          "data": {
            "text/plain": [
              "<torch._C.Generator at 0x7f536aae8c10>"
            ]
          },
          "metadata": {
            "tags": []
          },
          "execution_count": 147
        }
      ]
    },
    {
      "cell_type": "code",
      "metadata": {
        "id": "PG6dKgUFsi2C"
      },
      "source": [
        "#split the samples into train, validation, test\n",
        "train_df, val_df = train_test_split(\n",
        "  normal_df,\n",
        "  test_size=0.15,\n",
        "  random_state=RANDOM_SEED\n",
        ")\n",
        "\n",
        "val_df, test_df = train_test_split(\n",
        "  val_df,\n",
        "  test_size=0.33, \n",
        "  random_state=RANDOM_SEED\n",
        ")"
      ],
      "execution_count": 148,
      "outputs": []
    },
    {
      "cell_type": "code",
      "metadata": {
        "id": "trjM6rGts-OM"
      },
      "source": [
        "def create_dataset(df):\n",
        "\n",
        "  sequences = df.astype(np.float32).to_numpy().tolist()\n",
        "\n",
        "  dataset = [torch.tensor(s).unsqueeze(1).float() for s in sequences]\n",
        "\n",
        "  n_seq, seq_len, n_features = torch.stack(dataset).shape\n",
        "\n",
        "  return dataset, seq_len, n_features"
      ],
      "execution_count": 149,
      "outputs": []
    },
    {
      "cell_type": "code",
      "metadata": {
        "id": "ho9BkLGwtFEX"
      },
      "source": [
        "train_dataset, seq_len, n_features = create_dataset(train_df)\n",
        "val_dataset, _, _ = create_dataset(val_df)\n",
        "test_normal_dataset, _, _ = create_dataset(test_df)\n",
        "test_anomaly_dataset, _, _ = create_dataset(anomaly_df)"
      ],
      "execution_count": 150,
      "outputs": []
    },
    {
      "cell_type": "markdown",
      "metadata": {
        "id": "8R1fSPensby2"
      },
      "source": [
        "# VRAE"
      ]
    },
    {
      "cell_type": "markdown",
      "metadata": {
        "id": "Fn1crEwssgrf"
      },
      "source": [
        "## Encoder"
      ]
    },
    {
      "cell_type": "code",
      "metadata": {
        "id": "yXGaf3FGJZNs"
      },
      "source": [
        "# class Encoder(nn.Module):\n",
        "  \n",
        "    \n",
        "#     def __init__(self, number_of_features, hidden_size, hidden_layer_depth, latent_length, dropout):\n",
        "\n",
        "#         super(Encoder, self).__init__()\n",
        "\n",
        "#         self.number_of_features = number_of_features\n",
        "#         self.hidden_size = hidden_size\n",
        "#         self.hidden_layer_depth = hidden_layer_depth\n",
        "#         self.latent_length = latent_length\n",
        "\n",
        "        \n",
        "#         self.model = nn.LSTM(self.number_of_features, self.hidden_size, self.hidden_layer_depth, dropout = dropout)\n",
        "       \n",
        "\n",
        "#     def forward(self, x):\n",
        "#         _, (h_end, c_end) = self.model(x)\n",
        "\n",
        "#         h_end = h_end[-1, :, :]\n",
        "#         return h_end\n",
        "class Encoder(nn.Module):\n",
        "\n",
        "  def __init__(self, seq_len, n_features, embedding_dim=64):\n",
        "    super(Encoder, self).__init__()\n",
        "\n",
        "    self.seq_len, self.n_features = seq_len, n_features\n",
        "    self.embedding_dim, self.hidden_dim = embedding_dim, 2 * embedding_dim\n",
        "\n",
        "    self.rnn1 = nn.LSTM(\n",
        "      input_size=n_features,\n",
        "      hidden_size=self.hidden_dim,\n",
        "      num_layers=1,\n",
        "      batch_first=True\n",
        "    )\n",
        "    \n",
        "    self.rnn2 = nn.LSTM(\n",
        "      input_size=self.hidden_dim,\n",
        "      hidden_size=embedding_dim,\n",
        "      num_layers=1,\n",
        "      batch_first=True\n",
        "    )\n",
        "\n",
        "  def forward(self, x):\n",
        "    x = x.reshape((1, self.seq_len, self.n_features))\n",
        "\n",
        "    x, (_, _) = self.rnn1(x)\n",
        "    x, (hidden_n, _) = self.rnn2(x)\n",
        "\n",
        "    return hidden_n.reshape((self.n_features, self.embedding_dim))"
      ],
      "execution_count": 151,
      "outputs": []
    },
    {
      "cell_type": "markdown",
      "metadata": {
        "id": "BhGheCbgS64H"
      },
      "source": [
        "## Decoder\n"
      ]
    },
    {
      "cell_type": "code",
      "metadata": {
        "id": "OawosZHqVEU-"
      },
      "source": [
        "\n",
        "class Decoder(nn.Module):\n",
        "\n",
        "  def __init__(self, seq_len, input_dim=64, n_features=1):\n",
        "    super(Decoder, self).__init__()\n",
        "\n",
        "    self.seq_len, self.input_dim = seq_len, input_dim\n",
        "    self.hidden_dim, self.n_features = 2 * input_dim, n_features\n",
        "\n",
        "    self.rnn1 = nn.LSTM(\n",
        "      input_size=input_dim,\n",
        "      hidden_size=input_dim,\n",
        "      num_layers=1,\n",
        "      batch_first=True\n",
        "    )\n",
        "\n",
        "    self.rnn2 = nn.LSTM(\n",
        "      input_size=input_dim,\n",
        "      hidden_size=self.hidden_dim,\n",
        "      num_layers=1,\n",
        "      batch_first=True\n",
        "    )\n",
        "\n",
        "    self.output_layer = nn.Linear(self.hidden_dim, n_features)\n",
        "\n",
        "  def forward(self, x):\n",
        "    x = x.repeat(self.seq_len, self.n_features)\n",
        "    x = x.reshape((self.n_features, self.seq_len, self.input_dim))\n",
        "\n",
        "    x, (hidden_n, cell_n) = self.rnn1(x)\n",
        "    x, (hidden_n, cell_n) = self.rnn2(x)\n",
        "    x = x.reshape((self.seq_len, self.hidden_dim))\n",
        "\n",
        "    return self.output_layer(x)"
      ],
      "execution_count": 152,
      "outputs": []
    },
    {
      "cell_type": "markdown",
      "metadata": {
        "id": "-oPRDgg168aj"
      },
      "source": [
        "##VAE"
      ]
    },
    {
      "cell_type": "code",
      "metadata": {
        "id": "OoxrojR92HC7"
      },
      "source": [
        "import torch.nn as nn\n",
        "from torch.nn.functional import softplus\n",
        "\n",
        "# define size variables\n",
        "batch_size = 32\n",
        "#n_features = ?\n",
        "\n",
        "class VariationalAutoencoder(nn.Module):\n",
        "    def __init__(self, latent_features, num_samples, seq_len,n_features,embedding_dim=64):\n",
        "        super(VariationalAutoencoder, self).__init__()\n",
        "        \n",
        "        self.latent_features = latent_features\n",
        "        self.num_samples = num_samples\n",
        "        #self.seq_len = seq_len \n",
        "        \n",
        "\n",
        "        # We encode the data onto the latent space using two linear layers\n",
        "        self.encoder = Encoder(seq_len, n_features, embedding_dim)\n",
        "        # fully connected layers for learning representations\n",
        "        self.fc1 = nn.Linear(embedding_dim, 128)\n",
        "        self.fc_mu = nn.Linear(128, latent_features)\n",
        "        self.fc_log_var = nn.Linear(128, latent_features)\n",
        "        self.fc2 = nn.Linear(latent_features, embedding_dim)\n",
        "\n",
        "        self.decoder = Decoder(seq_len, embedding_dim, n_features)\n",
        "        \n",
        "    def reparameterize(self, mu, log_var):\n",
        "        \"\"\"\n",
        "        :param mu: mean from the encoder's latent space\n",
        "        :param log_var: log variance from the encoder's latent space\n",
        "        \"\"\"\n",
        "        std = torch.exp(0.5*log_var) # standard deviation\n",
        "        eps = torch.randn_like(std) # `randn_like` as we need the same size\n",
        "        sample = mu + (eps * std) # sampling\n",
        "        return sample\n",
        "\n",
        "    def forward(self, x): \n",
        "        outputs = {}\n",
        "        \n",
        "        x = self.encoder(x)\n",
        "\n",
        "        hidden = self.fc1(x)\n",
        "        # get `mu` and `log_var`\n",
        "        mu = self.fc_mu(hidden)\n",
        "        log_var = self.fc_log_var(hidden)\n",
        "        # get the latent vector through reparameterization\n",
        "        z = self.reparameterize(mu, log_var)\n",
        "        z = self.fc2(z)\n",
        "        \n",
        "        # Run through decoder\n",
        "        x = self.decoder(z)\n",
        "        \n",
        "        # The original digits are on the scale [0, 1]\n",
        "        x = torch.sigmoid(x)\n",
        "        x = x.unsqueeze(-1)\n",
        "        \n",
        "        # Mean over samples\n",
        "        x_hat = torch.mean(x, dim=1)\n",
        "        outputs[\"x_hat\"] = x_hat\n",
        "        outputs[\"z\"] = z\n",
        "        outputs[\"mu\"] = mu\n",
        "        outputs[\"log_var\"] = log_var\n",
        "        \n",
        "        return outputs"
      ],
      "execution_count": 153,
      "outputs": []
    },
    {
      "cell_type": "code",
      "metadata": {
        "colab": {
          "base_uri": "https://localhost:8080/"
        },
        "id": "q7nR7iEK8FJi",
        "outputId": "ea9f6aa0-5f83-40ce-d513-11ee8dab9356"
      },
      "source": [
        "cuda = torch.cuda.is_available()\n",
        "latent_features = 10\n",
        "num_samples = 5\n",
        "#seq_len = train_x.shape[1]\n",
        "#n_features = train_x.shape[2]\n",
        "\n",
        "net = VariationalAutoencoder(latent_features, num_samples, seq_len, n_features, 32).to(device)\n",
        "\n",
        "# Transfer model to GPU if available\n",
        "if cuda:\n",
        "    net = net.cuda()\n",
        "\n",
        "print(net)"
      ],
      "execution_count": 154,
      "outputs": [
        {
          "output_type": "stream",
          "text": [
            "VariationalAutoencoder(\n",
            "  (encoder): Encoder(\n",
            "    (rnn1): LSTM(1, 64, batch_first=True)\n",
            "    (rnn2): LSTM(64, 32, batch_first=True)\n",
            "  )\n",
            "  (fc1): Linear(in_features=32, out_features=128, bias=True)\n",
            "  (fc_mu): Linear(in_features=128, out_features=10, bias=True)\n",
            "  (fc_log_var): Linear(in_features=128, out_features=10, bias=True)\n",
            "  (fc2): Linear(in_features=10, out_features=32, bias=True)\n",
            "  (decoder): Decoder(\n",
            "    (rnn1): LSTM(32, 32, batch_first=True)\n",
            "    (rnn2): LSTM(32, 64, batch_first=True)\n",
            "    (output_layer): Linear(in_features=64, out_features=1, bias=True)\n",
            "  )\n",
            ")\n"
          ],
          "name": "stdout"
        }
      ]
    },
    {
      "cell_type": "code",
      "metadata": {
        "id": "1UxC39Mn8oCB"
      },
      "source": [
        "from torch.nn.functional import binary_cross_entropy\n",
        "from torch import optim\n",
        "\n",
        "def ELBO_loss(y, t, mu, log_var):\n",
        "    # Reconstruction error, log[p(x|z)]\n",
        "    # Sum over features\n",
        "    likelihood = -binary_cross_entropy(y, t, reduction=\"none\")\n",
        "    likelihood = likelihood.view(likelihood.size(0), -1).sum(1)\n",
        "\n",
        "    # Regularization error: \n",
        "    # Kulback-Leibler divergence between approximate posterior, q(z|x)\n",
        "    # and prior p(z) = N(z | mu, sigma*I).\n",
        "    \n",
        "    # In the case of the KL-divergence between diagonal covariance Gaussian and \n",
        "    # a standard Gaussian, an analytic solution exists. Using this excerts a lower\n",
        "    # variance estimator of KL(q||p)\n",
        "    kl = -0.5 * torch.sum(1 + log_var - mu**2 - torch.exp(log_var), dim=1)\n",
        "    #kl = 0 * torch.sum(1 + log_var - mu**2 - torch.exp(log_var), dim=1)\n",
        "\n",
        "    # Combining the two terms in the evidence lower bound objective (ELBO) \n",
        "    # mean over batch\n",
        "    ELBO = torch.mean(likelihood) - torch.mean(kl)\n",
        "    \n",
        "    # notice minus sign as we want to maximise ELBO\n",
        "    return -ELBO, kl.sum()\n",
        "\n",
        "\n",
        "# define our optimizer\n",
        "# The Adam optimizer works really well with VAEs.\n",
        "optimizer = optim.Adam(net.parameters(), lr=0.001)\n",
        "loss_function = ELBO_loss"
      ],
      "execution_count": 155,
      "outputs": []
    },
    {
      "cell_type": "code",
      "metadata": {
        "colab": {
          "base_uri": "https://localhost:8080/"
        },
        "id": "P1nlx4mT8xaL",
        "outputId": "0cea0f9b-8a00-49a4-f7af-a9e697f32868"
      },
      "source": [
        "from torch.autograd import Variable\n",
        "\n",
        "#x, _ = next(iter(train_dataset))\n",
        "#x = Variable(x)\n",
        "x =train_dataset[0].to(device)\n",
        "if cuda:\n",
        "    x = x.cuda()\n",
        "\n",
        "outputs = net(x)\n",
        "\n",
        "x_hat = outputs[\"x_hat\"]\n",
        "mu, log_var = outputs[\"mu\"], outputs[\"log_var\"]\n",
        "z = outputs[\"z\"]\n",
        "\n",
        "loss = loss_function(x_hat, x, mu, log_var)\n",
        "\n",
        "print(x.shape)\n",
        "print(x_hat.shape)\n",
        "print(z.shape)\n",
        "print(loss)\n",
        "print(kl)"
      ],
      "execution_count": 156,
      "outputs": [
        {
          "output_type": "stream",
          "text": [
            "torch.Size([140, 1])\n",
            "torch.Size([140, 1])\n",
            "torch.Size([1, 32])\n",
            "(tensor(0.8439, device='cuda:0', grad_fn=<NegBackward>), tensor(0.0751, device='cuda:0', grad_fn=<SumBackward0>))\n",
            "tensor(0.0023, device='cuda:0', grad_fn=<SumBackward0>)\n"
          ],
          "name": "stdout"
        }
      ]
    },
    {
      "cell_type": "code",
      "metadata": {
        "colab": {
          "base_uri": "https://localhost:8080/"
        },
        "id": "QSyYVFWM87NI",
        "outputId": "fac00046-89f0-4159-9973-6b76f2946164"
      },
      "source": [
        "import os\n",
        "\n",
        "num_epochs = 40\n",
        "history_elbo = dict(train_elbo=[], val_elbo=[])\n",
        "history_kl = dict(train_kl=[], val_kl=[])\n",
        "\n",
        "\n",
        "device = torch.device(\"cuda:0\" if cuda else \"cpu\")\n",
        "print(\"Using device:\", device)\n",
        "\n",
        "for epoch in range(num_epochs):\n",
        "    net.train()\n",
        "    \n",
        "    # Go through  in the training dataset \n",
        "    train_elbo_losses = []\n",
        "    for x in train_dataset:\n",
        "        # This is an alternative way of putting\n",
        "        # a tensor on the GPU\n",
        "        x = x.to(device)\n",
        "        \n",
        "        outputs = net(x)\n",
        "        x_hat = outputs['x_hat']\n",
        "        mu, log_var = outputs['mu'], outputs['log_var']\n",
        "\n",
        "        elbo,kl = loss_function(x_hat, x, mu, log_var)\n",
        "        \n",
        "        optimizer.zero_grad()\n",
        "        elbo.backward()\n",
        "        optimizer.step()\n",
        "        \n",
        "\n",
        "        train_elbo_losses.append(elbo.item())\n",
        "        train_kl_losses.append(kl.item())\n",
        "\n",
        "    # Evaluate, do not propagate gradients\n",
        "    with torch.no_grad():\n",
        "        net.eval()\n",
        "    valid_elbo_losses = [] \n",
        "    for x in val_dataset:\n",
        "        x = x.to(device)\n",
        "        \n",
        "        outputs = net(x)\n",
        "        x_hat = outputs['x_hat']\n",
        "        mu, log_var = outputs['mu'], outputs['log_var']\n",
        "        z = outputs[\"z\"]\n",
        "\n",
        "        elbo, kl = loss_function(x_hat, x, mu, log_var)\n",
        "        \n",
        "        # We save the latent variable and reconstruction for later use\n",
        "        # we will need them on the CPU to plot\n",
        "        x = x.to(\"cpu\")\n",
        "        x_hat = x_hat.to(\"cpu\")\n",
        "        z = z.detach().to(\"cpu\").numpy()\n",
        "\n",
        "        valid_elbo_losses.append(elbo.item())\n",
        "        valid_kl_losses.append(kl.item())\n",
        "    \n",
        "    train_elbo_loss = np.mean(train_elbo_losses)\n",
        "    train_kl_loss = np.mean(train_kl_losses)\n",
        "    valid_elbo_loss = np.mean(valid_elbo_losses)\n",
        "    valid_kl_loss = np.mean(valid_kl_losses)\n",
        "    print(f'Epoch {epoch}: train elbo loss {train_elbo_loss} train kl loss {train_kl_loss} val elbo loss {valid_elbo_loss} valid kl loss {valid_kl_loss}')  \n",
        "\n",
        "    # collecting losses\n",
        "    history_elbo['train_elbo'].append(train_elbo_loss)\n",
        "    history_kl['train_kl'].append(train_kl_loss)\n",
        "    history_elbo['val_elbo'].append(valid_elbo_loss)\n",
        "    history_kl['val_kl'].append(valid_kl_loss)"
      ],
      "execution_count": 157,
      "outputs": [
        {
          "output_type": "stream",
          "text": [
            "Using device: cuda:0\n",
            "Epoch 0: train elbo loss -7.728258738507907 train kl loss 0.0005655747073434347 val elbo loss -9.621091394141672 valid kl loss 0.0005006526368720289\n",
            "Epoch 1: train elbo loss -10.674563096749871 train kl loss 0.0005620230367306926 val elbo loss -11.46513267039439 valid kl loss 0.0005115024830386262\n",
            "Epoch 2: train elbo loss -11.749359780367717 train kl loss 0.0005585561187556273 val elbo loss -11.850016178124594 valid kl loss 0.0005072692171117777\n",
            "Epoch 3: train elbo loss -11.851970434022173 train kl loss 0.0006739249920810961 val elbo loss -11.932641474053314 valid kl loss 0.0005023444176016111\n",
            "Epoch 4: train elbo loss -12.245770459731155 train kl loss 0.0006651878792376635 val elbo loss -12.335670115190968 valid kl loss 0.0004957460379205292\n",
            "Epoch 5: train elbo loss -12.54735931133681 train kl loss 0.0006575785955629513 val elbo loss -12.582450101806849 valid kl loss 0.0004946077703665876\n",
            "Epoch 6: train elbo loss -12.797437694722055 train kl loss 0.0006537887994624303 val elbo loss -12.837907237404442 valid kl loss 0.0005053583700488256\n",
            "Epoch 7: train elbo loss -13.147119384141115 train kl loss 0.0006489180485666487 val elbo loss -13.302788297470926 valid kl loss 0.0004993838141126838\n",
            "Epoch 8: train elbo loss -13.438195108925546 train kl loss 0.0006397454445198405 val elbo loss -13.460701306932208 valid kl loss 0.0004946701762619279\n",
            "Epoch 9: train elbo loss -13.695975282249098 train kl loss 0.0006314459688830898 val elbo loss -13.654330551827726 valid kl loss 0.0004877020314511739\n",
            "Epoch 10: train elbo loss -13.796239772587054 train kl loss 0.0006245145995923402 val elbo loss -13.933067406810592 valid kl loss 0.00048123435093208676\n",
            "Epoch 11: train elbo loss -14.207147721361094 train kl loss 0.0006162001291270155 val elbo loss -14.32769056635912 valid kl loss 0.00047455971119198345\n",
            "Epoch 12: train elbo loss -14.450541828829211 train kl loss 0.0006094394896985758 val elbo loss -14.593662677771402 valid kl loss 0.0004676298807302026\n",
            "Epoch 13: train elbo loss -14.846039714837497 train kl loss 0.0006022004890016108 val elbo loss -14.878273954163639 valid kl loss 0.00046200795917255606\n",
            "Epoch 14: train elbo loss -15.105097941922137 train kl loss 0.0005953620798070357 val elbo loss -15.231408521990728 valid kl loss 0.00045732494833945536\n",
            "Epoch 15: train elbo loss -15.365143674553787 train kl loss 0.0006312534420232106 val elbo loss -15.172029808926501 valid kl loss 0.0004901610431362174\n",
            "Epoch 16: train elbo loss -15.389829206950466 train kl loss 0.0006263784480037817 val elbo loss -15.430513349409397 valid kl loss 0.0005294494233656016\n",
            "Epoch 17: train elbo loss -15.42219728894805 train kl loss 0.000625682081587728 val elbo loss -15.430096935900405 valid kl loss 0.0005223469083337595\n",
            "Epoch 18: train elbo loss -15.716333508667194 train kl loss 0.0006179205611242616 val elbo loss -15.639408963125314 valid kl loss 0.0005159454904260547\n",
            "Epoch 19: train elbo loss -15.884568209279777 train kl loss 0.0006100953078016991 val elbo loss -15.830008411163357 valid kl loss 0.0005094806133586215\n",
            "Epoch 20: train elbo loss -16.02589441428666 train kl loss 0.0007016859917603528 val elbo loss -16.241091328676244 valid kl loss 0.0005257901300138988\n",
            "Epoch 21: train elbo loss -16.8071906903863 train kl loss 0.0006934362205333754 val elbo loss -17.05330132949881 valid kl loss 0.0005185998399036174\n",
            "Epoch 22: train elbo loss -17.343896273245786 train kl loss 0.0006842308539947485 val elbo loss -17.530770525183694 valid kl loss 0.0005123603677696853\n",
            "Epoch 23: train elbo loss -18.93518665765368 train kl loss 0.0006775890537988719 val elbo loss -19.97773104926425 valid kl loss 0.0005067643112968124\n",
            "Epoch 24: train elbo loss -21.950284455546637 train kl loss 0.000672137654895617 val elbo loss -22.78339683628123 valid kl loss 0.0005163401940769582\n",
            "Epoch 25: train elbo loss -23.248386823716366 train kl loss 0.0006649532939418548 val elbo loss -23.129526257514954 valid kl loss 0.000510100656872253\n",
            "Epoch 26: train elbo loss -24.187305430362525 train kl loss 0.0006571855956564185 val elbo loss -25.642632201466544 valid kl loss 0.0005063327986017095\n",
            "Epoch 27: train elbo loss -25.633046419545558 train kl loss 0.0006502774910798875 val elbo loss -25.486349719274575 valid kl loss 0.0005009243486972742\n",
            "Epoch 28: train elbo loss -26.557951541631777 train kl loss 0.0006441020745752513 val elbo loss -27.140157928645813 valid kl loss 0.0004949286948800494\n",
            "Epoch 29: train elbo loss -27.74917507247308 train kl loss 0.0006365324905204223 val elbo loss -27.67311197458274 valid kl loss 0.0004889929658246593\n",
            "Epoch 30: train elbo loss -27.952651724645754 train kl loss 0.0006299427285660213 val elbo loss -27.769265527204443 valid kl loss 0.0004836264549619122\n",
            "Epoch 31: train elbo loss -28.057273885130833 train kl loss 0.0006228963063968639 val elbo loss -28.04325566723078 valid kl loss 0.000478513557525924\n",
            "Epoch 32: train elbo loss -26.865769242451154 train kl loss 0.0006170164615619993 val elbo loss -25.98911506161348 valid kl loss 0.00047282974724457283\n",
            "Epoch 33: train elbo loss -26.220836599274467 train kl loss 0.0006097726437847483 val elbo loss -25.9930780495393 valid kl loss 0.0004672771703045762\n",
            "Epoch 34: train elbo loss -26.410817376314295 train kl loss 0.0006030176121965331 val elbo loss -28.172051155119625 valid kl loss 0.00046188563181773207\n",
            "Epoch 35: train elbo loss -25.005416322768287 train kl loss 0.00059645424804983 val elbo loss -24.37200265044645 valid kl loss 0.00045673255547971735\n",
            "Epoch 36: train elbo loss -25.86033022906954 train kl loss 0.0005901576438237903 val elbo loss -23.636779580506854 valid kl loss 0.00045198536519304477\n",
            "Epoch 37: train elbo loss -25.901341746160696 train kl loss 0.0005842977891765329 val elbo loss -22.687396466935454 valid kl loss 0.00044692442767956637\n",
            "Epoch 38: train elbo loss -22.39442366653515 train kl loss 0.0005778221836006376 val elbo loss -22.175292450006506 valid kl loss 0.00044196237204967233\n",
            "Epoch 39: train elbo loss -22.41363015312646 train kl loss 0.000571545566220937 val elbo loss -22.25881735700796 valid kl loss 0.00043710697056253446\n"
          ],
          "name": "stdout"
        }
      ]
    },
    {
      "cell_type": "code",
      "metadata": {
        "colab": {
          "base_uri": "https://localhost:8080/",
          "height": 633
        },
        "id": "8EkAAbXo_Zpq",
        "outputId": "3bdea278-3acc-4c12-aa07-2150a4a3a08a"
      },
      "source": [
        "\n",
        "fig = plt.figure(figsize=(10,10))\n",
        "plt.subplot(211)\n",
        "plt.plot(list(range(0,len(history_elbo['train_elbo']))), history_elbo['train_elbo'],'r')\n",
        "plt.plot(list(range(0,len(history_elbo['val_elbo']))), history_elbo['val_elbo'],'g')\n",
        "plt.legend(['Train ELBO','Val ELBO'])\n",
        "plt.xlabel('EPOCH')\n",
        "plt.ylabel('Loss')\n",
        "plt.title('ELBO Loss')\n",
        "plt.show();\n",
        "\n",
        "fig = plt.figure(figsize=(10,10))\n",
        "plt.subplot(212)\n",
        "plt.plot(list(range(0,len(history_kl['train_kl']))), history_kl['train_kl'], 'r')\n",
        "plt.plot(list(range(0,len(history_kl['val_kl']))), history_kl['val_kl'],'g')\n",
        "plt.legend(['Train KL','Val KL'])\n",
        "plt.xlabel('EPOCH')\n",
        "plt.ylabel('Loss')\n",
        "plt.title('KL Loss')\n",
        "\n",
        "plt.show();"
      ],
      "execution_count": 158,
      "outputs": [
        {
          "output_type": "display_data",
          "data": {
            "image/png": "[encoded data removed]",
            "text/plain": [
              "<Figure size 720x720 with 1 Axes>"
            ]
          },
          "metadata": {
            "tags": [],
            "needs_background": "light"
          }
        },
        {
          "output_type": "display_data",
          "data": {
            "image/png": "[encoded data removed]",
            "text/plain": [
              "<Figure size 720x720 with 1 Axes>"
            ]
          },
          "metadata": {
            "tags": [],
            "needs_background": "light"
          }
        }
      ]
    },
    {
      "cell_type": "code",
      "metadata": {
        "id": "7l7i8jhx_7Lb"
      },
      "source": [
        "def predict(model,dataset):\n",
        "\n",
        "  with torch.no_grad():\n",
        "    model = model.eval()\n",
        "    predictions, elbo_loss, kl_loss = [], [], []   \n",
        "    for x in dataset:\n",
        "        x = x.to(device)\n",
        "        \n",
        "        outputs = model(x)\n",
        "        \n",
        "        x_hat = outputs['x_hat']\n",
        "        mu, log_var = outputs['mu'], outputs['log_var']\n",
        "        z = outputs[\"z\"]\n",
        "\n",
        "        elbo, kl = loss_function(x_hat, x, mu, log_var)\n",
        "        \n",
        "\n",
        "        elbo_loss.append(elbo.item())\n",
        "        kl_loss.append(kl.item())\n",
        "        predictions.append(x_hat.cpu().numpy().flatten())\n",
        "        return predictions, elbo_loss, kl_loss"
      ],
      "execution_count": 159,
      "outputs": []
    },
    {
      "cell_type": "code",
      "metadata": {
        "colab": {
          "base_uri": "https://localhost:8080/",
          "height": 353
        },
        "id": "Ox-cfBOdBZUs",
        "outputId": "31fead23-a9d7-409b-e75c-d476f90e6baa"
      },
      "source": [
        "_, elbo_loss, kl_loss = predict(net, train_dataset)\n",
        "\n",
        "sns.distplot(elbo_loss, bins=50, kde=True);"
      ],
      "execution_count": 160,
      "outputs": [
        {
          "output_type": "stream",
          "text": [
            "/usr/local/lib/python3.7/dist-packages/seaborn/distributions.py:2557: FutureWarning: `distplot` is a deprecated function and will be removed in a future version. Please adapt your code to use either `displot` (a figure-level function with similar flexibility) or `histplot` (an axes-level function for histograms).\n",
            "  warnings.warn(msg, FutureWarning)\n",
            "/usr/local/lib/python3.7/dist-packages/seaborn/distributions.py:306: UserWarning: Dataset has 0 variance; skipping density estimate.\n",
            "  warnings.warn(msg, UserWarning)\n"
          ],
          "name": "stderr"
        },
        {
          "output_type": "display_data",
          "data": {
            "image/png": "[encoded data removed]",
            "text/plain": [
              "<Figure size 432x288 with 1 Axes>"
            ]
          },
          "metadata": {
            "tags": [],
            "needs_background": "light"
          }
        }
      ]
    },
    {
      "cell_type": "code",
      "metadata": {
        "colab": {
          "base_uri": "https://localhost:8080/",
          "height": 353
        },
        "id": "QnLlLDXOBhI2",
        "outputId": "c804c667-2182-42a7-cce9-ee5c98108ef4"
      },
      "source": [
        "predictions, pred_losses,_ = predict(net, test_normal_dataset)\n",
        "sns.distplot(pred_losses, bins=50, kde=True);"
      ],
      "execution_count": 130,
      "outputs": [
        {
          "output_type": "stream",
          "text": [
            "/usr/local/lib/python3.7/dist-packages/seaborn/distributions.py:2557: FutureWarning: `distplot` is a deprecated function and will be removed in a future version. Please adapt your code to use either `displot` (a figure-level function with similar flexibility) or `histplot` (an axes-level function for histograms).\n",
            "  warnings.warn(msg, FutureWarning)\n",
            "/usr/local/lib/python3.7/dist-packages/seaborn/distributions.py:306: UserWarning: Dataset has 0 variance; skipping density estimate.\n",
            "  warnings.warn(msg, UserWarning)\n"
          ],
          "name": "stderr"
        },
        {
          "output_type": "display_data",
          "data": {
            "image/png": "[encoded data removed]",
            "text/plain": [
              "<Figure size 432x288 with 1 Axes>"
            ]
          },
          "metadata": {
            "tags": [],
            "needs_background": "light"
          }
        }
      ]
    },
    {
      "cell_type": "code",
      "metadata": {
        "colab": {
          "base_uri": "https://localhost:8080/"
        },
        "id": "25h64fo1NUkn",
        "outputId": "80ccf4b8-61e0-422a-86ba-b28d4be2199d"
      },
      "source": [
        "correct = sum([l <= 26 for l in pred_losses])\n",
        "print(f'Correct normal predictions: {correct}/{len(test_normal_dataset)}')"
      ],
      "execution_count": 131,
      "outputs": [
        {
          "output_type": "stream",
          "text": [
            "Correct normal predictions: 1/145\n"
          ],
          "name": "stdout"
        }
      ]
    },
    {
      "cell_type": "code",
      "metadata": {
        "id": "ZfNQGyU4Z-KX"
      },
      "source": [
        ""
      ],
      "execution_count": null,
      "outputs": []
    }
  ]
}