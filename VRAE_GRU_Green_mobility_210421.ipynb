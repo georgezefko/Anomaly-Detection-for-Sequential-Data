{
  "nbformat": 4,
  "nbformat_minor": 0,
  "metadata": {
    "accelerator": "GPU",
    "colab": {
      "name": "AML_VAE_NO_REnc_Green_mobility.ipynb",
      "provenance": [],
      "machine_shape": "hm",
      "include_colab_link": true
    },
    "kernelspec": {
      "display_name": "Python 3",
      "name": "python3"
    },
    "language_info": {
      "name": "python"
    }
  },
  "cells": [
    {
      "cell_type": "markdown",
      "metadata": {
        "id": "view-in-github",
        "colab_type": "text"
      },
      "source": [
        "<a href=\"https://colab.research.google.com/github/georgezefko/Anomaly-Detection-for-Sequential-Data/blob/branch_updates/VRAE_GRU_Green_mobility_210421.ipynb\" target=\"_parent\"><img src=\"https://colab.research.google.com/assets/colab-badge.svg\" alt=\"Open In Colab\"/></a>"
      ]
    },
    {
      "cell_type": "code",
      "metadata": {
        "colab": {
          "base_uri": "https://localhost:8080/"
        },
        "id": "gSmcjEonkIH3",
        "outputId": "126c0b2d-e41d-4d9f-aff1-68c77ec570fb"
      },
      "source": [
        "from google.colab import drive\n",
        "drive.mount('/content/drive', force_remount=True)"
      ],
      "execution_count": 2,
      "outputs": [
        {
          "output_type": "stream",
          "text": [
            "Mounted at /content/drive\n"
          ],
          "name": "stdout"
        }
      ]
    },
    {
      "cell_type": "code",
      "metadata": {
        "id": "ZOfF3qEoq1E3",
        "colab": {
          "base_uri": "https://localhost:8080/"
        },
        "outputId": "a95c5fc0-6946-4131-b7f5-c8af2d880c76"
      },
      "source": [
        "!pip3 install pickle5"
      ],
      "execution_count": 1,
      "outputs": [
        {
          "output_type": "stream",
          "text": [
            "Requirement already satisfied: pickle5 in /usr/local/lib/python3.7/dist-packages (0.0.11)\n"
          ],
          "name": "stdout"
        }
      ]
    },
    {
      "cell_type": "code",
      "metadata": {
        "id": "mUyh7zCf9D8Y"
      },
      "source": [
        "import numpy as np\n",
        "import torch\n",
        "from torch import nn, optim\n",
        "from torch import distributions\n",
        "from torch.utils.data import DataLoader, TensorDataset\n",
        "\n",
        "from torch.autograd import Variable\n",
        "import os\n",
        "import numpy as np\n",
        "from random import randint\n",
        "import os\n",
        "import matplotlib.pyplot as plt\n",
        "import pandas as pd\n",
        "from sklearn.model_selection import train_test_split\n",
        "import copy\n",
        "from torch.nn.parameter import Parameter\n",
        "import math\n",
        "from torch.nn import functional as F\n",
        "import seaborn as sns\n",
        "from sklearn.metrics import confusion_matrix, precision_recall_curve, roc_curve, auc, confusion_matrix, roc_auc_score\n",
        "\n",
        "import pickle5 as pickle"
      ],
      "execution_count": 2,
      "outputs": []
    },
    {
      "cell_type": "code",
      "metadata": {
        "id": "a4AY7fJy9JvZ"
      },
      "source": [
        "\n",
        "#Green mobility data\n",
        "path = '/content/drive/MyDrive/AdvancedML/data/aligned_GM-5683_DRD-e9efaba7-a322-4793-a019-9592fb3ee73f_IRI.pickle'\n",
        "with open(path, \"rb\") as fh:\n",
        "  data = pickle.load(fh)"
      ],
      "execution_count": 3,
      "outputs": []
    },
    {
      "cell_type": "code",
      "metadata": {
        "id": "b_TAzexkFzkY"
      },
      "source": [
        "train_data = data[['acc.xyz.z','IRI']]\n",
        "train_data_unstack = train_data.iloc[:,0].apply(list).apply(pd.Series)\n",
        "frames = pd.concat([train_data,train_data_unstack],axis=1)\n",
        "frames = frames.drop(labels = 'acc.xyz.z', axis=1)"
      ],
      "execution_count": 4,
      "outputs": []
    },
    {
      "cell_type": "code",
      "metadata": {
        "id": "EsPVRuokF3fV"
      },
      "source": [
        "def get_null(frames):\n",
        "    r,c = frames.shape\n",
        "    fig, ax = plt.subplots(figsize=(12,5))  \n",
        "    sns.heatmap(frames.isnull(), ax=ax, cbar=False, cmap=\"Blues\")\n",
        "    ax.vlines(range(c), *ax.get_ylim(),linewidths=0.8,color='black')\n",
        "    ax.axhline(y=0, color='k',linewidth=0.8)\n",
        "    ax.axhline(y=(r-150), color='k',linewidth=0.8)\n",
        "    ax.axvline(x=0, color='k',linewidth=0.8)\n",
        "    ax.axvline(x=c, color='k',linewidth=2)\n",
        "    plt.title('Visual inspection of missing values')\n",
        "    plt.xlabel('Attribute columns')\n",
        "    plt.ylabel('Row count')\n",
        "    plt.show()\n",
        "    "
      ],
      "execution_count": 144,
      "outputs": []
    },
    {
      "cell_type": "code",
      "metadata": {
        "id": "afISQmHZF6wU"
      },
      "source": [
        "thresh = len(frames) * 0.95\n",
        "frames.dropna(thresh = thresh, axis = 1, inplace = True)\n",
        "frames = frames.dropna().reset_index(drop=True)"
      ],
      "execution_count": 5,
      "outputs": []
    },
    {
      "cell_type": "code",
      "metadata": {
        "colab": {
          "base_uri": "https://localhost:8080/",
          "height": 419
        },
        "id": "C82GdAoHF79Q",
        "outputId": "a6ee14f6-fd3b-4618-f742-12f68946a184"
      },
      "source": [
        "frames"
      ],
      "execution_count": 62,
      "outputs": [
        {
          "output_type": "execute_result",
          "data": {
            "text/html": [
              "<div>\n",
              "<style scoped>\n",
              "    .dataframe tbody tr th:only-of-type {\n",
              "        vertical-align: middle;\n",
              "    }\n",
              "\n",
              "    .dataframe tbody tr th {\n",
              "        vertical-align: top;\n",
              "    }\n",
              "\n",
              "    .dataframe thead th {\n",
              "        text-align: right;\n",
              "    }\n",
              "</style>\n",
              "<table border=\"1\" class=\"dataframe\">\n",
              "  <thead>\n",
              "    <tr style=\"text-align: right;\">\n",
              "      <th></th>\n",
              "      <th>IRI</th>\n",
              "      <th>0</th>\n",
              "      <th>1</th>\n",
              "      <th>2</th>\n",
              "      <th>3</th>\n",
              "      <th>4</th>\n",
              "      <th>5</th>\n",
              "      <th>6</th>\n",
              "      <th>7</th>\n",
              "      <th>8</th>\n",
              "      <th>9</th>\n",
              "      <th>10</th>\n",
              "      <th>11</th>\n",
              "      <th>12</th>\n",
              "    </tr>\n",
              "  </thead>\n",
              "  <tbody>\n",
              "    <tr>\n",
              "      <th>0</th>\n",
              "      <td>2.484676</td>\n",
              "      <td>1.00</td>\n",
              "      <td>1.00</td>\n",
              "      <td>0.98</td>\n",
              "      <td>0.95</td>\n",
              "      <td>0.94</td>\n",
              "      <td>0.98</td>\n",
              "      <td>0.96</td>\n",
              "      <td>0.92</td>\n",
              "      <td>0.91</td>\n",
              "      <td>1.00</td>\n",
              "      <td>0.92</td>\n",
              "      <td>0.91</td>\n",
              "      <td>0.95</td>\n",
              "    </tr>\n",
              "    <tr>\n",
              "      <th>1</th>\n",
              "      <td>1.046971</td>\n",
              "      <td>1.00</td>\n",
              "      <td>1.00</td>\n",
              "      <td>1.00</td>\n",
              "      <td>1.02</td>\n",
              "      <td>1.05</td>\n",
              "      <td>1.04</td>\n",
              "      <td>1.02</td>\n",
              "      <td>1.09</td>\n",
              "      <td>1.09</td>\n",
              "      <td>1.07</td>\n",
              "      <td>1.00</td>\n",
              "      <td>1.09</td>\n",
              "      <td>1.09</td>\n",
              "    </tr>\n",
              "    <tr>\n",
              "      <th>2</th>\n",
              "      <td>1.291508</td>\n",
              "      <td>0.94</td>\n",
              "      <td>0.88</td>\n",
              "      <td>0.88</td>\n",
              "      <td>0.93</td>\n",
              "      <td>0.93</td>\n",
              "      <td>1.02</td>\n",
              "      <td>1.02</td>\n",
              "      <td>1.03</td>\n",
              "      <td>1.03</td>\n",
              "      <td>0.97</td>\n",
              "      <td>0.97</td>\n",
              "      <td>0.95</td>\n",
              "      <td>0.95</td>\n",
              "    </tr>\n",
              "    <tr>\n",
              "      <th>3</th>\n",
              "      <td>4.076767</td>\n",
              "      <td>1.00</td>\n",
              "      <td>0.93</td>\n",
              "      <td>0.95</td>\n",
              "      <td>0.99</td>\n",
              "      <td>0.97</td>\n",
              "      <td>0.95</td>\n",
              "      <td>0.95</td>\n",
              "      <td>0.95</td>\n",
              "      <td>0.95</td>\n",
              "      <td>0.95</td>\n",
              "      <td>0.94</td>\n",
              "      <td>0.91</td>\n",
              "      <td>0.95</td>\n",
              "    </tr>\n",
              "    <tr>\n",
              "      <th>4</th>\n",
              "      <td>1.119708</td>\n",
              "      <td>0.98</td>\n",
              "      <td>0.96</td>\n",
              "      <td>0.98</td>\n",
              "      <td>0.98</td>\n",
              "      <td>0.97</td>\n",
              "      <td>0.93</td>\n",
              "      <td>0.96</td>\n",
              "      <td>0.98</td>\n",
              "      <td>0.93</td>\n",
              "      <td>0.94</td>\n",
              "      <td>0.93</td>\n",
              "      <td>0.93</td>\n",
              "      <td>0.95</td>\n",
              "    </tr>\n",
              "    <tr>\n",
              "      <th>...</th>\n",
              "      <td>...</td>\n",
              "      <td>...</td>\n",
              "      <td>...</td>\n",
              "      <td>...</td>\n",
              "      <td>...</td>\n",
              "      <td>...</td>\n",
              "      <td>...</td>\n",
              "      <td>...</td>\n",
              "      <td>...</td>\n",
              "      <td>...</td>\n",
              "      <td>...</td>\n",
              "      <td>...</td>\n",
              "      <td>...</td>\n",
              "      <td>...</td>\n",
              "    </tr>\n",
              "    <tr>\n",
              "      <th>2281</th>\n",
              "      <td>0.616685</td>\n",
              "      <td>0.96</td>\n",
              "      <td>0.96</td>\n",
              "      <td>0.95</td>\n",
              "      <td>0.91</td>\n",
              "      <td>0.91</td>\n",
              "      <td>1.00</td>\n",
              "      <td>0.97</td>\n",
              "      <td>0.96</td>\n",
              "      <td>0.95</td>\n",
              "      <td>0.98</td>\n",
              "      <td>0.99</td>\n",
              "      <td>0.95</td>\n",
              "      <td>0.95</td>\n",
              "    </tr>\n",
              "    <tr>\n",
              "      <th>2282</th>\n",
              "      <td>0.924144</td>\n",
              "      <td>1.01</td>\n",
              "      <td>0.95</td>\n",
              "      <td>0.91</td>\n",
              "      <td>0.96</td>\n",
              "      <td>0.98</td>\n",
              "      <td>0.95</td>\n",
              "      <td>0.90</td>\n",
              "      <td>0.90</td>\n",
              "      <td>0.93</td>\n",
              "      <td>1.00</td>\n",
              "      <td>0.93</td>\n",
              "      <td>0.90</td>\n",
              "      <td>0.90</td>\n",
              "    </tr>\n",
              "    <tr>\n",
              "      <th>2283</th>\n",
              "      <td>0.868656</td>\n",
              "      <td>0.96</td>\n",
              "      <td>1.01</td>\n",
              "      <td>1.00</td>\n",
              "      <td>0.96</td>\n",
              "      <td>0.94</td>\n",
              "      <td>0.97</td>\n",
              "      <td>0.98</td>\n",
              "      <td>0.98</td>\n",
              "      <td>0.96</td>\n",
              "      <td>0.96</td>\n",
              "      <td>0.95</td>\n",
              "      <td>0.95</td>\n",
              "      <td>0.95</td>\n",
              "    </tr>\n",
              "    <tr>\n",
              "      <th>2284</th>\n",
              "      <td>0.851025</td>\n",
              "      <td>0.94</td>\n",
              "      <td>0.96</td>\n",
              "      <td>1.00</td>\n",
              "      <td>0.94</td>\n",
              "      <td>0.96</td>\n",
              "      <td>0.99</td>\n",
              "      <td>1.00</td>\n",
              "      <td>0.95</td>\n",
              "      <td>0.94</td>\n",
              "      <td>0.97</td>\n",
              "      <td>1.01</td>\n",
              "      <td>0.98</td>\n",
              "      <td>0.97</td>\n",
              "    </tr>\n",
              "    <tr>\n",
              "      <th>2285</th>\n",
              "      <td>1.150988</td>\n",
              "      <td>0.97</td>\n",
              "      <td>0.93</td>\n",
              "      <td>0.90</td>\n",
              "      <td>0.97</td>\n",
              "      <td>0.99</td>\n",
              "      <td>0.96</td>\n",
              "      <td>0.95</td>\n",
              "      <td>0.97</td>\n",
              "      <td>1.01</td>\n",
              "      <td>1.01</td>\n",
              "      <td>0.99</td>\n",
              "      <td>0.99</td>\n",
              "      <td>0.93</td>\n",
              "    </tr>\n",
              "  </tbody>\n",
              "</table>\n",
              "<p>2286 rows × 14 columns</p>\n",
              "</div>"
            ],
            "text/plain": [
              "           IRI     0     1     2     3  ...     8     9    10    11    12\n",
              "0     2.484676  1.00  1.00  0.98  0.95  ...  0.91  1.00  0.92  0.91  0.95\n",
              "1     1.046971  1.00  1.00  1.00  1.02  ...  1.09  1.07  1.00  1.09  1.09\n",
              "2     1.291508  0.94  0.88  0.88  0.93  ...  1.03  0.97  0.97  0.95  0.95\n",
              "3     4.076767  1.00  0.93  0.95  0.99  ...  0.95  0.95  0.94  0.91  0.95\n",
              "4     1.119708  0.98  0.96  0.98  0.98  ...  0.93  0.94  0.93  0.93  0.95\n",
              "...        ...   ...   ...   ...   ...  ...   ...   ...   ...   ...   ...\n",
              "2281  0.616685  0.96  0.96  0.95  0.91  ...  0.95  0.98  0.99  0.95  0.95\n",
              "2282  0.924144  1.01  0.95  0.91  0.96  ...  0.93  1.00  0.93  0.90  0.90\n",
              "2283  0.868656  0.96  1.01  1.00  0.96  ...  0.96  0.96  0.95  0.95  0.95\n",
              "2284  0.851025  0.94  0.96  1.00  0.94  ...  0.94  0.97  1.01  0.98  0.97\n",
              "2285  1.150988  0.97  0.93  0.90  0.97  ...  1.01  1.01  0.99  0.99  0.93\n",
              "\n",
              "[2286 rows x 14 columns]"
            ]
          },
          "metadata": {
            "tags": []
          },
          "execution_count": 62
        }
      ]
    },
    {
      "cell_type": "code",
      "metadata": {
        "colab": {
          "base_uri": "https://localhost:8080/",
          "height": 350
        },
        "id": "uRj7VJSqGBa3",
        "outputId": "203abe24-8f6f-4538-91d0-b11dd30ab035"
      },
      "source": [
        "get_null(frames)"
      ],
      "execution_count": 10,
      "outputs": [
        {
          "output_type": "display_data",
          "data": {
            "image/png": "[encoded data removed]",
            "text/plain": [
              "<Figure size 864x360 with 1 Axes>"
            ]
          },
          "metadata": {
            "tags": [],
            "needs_background": "light"
          }
        }
      ]
    },
    {
      "cell_type": "code",
      "metadata": {
        "id": "errVj3tVLfn0"
      },
      "source": [
        "frames = frames.iloc[:500,:25]"
      ],
      "execution_count": null,
      "outputs": []
    },
    {
      "cell_type": "code",
      "metadata": {
        "id": "D6FHZWNOEbdE"
      },
      "source": [
        "frames = frames.fillna(0)"
      ],
      "execution_count": null,
      "outputs": []
    },
    {
      "cell_type": "code",
      "metadata": {
        "colab": {
          "base_uri": "https://localhost:8080/",
          "height": 419
        },
        "id": "VNWIDgdaGvMI",
        "outputId": "f2375b7a-136c-42a6-8c5a-fc0c6746128d"
      },
      "source": [
        "frames"
      ],
      "execution_count": null,
      "outputs": [
        {
          "output_type": "execute_result",
          "data": {
            "text/html": [
              "<div>\n",
              "<style scoped>\n",
              "    .dataframe tbody tr th:only-of-type {\n",
              "        vertical-align: middle;\n",
              "    }\n",
              "\n",
              "    .dataframe tbody tr th {\n",
              "        vertical-align: top;\n",
              "    }\n",
              "\n",
              "    .dataframe thead th {\n",
              "        text-align: right;\n",
              "    }\n",
              "</style>\n",
              "<table border=\"1\" class=\"dataframe\">\n",
              "  <thead>\n",
              "    <tr style=\"text-align: right;\">\n",
              "      <th></th>\n",
              "      <th>IRI</th>\n",
              "      <th>0</th>\n",
              "      <th>1</th>\n",
              "      <th>2</th>\n",
              "      <th>3</th>\n",
              "      <th>4</th>\n",
              "      <th>5</th>\n",
              "      <th>6</th>\n",
              "      <th>7</th>\n",
              "      <th>8</th>\n",
              "      <th>9</th>\n",
              "      <th>10</th>\n",
              "      <th>11</th>\n",
              "      <th>12</th>\n",
              "      <th>13</th>\n",
              "      <th>14</th>\n",
              "      <th>15</th>\n",
              "      <th>16</th>\n",
              "      <th>17</th>\n",
              "      <th>18</th>\n",
              "      <th>19</th>\n",
              "      <th>20</th>\n",
              "      <th>21</th>\n",
              "      <th>22</th>\n",
              "      <th>23</th>\n",
              "    </tr>\n",
              "  </thead>\n",
              "  <tbody>\n",
              "    <tr>\n",
              "      <th>0</th>\n",
              "      <td>2.484676</td>\n",
              "      <td>1.00</td>\n",
              "      <td>1.00</td>\n",
              "      <td>0.98</td>\n",
              "      <td>0.95</td>\n",
              "      <td>0.94</td>\n",
              "      <td>0.98</td>\n",
              "      <td>0.96</td>\n",
              "      <td>0.92</td>\n",
              "      <td>0.91</td>\n",
              "      <td>1.00</td>\n",
              "      <td>0.92</td>\n",
              "      <td>0.91</td>\n",
              "      <td>0.95</td>\n",
              "      <td>0.94</td>\n",
              "      <td>0.97</td>\n",
              "      <td>0.97</td>\n",
              "      <td>0.93</td>\n",
              "      <td>0.92</td>\n",
              "      <td>0.92</td>\n",
              "      <td>0.97</td>\n",
              "      <td>0.94</td>\n",
              "      <td>0.95</td>\n",
              "      <td>0.98</td>\n",
              "      <td>1.00</td>\n",
              "    </tr>\n",
              "    <tr>\n",
              "      <th>1</th>\n",
              "      <td>1.046971</td>\n",
              "      <td>1.00</td>\n",
              "      <td>1.00</td>\n",
              "      <td>1.00</td>\n",
              "      <td>1.02</td>\n",
              "      <td>1.05</td>\n",
              "      <td>1.04</td>\n",
              "      <td>1.02</td>\n",
              "      <td>1.09</td>\n",
              "      <td>1.09</td>\n",
              "      <td>1.07</td>\n",
              "      <td>1.00</td>\n",
              "      <td>1.09</td>\n",
              "      <td>1.09</td>\n",
              "      <td>1.02</td>\n",
              "      <td>0.84</td>\n",
              "      <td>0.82</td>\n",
              "      <td>0.95</td>\n",
              "      <td>0.95</td>\n",
              "      <td>0.84</td>\n",
              "      <td>0.84</td>\n",
              "      <td>0.73</td>\n",
              "      <td>0.73</td>\n",
              "      <td>0.80</td>\n",
              "      <td>0.80</td>\n",
              "    </tr>\n",
              "    <tr>\n",
              "      <th>2</th>\n",
              "      <td>1.291508</td>\n",
              "      <td>0.94</td>\n",
              "      <td>0.88</td>\n",
              "      <td>0.88</td>\n",
              "      <td>0.93</td>\n",
              "      <td>0.93</td>\n",
              "      <td>1.02</td>\n",
              "      <td>1.02</td>\n",
              "      <td>1.03</td>\n",
              "      <td>1.03</td>\n",
              "      <td>0.97</td>\n",
              "      <td>0.97</td>\n",
              "      <td>0.95</td>\n",
              "      <td>0.95</td>\n",
              "      <td>1.03</td>\n",
              "      <td>1.03</td>\n",
              "      <td>1.05</td>\n",
              "      <td>0.98</td>\n",
              "      <td>0.98</td>\n",
              "      <td>1.07</td>\n",
              "      <td>1.02</td>\n",
              "      <td>1.02</td>\n",
              "      <td>0.97</td>\n",
              "      <td>0.97</td>\n",
              "      <td>0.97</td>\n",
              "    </tr>\n",
              "    <tr>\n",
              "      <th>3</th>\n",
              "      <td>4.076767</td>\n",
              "      <td>1.00</td>\n",
              "      <td>0.93</td>\n",
              "      <td>0.95</td>\n",
              "      <td>0.99</td>\n",
              "      <td>0.97</td>\n",
              "      <td>0.95</td>\n",
              "      <td>0.95</td>\n",
              "      <td>0.95</td>\n",
              "      <td>0.95</td>\n",
              "      <td>0.95</td>\n",
              "      <td>0.94</td>\n",
              "      <td>0.91</td>\n",
              "      <td>0.95</td>\n",
              "      <td>0.95</td>\n",
              "      <td>0.93</td>\n",
              "      <td>0.93</td>\n",
              "      <td>0.96</td>\n",
              "      <td>0.93</td>\n",
              "      <td>0.96</td>\n",
              "      <td>0.00</td>\n",
              "      <td>0.00</td>\n",
              "      <td>0.00</td>\n",
              "      <td>0.00</td>\n",
              "      <td>0.00</td>\n",
              "    </tr>\n",
              "    <tr>\n",
              "      <th>4</th>\n",
              "      <td>1.119708</td>\n",
              "      <td>0.98</td>\n",
              "      <td>0.96</td>\n",
              "      <td>0.98</td>\n",
              "      <td>0.98</td>\n",
              "      <td>0.97</td>\n",
              "      <td>0.93</td>\n",
              "      <td>0.96</td>\n",
              "      <td>0.98</td>\n",
              "      <td>0.93</td>\n",
              "      <td>0.94</td>\n",
              "      <td>0.93</td>\n",
              "      <td>0.93</td>\n",
              "      <td>0.95</td>\n",
              "      <td>0.95</td>\n",
              "      <td>0.97</td>\n",
              "      <td>0.96</td>\n",
              "      <td>0.96</td>\n",
              "      <td>0.98</td>\n",
              "      <td>0.96</td>\n",
              "      <td>0.94</td>\n",
              "      <td>0.94</td>\n",
              "      <td>0.97</td>\n",
              "      <td>0.96</td>\n",
              "      <td>0.00</td>\n",
              "    </tr>\n",
              "    <tr>\n",
              "      <th>...</th>\n",
              "      <td>...</td>\n",
              "      <td>...</td>\n",
              "      <td>...</td>\n",
              "      <td>...</td>\n",
              "      <td>...</td>\n",
              "      <td>...</td>\n",
              "      <td>...</td>\n",
              "      <td>...</td>\n",
              "      <td>...</td>\n",
              "      <td>...</td>\n",
              "      <td>...</td>\n",
              "      <td>...</td>\n",
              "      <td>...</td>\n",
              "      <td>...</td>\n",
              "      <td>...</td>\n",
              "      <td>...</td>\n",
              "      <td>...</td>\n",
              "      <td>...</td>\n",
              "      <td>...</td>\n",
              "      <td>...</td>\n",
              "      <td>...</td>\n",
              "      <td>...</td>\n",
              "      <td>...</td>\n",
              "      <td>...</td>\n",
              "      <td>...</td>\n",
              "    </tr>\n",
              "    <tr>\n",
              "      <th>495</th>\n",
              "      <td>0.691803</td>\n",
              "      <td>0.95</td>\n",
              "      <td>0.96</td>\n",
              "      <td>0.98</td>\n",
              "      <td>0.98</td>\n",
              "      <td>0.94</td>\n",
              "      <td>0.93</td>\n",
              "      <td>0.93</td>\n",
              "      <td>0.93</td>\n",
              "      <td>0.92</td>\n",
              "      <td>0.88</td>\n",
              "      <td>0.85</td>\n",
              "      <td>0.90</td>\n",
              "      <td>0.90</td>\n",
              "      <td>0.92</td>\n",
              "      <td>0.90</td>\n",
              "      <td>0.00</td>\n",
              "      <td>0.00</td>\n",
              "      <td>0.00</td>\n",
              "      <td>0.00</td>\n",
              "      <td>0.00</td>\n",
              "      <td>0.00</td>\n",
              "      <td>0.00</td>\n",
              "      <td>0.00</td>\n",
              "      <td>0.00</td>\n",
              "    </tr>\n",
              "    <tr>\n",
              "      <th>496</th>\n",
              "      <td>1.320132</td>\n",
              "      <td>0.93</td>\n",
              "      <td>0.96</td>\n",
              "      <td>0.96</td>\n",
              "      <td>0.96</td>\n",
              "      <td>0.96</td>\n",
              "      <td>0.95</td>\n",
              "      <td>0.96</td>\n",
              "      <td>0.96</td>\n",
              "      <td>1.02</td>\n",
              "      <td>0.97</td>\n",
              "      <td>0.97</td>\n",
              "      <td>1.00</td>\n",
              "      <td>0.97</td>\n",
              "      <td>0.97</td>\n",
              "      <td>0.00</td>\n",
              "      <td>0.00</td>\n",
              "      <td>0.00</td>\n",
              "      <td>0.00</td>\n",
              "      <td>0.00</td>\n",
              "      <td>0.00</td>\n",
              "      <td>0.00</td>\n",
              "      <td>0.00</td>\n",
              "      <td>0.00</td>\n",
              "      <td>0.00</td>\n",
              "    </tr>\n",
              "    <tr>\n",
              "      <th>497</th>\n",
              "      <td>1.447124</td>\n",
              "      <td>0.96</td>\n",
              "      <td>0.99</td>\n",
              "      <td>0.99</td>\n",
              "      <td>0.98</td>\n",
              "      <td>0.97</td>\n",
              "      <td>1.00</td>\n",
              "      <td>0.98</td>\n",
              "      <td>0.96</td>\n",
              "      <td>0.95</td>\n",
              "      <td>0.97</td>\n",
              "      <td>0.97</td>\n",
              "      <td>0.91</td>\n",
              "      <td>0.00</td>\n",
              "      <td>0.00</td>\n",
              "      <td>0.00</td>\n",
              "      <td>0.00</td>\n",
              "      <td>0.00</td>\n",
              "      <td>0.00</td>\n",
              "      <td>0.00</td>\n",
              "      <td>0.00</td>\n",
              "      <td>0.00</td>\n",
              "      <td>0.00</td>\n",
              "      <td>0.00</td>\n",
              "      <td>0.00</td>\n",
              "    </tr>\n",
              "    <tr>\n",
              "      <th>498</th>\n",
              "      <td>1.422309</td>\n",
              "      <td>0.95</td>\n",
              "      <td>0.89</td>\n",
              "      <td>0.91</td>\n",
              "      <td>0.87</td>\n",
              "      <td>0.94</td>\n",
              "      <td>0.94</td>\n",
              "      <td>0.96</td>\n",
              "      <td>0.96</td>\n",
              "      <td>0.98</td>\n",
              "      <td>0.97</td>\n",
              "      <td>0.98</td>\n",
              "      <td>0.98</td>\n",
              "      <td>0.97</td>\n",
              "      <td>0.99</td>\n",
              "      <td>0.99</td>\n",
              "      <td>0.99</td>\n",
              "      <td>0.99</td>\n",
              "      <td>0.97</td>\n",
              "      <td>0.91</td>\n",
              "      <td>0.95</td>\n",
              "      <td>0.95</td>\n",
              "      <td>0.95</td>\n",
              "      <td>0.89</td>\n",
              "      <td>0.88</td>\n",
              "    </tr>\n",
              "    <tr>\n",
              "      <th>499</th>\n",
              "      <td>2.085222</td>\n",
              "      <td>0.95</td>\n",
              "      <td>0.88</td>\n",
              "      <td>0.91</td>\n",
              "      <td>0.94</td>\n",
              "      <td>0.92</td>\n",
              "      <td>0.89</td>\n",
              "      <td>0.89</td>\n",
              "      <td>0.91</td>\n",
              "      <td>0.92</td>\n",
              "      <td>0.92</td>\n",
              "      <td>0.95</td>\n",
              "      <td>0.93</td>\n",
              "      <td>0.93</td>\n",
              "      <td>1.01</td>\n",
              "      <td>0.99</td>\n",
              "      <td>0.99</td>\n",
              "      <td>0.99</td>\n",
              "      <td>1.02</td>\n",
              "      <td>1.00</td>\n",
              "      <td>0.97</td>\n",
              "      <td>0.97</td>\n",
              "      <td>0.97</td>\n",
              "      <td>0.98</td>\n",
              "      <td>0.97</td>\n",
              "    </tr>\n",
              "  </tbody>\n",
              "</table>\n",
              "<p>500 rows × 25 columns</p>\n",
              "</div>"
            ],
            "text/plain": [
              "          IRI     0     1     2     3     4  ...    18    19    20    21    22    23\n",
              "0    2.484676  1.00  1.00  0.98  0.95  0.94  ...  0.92  0.97  0.94  0.95  0.98  1.00\n",
              "1    1.046971  1.00  1.00  1.00  1.02  1.05  ...  0.84  0.84  0.73  0.73  0.80  0.80\n",
              "2    1.291508  0.94  0.88  0.88  0.93  0.93  ...  1.07  1.02  1.02  0.97  0.97  0.97\n",
              "3    4.076767  1.00  0.93  0.95  0.99  0.97  ...  0.96  0.00  0.00  0.00  0.00  0.00\n",
              "4    1.119708  0.98  0.96  0.98  0.98  0.97  ...  0.96  0.94  0.94  0.97  0.96  0.00\n",
              "..        ...   ...   ...   ...   ...   ...  ...   ...   ...   ...   ...   ...   ...\n",
              "495  0.691803  0.95  0.96  0.98  0.98  0.94  ...  0.00  0.00  0.00  0.00  0.00  0.00\n",
              "496  1.320132  0.93  0.96  0.96  0.96  0.96  ...  0.00  0.00  0.00  0.00  0.00  0.00\n",
              "497  1.447124  0.96  0.99  0.99  0.98  0.97  ...  0.00  0.00  0.00  0.00  0.00  0.00\n",
              "498  1.422309  0.95  0.89  0.91  0.87  0.94  ...  0.91  0.95  0.95  0.95  0.89  0.88\n",
              "499  2.085222  0.95  0.88  0.91  0.94  0.92  ...  1.00  0.97  0.97  0.97  0.98  0.97\n",
              "\n",
              "[500 rows x 25 columns]"
            ]
          },
          "metadata": {
            "tags": []
          },
          "execution_count": 58
        }
      ]
    },
    {
      "cell_type": "code",
      "metadata": {
        "id": "8IGnAUF5GIaB"
      },
      "source": [
        "Normal = frames.loc[(frames['IRI'] <= 0.8)].drop(labels='IRI', axis=1).reset_index(drop=True)\n",
        "Anomaly = frames.loc[(frames['IRI'] >=2)].drop(labels='IRI', axis=1).reset_index(drop=True)"
      ],
      "execution_count": 6,
      "outputs": []
    },
    {
      "cell_type": "code",
      "metadata": {
        "id": "pRY7sxCO3Xx5"
      },
      "source": [
        "\n",
        "normal_df = np.expand_dims(Normal,-1)\n",
        "anomaly_df = np.expand_dims(Anomaly,-1)"
      ],
      "execution_count": 7,
      "outputs": []
    },
    {
      "cell_type": "code",
      "metadata": {
        "colab": {
          "base_uri": "https://localhost:8080/"
        },
        "id": "agsmAlJBGXq6",
        "outputId": "f743649f-b0d3-422b-e8cd-2b86aca1bbff"
      },
      "source": [
        "normal_df.shape"
      ],
      "execution_count": 279,
      "outputs": [
        {
          "output_type": "execute_result",
          "data": {
            "text/plain": [
              "(621, 13, 1)"
            ]
          },
          "metadata": {
            "tags": []
          },
          "execution_count": 279
        }
      ]
    },
    {
      "cell_type": "code",
      "metadata": {
        "colab": {
          "base_uri": "https://localhost:8080/"
        },
        "id": "v--Nvhf3smJP",
        "outputId": "823d6b9b-131d-479f-dbd1-a154ec3a542a"
      },
      "source": [
        "anomaly_df.shape"
      ],
      "execution_count": 280,
      "outputs": [
        {
          "output_type": "execute_result",
          "data": {
            "text/plain": [
              "(180, 13, 1)"
            ]
          },
          "metadata": {
            "tags": []
          },
          "execution_count": 280
        }
      ]
    },
    {
      "cell_type": "code",
      "metadata": {
        "id": "zo3WTN8Q9hJK"
      },
      "source": [
        "RANDOM_SEED = 42\n",
        "train_df, val_df = train_test_split(normal_df,test_size=0.15,random_state=RANDOM_SEED)\n",
        "val_df, test_df = train_test_split(val_df,test_size=0.33, random_state=RANDOM_SEED)\n",
        "train_dataset = TensorDataset(torch.from_numpy(train_df).float())\n",
        "test_dataset = TensorDataset(torch.from_numpy(test_df).float())\n",
        "val_dataset = TensorDataset(torch.from_numpy(val_df).float())\n",
        "\n",
        "#anomaly\n",
        "anomaly_dataset = TensorDataset(torch.from_numpy(anomaly_df).float())\n"
      ],
      "execution_count": 8,
      "outputs": []
    },
    {
      "cell_type": "code",
      "metadata": {
        "id": "NaRrwi9d40OT"
      },
      "source": [
        "seq_len = train_df.shape[1]\n",
        "n_features = train_df.shape[2]"
      ],
      "execution_count": 9,
      "outputs": []
    },
    {
      "cell_type": "code",
      "metadata": {
        "colab": {
          "base_uri": "https://localhost:8080/"
        },
        "id": "780OU6rHzDgF",
        "outputId": "d59b6447-a521-4c20-a767-7f3aa2fb51b9"
      },
      "source": [
        "seq_len"
      ],
      "execution_count": 283,
      "outputs": [
        {
          "output_type": "execute_result",
          "data": {
            "text/plain": [
              "13"
            ]
          },
          "metadata": {
            "tags": []
          },
          "execution_count": 283
        }
      ]
    },
    {
      "cell_type": "code",
      "metadata": {
        "id": "FmAJMQh_5RHz"
      },
      "source": [
        "cuda = torch.cuda.is_available()"
      ],
      "execution_count": 10,
      "outputs": []
    },
    {
      "cell_type": "code",
      "metadata": {
        "id": "JmPUpDKF9r9L"
      },
      "source": [
        "batch_size = 32\n",
        "train_loader = DataLoader(train_dataset, batch_size=batch_size, pin_memory=cuda,drop_last=True)\n",
        "test_loader  = DataLoader(test_dataset, batch_size=batch_size, pin_memory=cuda,drop_last=True)\n",
        "val_loader  = DataLoader(val_dataset, batch_size=batch_size, pin_memory=cuda, drop_last=True)\n",
        "anomaly_loader = DataLoader(anomaly_dataset, batch_size=batch_size, pin_memory=cuda,drop_last=True)"
      ],
      "execution_count": 11,
      "outputs": []
    },
    {
      "cell_type": "code",
      "metadata": {
        "id": "FWBqtQZI9u2C"
      },
      "source": [
        "device = torch.device(\"cuda\" if torch.cuda.is_available() else \"cpu\")"
      ],
      "execution_count": 12,
      "outputs": []
    },
    {
      "cell_type": "code",
      "metadata": {
        "id": "3rHWowkltrd7",
        "colab": {
          "base_uri": "https://localhost:8080/"
        },
        "outputId": "9b9b36a0-38b7-4dd5-9334-bf0036557414"
      },
      "source": [
        "for i in test_loader:\n",
        "  print(i[0].shape)"
      ],
      "execution_count": 13,
      "outputs": [
        {
          "output_type": "stream",
          "text": [
            "torch.Size([32, 13, 1])\n"
          ],
          "name": "stdout"
        }
      ]
    },
    {
      "cell_type": "code",
      "metadata": {
        "id": "wFAIS1wX9zV2"
      },
      "source": [
        "class Encoder(nn.Module):\n",
        "\n",
        "  def __init__(self, n_features, hidden_size, hidden_layer_depth, latent_length, bidirectional,dropout):\n",
        "\n",
        "    super(Encoder,self).__init__()\n",
        "\n",
        "\n",
        "    self.n_features = n_features\n",
        "    self.hidden_size = hidden_size\n",
        "    self.hidden_layer_depth = hidden_layer_depth\n",
        "    self.latent_length = latent_length\n",
        "    self.bidirectional = bidirectional\n",
        "    self.direction_factor = (2 if self.bidirectional else 1)\n",
        "    \n",
        "\n",
        "\n",
        "    self.rnn1 = nn.GRU( input_size=self.n_features, \n",
        "                       hidden_size=self.hidden_size, \n",
        "                       dropout = dropout, \n",
        "                       num_layers = self.hidden_layer_depth,\n",
        "                       batch_first=True,bidirectional = self.bidirectional)\n",
        "      \n",
        "  def forward(self, x):\n",
        "    \n",
        "    x = x.to(device)\n",
        "    #print('input',x.shape)\n",
        "    batch = x.size(0)\n",
        "    h0 = torch.zeros(hidden_layer_depth*self.direction_factor, batch, self.hidden_size).to(device)\n",
        "\n",
        "    out,hidden_n = self.rnn1(x,h0) \n",
        "    #print('hidden',hidden_n.shape)\n",
        "    if self.bidirectional:\n",
        "\n",
        "      last_hidden_state = hidden_n.view(hidden_layer_depth, self.direction_factor, batch, self.hidden_size)[-1] #(num_directions, batch, hidden_size)\n",
        "      #print('final',last_hidden_state.shape)\n",
        "      h_1, h_2 = last_hidden_state[0], last_hidden_state[1]\n",
        "      #print('h1',h_1.shape)\n",
        "      #print('h2',h_2.shape)\n",
        "\n",
        "      #X = h_1 + h_2                # Add both states (needs different input size for first linear layer)\n",
        "      hidden = torch.cat((h_1, h_2), 1)  # Concatenate both states\n",
        "      #print('X',hidden.shape)\n",
        "    else:\n",
        "      hidden = hidden_n[-1, :, :]\n",
        "      #print('cell',hidden.shape)\n",
        "    \n",
        "\n",
        "    return hidden\n",
        "\n"
      ],
      "execution_count": 14,
      "outputs": []
    },
    {
      "cell_type": "code",
      "metadata": {
        "id": "TC-fTM7Pl1qd",
        "colab": {
          "base_uri": "https://localhost:8080/"
        },
        "outputId": "889b55b2-6fd7-442c-dc37-e011ca50f5ec"
      },
      "source": [
        "hidden_size = 90\n",
        "hidden_layer_depth = 1\n",
        "latent_length = 20\n",
        "bidirectional = False\n",
        "\n",
        "# encoder\n",
        "en = Encoder(n_features, hidden_size, hidden_layer_depth, hidden_size, bidirectional, dropout).to(device)\n",
        "en\n"
      ],
      "execution_count": 102,
      "outputs": [
        {
          "output_type": "stream",
          "text": [
            "/usr/local/lib/python3.7/dist-packages/torch/nn/modules/rnn.py:63: UserWarning: dropout option adds dropout after all but last recurrent layer, so non-zero dropout expects num_layers greater than 1, but got dropout=0.2 and num_layers=1\n",
            "  \"num_layers={}\".format(dropout, num_layers))\n"
          ],
          "name": "stderr"
        },
        {
          "output_type": "execute_result",
          "data": {
            "text/plain": [
              "Encoder(\n",
              "  (rnn1): GRU(1, 90, batch_first=True, dropout=0.2)\n",
              ")"
            ]
          },
          "metadata": {
            "tags": []
          },
          "execution_count": 102
        }
      ]
    },
    {
      "cell_type": "code",
      "metadata": {
        "id": "GdH1JILymJtS"
      },
      "source": [
        "X= next(iter(train_loader))\n",
        "x = X[0].to(device)\n",
        "outputs = en(x.float())\n",
        "cell = outputs"
      ],
      "execution_count": 103,
      "outputs": []
    },
    {
      "cell_type": "code",
      "metadata": {
        "id": "0IOTzJKqmL2p",
        "colab": {
          "base_uri": "https://localhost:8080/"
        },
        "outputId": "8bf28448-e218-4136-edc7-2f12157ae4c4"
      },
      "source": [
        "print('cell',cell.shape)\n"
      ],
      "execution_count": 104,
      "outputs": [
        {
          "output_type": "stream",
          "text": [
            "cell torch.Size([32, 90])\n"
          ],
          "name": "stdout"
        }
      ]
    },
    {
      "cell_type": "code",
      "metadata": {
        "id": "vriDHSn6zM8o"
      },
      "source": [
        "class Latent(nn.Module):\n",
        "    \"\"\"Lambda module converts output of encoder to latent vector\n",
        "    :param hidden_size: hidden size of the encoder\n",
        "    :param latent_length: latent vector length\n",
        "    \"\"\"\n",
        "    def __init__(self, hidden_size, latent_length,bidirectional):\n",
        "        super(Latent, self).__init__()\n",
        "\n",
        "        self.bidirectional = bidirectional\n",
        "        self.direction_factor = (2 if self.bidirectional else 1)\n",
        "        self.hidden_size = hidden_size\n",
        "        self.latent_length = latent_length\n",
        "\n",
        "        self.hidden_to_mean = nn.Linear(self.hidden_size*self.direction_factor, self.latent_length)\n",
        "        self.hidden_to_logvar = nn.Linear(self.hidden_size*self.direction_factor, self.latent_length)\n",
        "\n",
        "        nn.init.xavier_uniform_(self.hidden_to_mean.weight)\n",
        "        nn.init.xavier_uniform_(self.hidden_to_logvar.weight)\n",
        "\n",
        "    def forward(self, cell_output):\n",
        "        \n",
        "        self.latent_mean = self.hidden_to_mean(cell_output)\n",
        "        self.latent_logvar = self.hidden_to_logvar(cell_output)\n",
        "        z_mu = self.latent_mean\n",
        "        z_var = self.latent_logvar\n",
        "        \n",
        "\n",
        "        \n",
        "        std = torch.exp(0.5 * self.latent_logvar)\n",
        "        eps = torch.randn_like(std)\n",
        "        sample = eps.mul(std).add_(self.latent_mean)\n",
        "\n",
        "        return sample, z_mu, z_var\n",
        "        "
      ],
      "execution_count": 15,
      "outputs": []
    },
    {
      "cell_type": "code",
      "metadata": {
        "id": "826itD_I5YrY"
      },
      "source": [
        "#latent\n",
        "latent_length=20\n",
        "bidirectional = False\n",
        "la = Latent(hidden_size,latent_length,bidirectional).to(device)"
      ],
      "execution_count": 106,
      "outputs": []
    },
    {
      "cell_type": "code",
      "metadata": {
        "id": "1rvCFtQT5Yop"
      },
      "source": [
        "sample,z_mu,z_var = la(cell)"
      ],
      "execution_count": 107,
      "outputs": []
    },
    {
      "cell_type": "code",
      "metadata": {
        "colab": {
          "base_uri": "https://localhost:8080/"
        },
        "id": "jX10ESuS6agz",
        "outputId": "224cc9c7-9e45-4220-8623-17c4ca146829"
      },
      "source": [
        "print(sample.shape)\n",
        "print(z_mu.shape)\n",
        "print(z_var.shape)"
      ],
      "execution_count": 108,
      "outputs": [
        {
          "output_type": "stream",
          "text": [
            "torch.Size([32, 20])\n",
            "torch.Size([32, 20])\n",
            "torch.Size([32, 20])\n"
          ],
          "name": "stdout"
        }
      ]
    },
    {
      "cell_type": "code",
      "metadata": {
        "id": "QiM1LVOQ93I_"
      },
      "source": [
        "\n",
        "class Decoder(nn.Module):\n",
        "\n",
        "  def __init__(self, seq_len, batch_size, hidden_size, hidden_layer_depth, latent_length, n_features,bidirectional):\n",
        "    super(Decoder, self).__init__()\n",
        "\n",
        "    self.hidden_size = hidden_size\n",
        "    self.batch_size = batch_size\n",
        "    self.seq_len = seq_len\n",
        "    self.hidden_layer_depth = hidden_layer_depth\n",
        "    self.latent_length = latent_length\n",
        "    self.n_features = n_features\n",
        "    self.bidirectional = bidirectional\n",
        "    self.direction_factor = (2 if self.bidirectional else 1)\n",
        "    \n",
        "    \n",
        "\n",
        "    self.rnn1 = nn.GRU(input_size=1,\n",
        "                       hidden_size=self.hidden_size,\n",
        "                       dropout = dropout,\n",
        "                       num_layers=hidden_layer_depth,\n",
        "                       batch_first=True,\n",
        "                       bidirectional= bidirectional\n",
        "                       )\n",
        "\n",
        "    \n",
        "\n",
        "    self.latent_to_hidden = nn.Linear(self.latent_length,self.hidden_size)\n",
        "    self.hidden_to_output = nn.Linear(self.hidden_size*self.direction_factor, self.n_features)\n",
        "\n",
        "    self.decoder_inputs = torch.zeros( self.batch_size, self.seq_len, 1, requires_grad=True).to(device)\n",
        "\n",
        "    nn.init.xavier_uniform_(self.latent_to_hidden.weight)\n",
        "    nn.init.xavier_uniform_(self.hidden_to_output.weight)\n",
        "\n",
        "\n",
        "  def forward(self, x):\n",
        "    #print('original',x.shape)\n",
        "    x = x.to(device)\n",
        "    h_state = self.latent_to_hidden(x)\n",
        "    #print('h_state',h_state.shape)\n",
        "\n",
        "\n",
        "    h_0 = torch.stack([h_state for _ in range(self.hidden_layer_depth*self.direction_factor)]).to(device)\n",
        "    #print('h0',h_0.shape)\n",
        "\n",
        "    \n",
        "    d = self.decoder_inputs\n",
        "    #print('input',d.shape)\n",
        "    decoder_output, _ = self.rnn1(self.decoder_inputs, h_0)\n",
        "    #print('decoder_output',decoder_output.shape)\n",
        "\n",
        "    out = self.hidden_to_output(decoder_output)\n",
        "\n",
        "    return out"
      ],
      "execution_count": 16,
      "outputs": []
    },
    {
      "cell_type": "code",
      "metadata": {
        "id": "hApna9du94k9"
      },
      "source": [
        "class VAE(nn.Module):\n",
        "\n",
        "  def __init__(self, enc,lat,dec):\n",
        "\n",
        "    super(VAE,self).__init__()\n",
        "\n",
        "  \n",
        "    self.enc = enc\n",
        "    self.lat = lat\n",
        "    self.dec = dec\n",
        "    \n",
        "\n",
        "  def forward(self, x):\n",
        "\n",
        "    encoder_output = self.enc(x)\n",
        "    sample,z_mu,z_var = self.lat(encoder_output)\n",
        "    x_hat = self.dec(sample)\n",
        "\n",
        "\n",
        "\n",
        "    return x_hat, z_mu, z_var "
      ],
      "execution_count": 17,
      "outputs": []
    },
    {
      "cell_type": "code",
      "metadata": {
        "colab": {
          "base_uri": "https://localhost:8080/"
        },
        "id": "On7-e4mx98FK",
        "outputId": "9a598f07-356a-43d2-a9f9-f7d5e20d75fa"
      },
      "source": [
        "hidden_size = 90\n",
        "hidden_layer_depth = 1\n",
        "latent_length = 10\n",
        "dropout = 0.2\n",
        "bidirectional = True\n",
        "# encoder\n",
        "encoder = Encoder( n_features, hidden_size, hidden_layer_depth, latent_length,bidirectional, dropout)\n",
        "\n",
        "#latent\n",
        "latent = Latent( hidden_size, latent_length, bidirectional)\n",
        "\n",
        "# decoder\n",
        "decoder = Decoder(seq_len, batch_size, hidden_size, hidden_layer_depth, latent_length, n_features,bidirectional)\n",
        "\n",
        "# vae\n",
        "model = VAE(encoder,latent,decoder).to(device)\n",
        "\n",
        "\n",
        "\n",
        "print(model)"
      ],
      "execution_count": 18,
      "outputs": [
        {
          "output_type": "stream",
          "text": [
            "VAE(\n",
            "  (enc): Encoder(\n",
            "    (rnn1): GRU(1, 90, batch_first=True, dropout=0.2, bidirectional=True)\n",
            "  )\n",
            "  (lat): Latent(\n",
            "    (hidden_to_mean): Linear(in_features=180, out_features=10, bias=True)\n",
            "    (hidden_to_logvar): Linear(in_features=180, out_features=10, bias=True)\n",
            "  )\n",
            "  (dec): Decoder(\n",
            "    (rnn1): GRU(1, 90, batch_first=True, dropout=0.2, bidirectional=True)\n",
            "    (latent_to_hidden): Linear(in_features=10, out_features=90, bias=True)\n",
            "    (hidden_to_output): Linear(in_features=180, out_features=1, bias=True)\n",
            "  )\n",
            ")\n"
          ],
          "name": "stdout"
        },
        {
          "output_type": "stream",
          "text": [
            "/usr/local/lib/python3.7/dist-packages/torch/nn/modules/rnn.py:63: UserWarning: dropout option adds dropout after all but last recurrent layer, so non-zero dropout expects num_layers greater than 1, but got dropout=0.2 and num_layers=1\n",
            "  \"num_layers={}\".format(dropout, num_layers))\n"
          ],
          "name": "stderr"
        }
      ]
    },
    {
      "cell_type": "code",
      "metadata": {
        "id": "JlC50fY332vU"
      },
      "source": [
        "def loss(X, x_hat, z_mu, z_var, beta, criterion):\n",
        "  \n",
        "\n",
        "  if criterion == 'MSELoss':\n",
        "    criterion = nn.MSELoss(size_average=False)\n",
        "  elif criterion == 'SmoothL1Loss':\n",
        "    criterion = nn.SmoothL1Loss(size_average=False)\n",
        "\n",
        "  recon_loss = criterion(x_hat, X)\n",
        "  KL_loss = -0.5 * torch.mean(1 + z_var - z_mu**2 - torch.exp(z_var))\n",
        "  elbo_loss = recon_loss + beta * KL_loss\n",
        "  \n",
        "  return elbo_loss, KL_loss"
      ],
      "execution_count": 19,
      "outputs": []
    },
    {
      "cell_type": "code",
      "metadata": {
        "id": "Cc5coPBu-F4m"
      },
      "source": [
        "optimizer = optim.Adam(model.parameters(), lr=0.0001) # lr derived from optimazation method\n",
        "\n",
        "#optimizer = optim.SGD(model.parameters(), lr=0.0001, momentum=0.9)"
      ],
      "execution_count": 20,
      "outputs": []
    },
    {
      "cell_type": "code",
      "metadata": {
        "colab": {
          "base_uri": "https://localhost:8080/"
        },
        "id": "1p8YTCYI-Izs",
        "outputId": "16400486-d133-4c05-9ab2-22740940168f"
      },
      "source": [
        "X= next(iter(train_loader))\n",
        "x = X[0].to(device)\n",
        "outputs = model(x.float())\n",
        "\n",
        "\n",
        "x_hat, z_mu, z_var = outputs\n",
        "\n",
        "#total_loss, elbo_loss, KL_loss = loss(x, x_hat, z_mu, z_var, x_sample, mu_rec, var_rec, z_sample,criterion='SmoothL1Loss')\n",
        "print('x',x.shape)\n",
        "print('mu',z_mu.shape)\n",
        "print('var',z_var.shape)\n",
        "print('x_hat',x_hat.shape)\n",
        "# print('total',total_loss)\n",
        "# print('elbo',elbo_loss)\n",
        "# print('KL',KL_loss)\n"
      ],
      "execution_count": 21,
      "outputs": [
        {
          "output_type": "stream",
          "text": [
            "x torch.Size([32, 13, 1])\n",
            "mu torch.Size([32, 10])\n",
            "var torch.Size([32, 10])\n",
            "x_hat torch.Size([32, 13, 1])\n"
          ],
          "name": "stdout"
        }
      ]
    },
    {
      "cell_type": "code",
      "metadata": {
        "colab": {
          "base_uri": "https://localhost:8080/"
        },
        "id": "P6WULzxfkWRw",
        "outputId": "3f275d03-5eb1-4763-c530-d325e4107f68"
      },
      "source": [
        "elbo_loss, KL_loss = loss(x, x_hat, z_mu, z_var,beta=150,criterion='SmoothL1Loss')\n",
        "\n",
        "print(elbo_loss)\n",
        "print(KL_loss)"
      ],
      "execution_count": 22,
      "outputs": [
        {
          "output_type": "stream",
          "text": [
            "tensor(263.3459, device='cuda:0', grad_fn=<AddBackward0>)\n",
            "tensor(0.0097, device='cuda:0', grad_fn=<MulBackward0>)\n"
          ],
          "name": "stdout"
        },
        {
          "output_type": "stream",
          "text": [
            "/usr/local/lib/python3.7/dist-packages/torch/nn/_reduction.py:42: UserWarning: size_average and reduce args will be deprecated, please use reduction='sum' instead.\n",
            "  warnings.warn(warning.format(ret))\n"
          ],
          "name": "stderr"
        }
      ]
    },
    {
      "cell_type": "code",
      "metadata": {
        "id": "4q-KBOMKChfa"
      },
      "source": [
        "def train():\n",
        " \n",
        "\n",
        "  model.train()\n",
        "\n",
        "  train_loss = []\n",
        "  train_kl = []\n",
        "  \n",
        "  \n",
        "\n",
        "  for t, X in enumerate(train_loader):\n",
        "\n",
        "    X =X[0]\n",
        "    #print('trina',X.shape)\n",
        "    X = X.to(device)\n",
        "\n",
        "    optimizer.zero_grad()\n",
        "\n",
        "    x_hat, z_mu, z_var= model(X)\n",
        "\n",
        "    elbo_loss, KL_loss = loss(X, x_hat, z_mu, z_var, beta = 150,criterion='MSELoss')\n",
        "    # total_loss = (len(train_loader)/X.shape[0])*total_loss\n",
        "    # elbo_loss = (len(train_loader)/X.shape[0])*elbo_loss\n",
        "\n",
        "    elbo_loss.backward()\n",
        "\n",
        "    train_loss.append(elbo_loss.item())\n",
        "    train_kl.append(KL_loss.item())\n",
        "    \n",
        "\n",
        "    optimizer.step()\n",
        "  \n",
        "  train_elbo_loss = np.mean(train_loss)\n",
        "  train_kl_loss = np.mean(train_kl)\n",
        " \n",
        "\n",
        "  return  train_elbo_loss,train_kl_loss"
      ],
      "execution_count": 23,
      "outputs": []
    },
    {
      "cell_type": "code",
      "metadata": {
        "id": "7vIAvRgoCi71"
      },
      "source": [
        "def test():\n",
        "\n",
        "  model.eval()\n",
        "\n",
        "  with torch.no_grad():\n",
        "    test_loss = []\n",
        "    test_kl = []\n",
        "    \n",
        "    for t, x in enumerate(val_loader):\n",
        "\n",
        "      x = x[0]\n",
        "      x = x.to(device)\n",
        "      x_hat, z_mu, z_var = model(x)\n",
        "      elbo_loss, KL_loss = loss(x, x_hat, z_mu, z_var,beta=150,criterion='SmoothL1Loss')\n",
        "      # total_loss = (len(val_loader)/x.shape[0])*total_loss\n",
        "      # elbo_loss = (len(val_loader)/x.shape[0])*elbo_loss\n",
        "\n",
        "      test_loss.append(elbo_loss.item())\n",
        "      test_kl.append(KL_loss.item())\n",
        "      \n",
        "\n",
        "  test_elbo_loss = np.mean(test_loss)\n",
        "  test_kl_loss = np.mean(test_kl)\n",
        "  \n",
        "\n",
        "  return model.eval(), test_elbo_loss,test_kl_loss"
      ],
      "execution_count": 24,
      "outputs": []
    },
    {
      "cell_type": "code",
      "metadata": {
        "id": "ITTlvdIR41ot"
      },
      "source": [
        "import time\n",
        "\n",
        "def epoch_time(start_time, end_time):\n",
        "    elapsed_time = end_time - start_time\n",
        "    elapsed_mins = int(elapsed_time / 60)\n",
        "    elapsed_secs = int(elapsed_time - (elapsed_mins * 60))\n",
        "    return elapsed_mins, elapsed_secs"
      ],
      "execution_count": 25,
      "outputs": []
    },
    {
      "cell_type": "code",
      "metadata": {
        "colab": {
          "base_uri": "https://localhost:8080/"
        },
        "id": "XV_p0xxvCmeg",
        "outputId": "42610381-b112-4564-df12-ebaa51878eba"
      },
      "source": [
        "epochs = 100\n",
        "\n",
        "best_model_wts = copy.deepcopy(model.state_dict())\n",
        "best_loss = 10000.0\n",
        "history_elbo = dict(train_elbo=[], test_elbo=[])\n",
        "history_kl = dict(train_kl=[], test_kl=[])\n",
        "\n",
        "\n",
        "device = torch.device(\"cuda:0\" if cuda else \"cpu\")\n",
        "print(\"Using device:\", device)\n",
        "\n",
        "for e in range(epochs):\n",
        "\n",
        "  start_time = time.time()\n",
        "\n",
        "  train_elbo_loss, train_kl_loss = train()\n",
        "  model, test_elbo_loss, test_kl_loss  = test()\n",
        "\n",
        "  end_time = time.time()\n",
        "\n",
        "  epoch_mins, epoch_secs = epoch_time(start_time, end_time)\n",
        "\n",
        "  if best_loss > test_elbo_loss:\n",
        "    best_test_loss = test_elbo_loss\n",
        "    best_model_wts = copy.deepcopy(model.state_dict())\n",
        "\n",
        "  print(f'Epoch: {e+1:02} | Epoch Time: {epoch_mins}m {epoch_secs}s')\n",
        "  print(f'\\t train elbo loss {train_elbo_loss}   | train kl loss {train_kl_loss}') \n",
        "  print(f'\\t val  val elbo loss {test_elbo_loss} | valid kl loss {test_kl_loss}') \n",
        "\n",
        "\n",
        "  history_elbo['train_elbo'].append(train_elbo_loss)\n",
        "  history_elbo['test_elbo'].append(test_elbo_loss)\n",
        "\n",
        "  history_kl['train_kl'].append(train_kl_loss)\n",
        "  history_kl['test_kl'].append(test_kl_loss)\n"
      ],
      "execution_count": 26,
      "outputs": [
        {
          "output_type": "stream",
          "text": [
            "Using device: cuda:0\n",
            "Epoch: 01 | Epoch Time: 0m 0s\n",
            "\t train elbo loss 480.16029930114746   | train kl loss 0.009028794767800719\n",
            "\t val  val elbo loss 204.2730255126953 | valid kl loss 0.009319603443145752\n"
          ],
          "name": "stdout"
        },
        {
          "output_type": "stream",
          "text": [
            "/usr/local/lib/python3.7/dist-packages/torch/nn/_reduction.py:42: UserWarning: size_average and reduce args will be deprecated, please use reduction='sum' instead.\n",
            "  warnings.warn(warning.format(ret))\n"
          ],
          "name": "stderr"
        },
        {
          "output_type": "stream",
          "text": [
            "Epoch: 02 | Epoch Time: 0m 0s\n",
            "\t train elbo loss 364.296838760376   | train kl loss 0.011205983522813767\n",
            "\t val  val elbo loss 155.557373046875 | valid kl loss 0.014198041521012783\n",
            "Epoch: 03 | Epoch Time: 0m 0s\n",
            "\t train elbo loss 269.89746952056885   | train kl loss 0.018277587601915002\n",
            "\t val  val elbo loss 108.932861328125 | valid kl loss 0.023920904844999313\n",
            "Epoch: 04 | Epoch Time: 0m 0s\n",
            "\t train elbo loss 189.96285247802734   | train kl loss 0.03060729941353202\n",
            "\t val  val elbo loss 77.91618347167969 | valid kl loss 0.03935030475258827\n",
            "Epoch: 05 | Epoch Time: 0m 0s\n",
            "\t train elbo loss 126.07018899917603   | train kl loss 0.04921571258455515\n",
            "\t val  val elbo loss 51.51731872558594 | valid kl loss 0.061739709228277206\n",
            "Epoch: 06 | Epoch Time: 0m 0s\n",
            "\t train elbo loss 72.83642745018005   | train kl loss 0.07414409914053977\n",
            "\t val  val elbo loss 31.46648597717285 | valid kl loss 0.08762460201978683\n",
            "Epoch: 07 | Epoch Time: 0m 0s\n",
            "\t train elbo loss 44.366875886917114   | train kl loss 0.09503793995827436\n",
            "\t val  val elbo loss 25.656064987182617 | valid kl loss 0.09846131503582001\n",
            "Epoch: 08 | Epoch Time: 0m 0s\n",
            "\t train elbo loss 31.505601167678833   | train kl loss 0.09253505989909172\n",
            "\t val  val elbo loss 22.02954864501953 | valid kl loss 0.08372662216424942\n",
            "Epoch: 09 | Epoch Time: 0m 0s\n",
            "\t train elbo loss 26.634102821350098   | train kl loss 0.07435307931154966\n",
            "\t val  val elbo loss 17.588577270507812 | valid kl loss 0.06416843831539154\n",
            "Epoch: 10 | Epoch Time: 0m 0s\n",
            "\t train elbo loss 21.853342652320862   | train kl loss 0.0571397680323571\n",
            "\t val  val elbo loss 13.728748321533203 | valid kl loss 0.05061887577176094\n",
            "Epoch: 11 | Epoch Time: 0m 0s\n",
            "\t train elbo loss 19.097282886505127   | train kl loss 0.04621915053576231\n",
            "\t val  val elbo loss 11.051631927490234 | valid kl loss 0.04196581616997719\n",
            "Epoch: 12 | Epoch Time: 0m 0s\n",
            "\t train elbo loss 15.357929468154907   | train kl loss 0.03837292920798063\n",
            "\t val  val elbo loss 11.497051239013672 | valid kl loss 0.03460567817091942\n",
            "Epoch: 13 | Epoch Time: 0m 0s\n",
            "\t train elbo loss 14.65535444021225   | train kl loss 0.03173089225310832\n",
            "\t val  val elbo loss 7.9941205978393555 | valid kl loss 0.028862668201327324\n",
            "Epoch: 14 | Epoch Time: 0m 0s\n",
            "\t train elbo loss 12.250718712806702   | train kl loss 0.02658312360290438\n",
            "\t val  val elbo loss 7.5704755783081055 | valid kl loss 0.024289671331644058\n",
            "Epoch: 15 | Epoch Time: 0m 0s\n",
            "\t train elbo loss 10.890977680683136   | train kl loss 0.02244749735109508\n",
            "\t val  val elbo loss 5.754478454589844 | valid kl loss 0.020500928163528442\n",
            "Epoch: 16 | Epoch Time: 0m 0s\n",
            "\t train elbo loss 10.473563015460968   | train kl loss 0.01888980343937874\n",
            "\t val  val elbo loss 5.91701602935791 | valid kl loss 0.017209907993674278\n",
            "Epoch: 17 | Epoch Time: 0m 0s\n",
            "\t train elbo loss 9.575457483530045   | train kl loss 0.016056174994446337\n",
            "\t val  val elbo loss 5.1368865966796875 | valid kl loss 0.014789787121117115\n",
            "Epoch: 18 | Epoch Time: 0m 0s\n",
            "\t train elbo loss 7.460501134395599   | train kl loss 0.013503699970897287\n",
            "\t val  val elbo loss 4.65236759185791 | valid kl loss 0.012120483443140984\n",
            "Epoch: 19 | Epoch Time: 0m 0s\n",
            "\t train elbo loss 6.834005028009415   | train kl loss 0.011022822058293968\n",
            "\t val  val elbo loss 3.9430992603302 | valid kl loss 0.009862049482762814\n",
            "Epoch: 20 | Epoch Time: 0m 0s\n",
            "\t train elbo loss 6.035800874233246   | train kl loss 0.008902749046683311\n",
            "\t val  val elbo loss 3.8326714038848877 | valid kl loss 0.007922266609966755\n",
            "Epoch: 21 | Epoch Time: 0m 0s\n",
            "\t train elbo loss 5.092007055878639   | train kl loss 0.007127934455638751\n",
            "\t val  val elbo loss 2.855959892272949 | valid kl loss 0.006335853133350611\n",
            "Epoch: 22 | Epoch Time: 0m 0s\n",
            "\t train elbo loss 4.683694392442703   | train kl loss 0.005711591016734019\n",
            "\t val  val elbo loss 2.527398109436035 | valid kl loss 0.005087494850158691\n",
            "Epoch: 23 | Epoch Time: 0m 0s\n",
            "\t train elbo loss 3.9823810011148453   | train kl loss 0.004563404247164726\n",
            "\t val  val elbo loss 2.1304965019226074 | valid kl loss 0.004032698459923267\n",
            "Epoch: 24 | Epoch Time: 0m 0s\n",
            "\t train elbo loss 3.6291478127241135   | train kl loss 0.0036106198240304366\n",
            "\t val  val elbo loss 1.9702917337417603 | valid kl loss 0.0031864033080637455\n",
            "Epoch: 25 | Epoch Time: 0m 0s\n",
            "\t train elbo loss 3.257501035928726   | train kl loss 0.002836184750776738\n",
            "\t val  val elbo loss 1.4099555015563965 | valid kl loss 0.002486651064828038\n",
            "Epoch: 26 | Epoch Time: 0m 0s\n",
            "\t train elbo loss 3.038155049085617   | train kl loss 0.0022151807497721165\n",
            "\t val  val elbo loss 1.3809865713119507 | valid kl loss 0.0019413318950682878\n",
            "Epoch: 27 | Epoch Time: 0m 0s\n",
            "\t train elbo loss 2.617236226797104   | train kl loss 0.0017131372514995746\n",
            "\t val  val elbo loss 1.5287017822265625 | valid kl loss 0.0014873052714392543\n",
            "Epoch: 28 | Epoch Time: 0m 0s\n",
            "\t train elbo loss 2.5935114324092865   | train kl loss 0.0013191260150051676\n",
            "\t val  val elbo loss 1.4907824993133545 | valid kl loss 0.0011576575925573707\n",
            "Epoch: 29 | Epoch Time: 0m 0s\n",
            "\t train elbo loss 2.23991372436285   | train kl loss 0.00102046441679704\n",
            "\t val  val elbo loss 1.1563957929611206 | valid kl loss 0.0008832361781969666\n",
            "Epoch: 30 | Epoch Time: 0m 0s\n",
            "\t train elbo loss 2.2106982469558716   | train kl loss 0.000777310888224747\n",
            "\t val  val elbo loss 0.8464820981025696 | valid kl loss 0.0006778682582080364\n",
            "Epoch: 31 | Epoch Time: 0m 0s\n",
            "\t train elbo loss 1.9667144268751144   | train kl loss 0.0005949553924438078\n",
            "\t val  val elbo loss 0.8814369440078735 | valid kl loss 0.000515966210514307\n",
            "Epoch: 32 | Epoch Time: 0m 0s\n",
            "\t train elbo loss 1.8419521674513817   | train kl loss 0.0004520777310972335\n",
            "\t val  val elbo loss 0.8078621625900269 | valid kl loss 0.000390177418012172\n",
            "Epoch: 33 | Epoch Time: 0m 0s\n",
            "\t train elbo loss 1.7003275603055954   | train kl loss 0.0003394508148630848\n",
            "\t val  val elbo loss 0.7475425004959106 | valid kl loss 0.00029288604855537415\n",
            "Epoch: 34 | Epoch Time: 0m 0s\n",
            "\t train elbo loss 1.5856078043580055   | train kl loss 0.0002551768830016954\n",
            "\t val  val elbo loss 0.8000711798667908 | valid kl loss 0.00022204453125596046\n",
            "Epoch: 35 | Epoch Time: 0m 0s\n",
            "\t train elbo loss 1.5707603991031647   | train kl loss 0.00019773597341554705\n",
            "\t val  val elbo loss 0.6116742491722107 | valid kl loss 0.00017657048010732979\n",
            "Epoch: 36 | Epoch Time: 0m 0s\n",
            "\t train elbo loss 1.455087922513485   | train kl loss 0.00015634367082384415\n",
            "\t val  val elbo loss 0.8066473007202148 | valid kl loss 0.00013836492144037038\n",
            "Epoch: 37 | Epoch Time: 0m 0s\n",
            "\t train elbo loss 1.3808173835277557   | train kl loss 0.00012112125477869995\n",
            "\t val  val elbo loss 0.6562361121177673 | valid kl loss 0.00010633729834808037\n",
            "Epoch: 38 | Epoch Time: 0m 0s\n",
            "\t train elbo loss 1.2421275526285172   | train kl loss 9.245376713806763e-05\n",
            "\t val  val elbo loss 0.6215754151344299 | valid kl loss 8.084522414719686e-05\n",
            "Epoch: 39 | Epoch Time: 0m 0s\n",
            "\t train elbo loss 1.2019436992704868   | train kl loss 7.16957565600751e-05\n",
            "\t val  val elbo loss 0.6214950084686279 | valid kl loss 6.432487134588882e-05\n",
            "Epoch: 40 | Epoch Time: 0m 0s\n",
            "\t train elbo loss 1.19647216796875   | train kl loss 5.7445938864475465e-05\n",
            "\t val  val elbo loss 0.45543283224105835 | valid kl loss 5.2099490858381614e-05\n",
            "Epoch: 41 | Epoch Time: 0m 0s\n",
            "\t train elbo loss 1.1643597111105919   | train kl loss 4.667057100959937e-05\n",
            "\t val  val elbo loss 0.5896269083023071 | valid kl loss 4.409905523061752e-05\n",
            "Epoch: 42 | Epoch Time: 0m 0s\n",
            "\t train elbo loss 1.058640692383051   | train kl loss 4.1378674268344184e-05\n",
            "\t val  val elbo loss 0.5371201634407043 | valid kl loss 3.931028913939372e-05\n",
            "Epoch: 43 | Epoch Time: 0m 0s\n",
            "\t train elbo loss 0.9970149919390678   | train kl loss 3.5835756762025994e-05\n",
            "\t val  val elbo loss 0.5092640519142151 | valid kl loss 3.3386611903551966e-05\n",
            "Epoch: 44 | Epoch Time: 0m 0s\n",
            "\t train elbo loss 1.0194137804210186   | train kl loss 3.102413643318869e-05\n",
            "\t val  val elbo loss 0.6796972155570984 | valid kl loss 2.979794589919038e-05\n",
            "Epoch: 45 | Epoch Time: 0m 0s\n",
            "\t train elbo loss 0.9888215363025665   | train kl loss 2.7896196570509346e-05\n",
            "\t val  val elbo loss 0.5418691039085388 | valid kl loss 2.628592847031541e-05\n",
            "Epoch: 46 | Epoch Time: 0m 0s\n",
            "\t train elbo loss 0.9043237529695034   | train kl loss 2.350055194710876e-05\n",
            "\t val  val elbo loss 0.41006630659103394 | valid kl loss 2.179620787501335e-05\n",
            "Epoch: 47 | Epoch Time: 0m 0s\n",
            "\t train elbo loss 0.9985198453068733   | train kl loss 2.0837440843024524e-05\n",
            "\t val  val elbo loss 0.43920379877090454 | valid kl loss 2.2775308025302365e-05\n",
            "Epoch: 48 | Epoch Time: 0m 0s\n",
            "\t train elbo loss 0.9139591045677662   | train kl loss 2.285706614202354e-05\n",
            "\t val  val elbo loss 0.4338671565055847 | valid kl loss 2.2434816855820827e-05\n",
            "Epoch: 49 | Epoch Time: 0m 0s\n",
            "\t train elbo loss 0.9740094058215618   | train kl loss 2.436547117667942e-05\n",
            "\t val  val elbo loss 0.39272671937942505 | valid kl loss 2.7546007913770154e-05\n",
            "Epoch: 50 | Epoch Time: 0m 0s\n",
            "\t train elbo loss 0.9055132456123829   | train kl loss 2.5109830630754004e-05\n",
            "\t val  val elbo loss 0.4239819347858429 | valid kl loss 2.3175123715191148e-05\n",
            "Epoch: 51 | Epoch Time: 0m 0s\n",
            "\t train elbo loss 0.8462487794458866   | train kl loss 2.0282005948502047e-05\n",
            "\t val  val elbo loss 0.46311911940574646 | valid kl loss 1.8727872884483077e-05\n",
            "Epoch: 52 | Epoch Time: 0m 0s\n",
            "\t train elbo loss 0.8197583742439747   | train kl loss 1.681821322563337e-05\n",
            "\t val  val elbo loss 0.3520236313343048 | valid kl loss 1.5959889424266294e-05\n",
            "Epoch: 53 | Epoch Time: 0m 0s\n",
            "\t train elbo loss 0.804084487259388   | train kl loss 1.5228404890876845e-05\n",
            "\t val  val elbo loss 0.34311655163764954 | valid kl loss 1.48075632750988e-05\n",
            "Epoch: 54 | Epoch Time: 0m 0s\n",
            "\t train elbo loss 0.7520058751106262   | train kl loss 1.327189397670736e-05\n",
            "\t val  val elbo loss 0.409685343503952 | valid kl loss 1.2139696991653182e-05\n",
            "Epoch: 55 | Epoch Time: 0m 0s\n",
            "\t train elbo loss 0.7264695912599564   | train kl loss 1.0951707736239769e-05\n",
            "\t val  val elbo loss 0.37516626715660095 | valid kl loss 1.0163430488319136e-05\n",
            "Epoch: 56 | Epoch Time: 0m 0s\n",
            "\t train elbo loss 0.791611909866333   | train kl loss 1.0326923984393943e-05\n",
            "\t val  val elbo loss 0.41639673709869385 | valid kl loss 1.1570658898563124e-05\n",
            "Epoch: 57 | Epoch Time: 0m 0s\n",
            "\t train elbo loss 0.7775147072970867   | train kl loss 1.2775248706020648e-05\n",
            "\t val  val elbo loss 0.3396458625793457 | valid kl loss 1.4076847946853377e-05\n",
            "Epoch: 58 | Epoch Time: 0m 0s\n",
            "\t train elbo loss 0.7132665999233723   | train kl loss 1.3500091370133305e-05\n",
            "\t val  val elbo loss 0.3030996322631836 | valid kl loss 1.3037584722042084e-05\n",
            "Epoch: 59 | Epoch Time: 0m 0s\n",
            "\t train elbo loss 0.7126357816159725   | train kl loss 1.1617329562341183e-05\n",
            "\t val  val elbo loss 0.30515432357788086 | valid kl loss 1.048678586812457e-05\n",
            "Epoch: 60 | Epoch Time: 0m 0s\n",
            "\t train elbo loss 0.7253718003630638   | train kl loss 1.0182830862959236e-05\n",
            "\t val  val elbo loss 0.2975935935974121 | valid kl loss 1.0234490218863357e-05\n",
            "Epoch: 61 | Epoch Time: 0m 0s\n",
            "\t train elbo loss 0.7114843539893627   | train kl loss 1.0499754125703475e-05\n",
            "\t val  val elbo loss 0.3114277422428131 | valid kl loss 1.0860525435418822e-05\n",
            "Epoch: 62 | Epoch Time: 0m 0s\n",
            "\t train elbo loss 0.6700306944549084   | train kl loss 1.028448485840272e-05\n",
            "\t val  val elbo loss 0.3120473325252533 | valid kl loss 9.420887181477156e-06\n",
            "Epoch: 63 | Epoch Time: 0m 0s\n",
            "\t train elbo loss 0.7043113857507706   | train kl loss 9.009777841129107e-06\n",
            "\t val  val elbo loss 0.3579499125480652 | valid kl loss 9.457580745220184e-06\n",
            "Epoch: 64 | Epoch Time: 0m 0s\n",
            "\t train elbo loss 0.6854870393872261   | train kl loss 9.347061961761938e-06\n",
            "\t val  val elbo loss 0.35275450348854065 | valid kl loss 9.841564860835206e-06\n",
            "Epoch: 65 | Epoch Time: 0m 0s\n",
            "\t train elbo loss 0.6418284066021442   | train kl loss 9.256153305159387e-06\n",
            "\t val  val elbo loss 0.31572917103767395 | valid kl loss 8.175428774848115e-06\n",
            "Epoch: 66 | Epoch Time: 0m 0s\n",
            "\t train elbo loss 0.6582010891288519   | train kl loss 7.095787566413492e-06\n",
            "\t val  val elbo loss 0.2607034146785736 | valid kl loss 6.90435990691185e-06\n",
            "Epoch: 67 | Epoch Time: 0m 0s\n",
            "\t train elbo loss 0.641039215028286   | train kl loss 7.361965430163764e-06\n",
            "\t val  val elbo loss 0.2867869436740875 | valid kl loss 7.207971066236496e-06\n",
            "Epoch: 68 | Epoch Time: 0m 0s\n",
            "\t train elbo loss 0.6152591668069363   | train kl loss 6.470404457559198e-06\n",
            "\t val  val elbo loss 0.2879234850406647 | valid kl loss 5.696620974049438e-06\n",
            "Epoch: 69 | Epoch Time: 0m 0s\n",
            "\t train elbo loss 0.5983050260692835   | train kl loss 5.146424655322335e-06\n",
            "\t val  val elbo loss 0.2839753031730652 | valid kl loss 4.810560767509742e-06\n",
            "Epoch: 70 | Epoch Time: 0m 0s\n",
            "\t train elbo loss 0.6296941787004471   | train kl loss 4.906632341317163e-06\n",
            "\t val  val elbo loss 0.2677955627441406 | valid kl loss 5.651265382766724e-06\n",
            "Epoch: 71 | Epoch Time: 0m 0s\n",
            "\t train elbo loss 0.5981979034841061   | train kl loss 5.715357957569722e-06\n",
            "\t val  val elbo loss 0.24409788846969604 | valid kl loss 5.588215117313666e-06\n",
            "Epoch: 72 | Epoch Time: 0m 0s\n",
            "\t train elbo loss 0.5907953977584839   | train kl loss 5.774671507197127e-06\n",
            "\t val  val elbo loss 0.2621505558490753 | valid kl loss 5.716551186196739e-06\n",
            "Epoch: 73 | Epoch Time: 0m 0s\n",
            "\t train elbo loss 0.584897106513381   | train kl loss 4.842196460685955e-06\n",
            "\t val  val elbo loss 0.29532378911972046 | valid kl loss 4.186667410976952e-06\n",
            "Epoch: 74 | Epoch Time: 0m 0s\n",
            "\t train elbo loss 0.5659212488681078   | train kl loss 4.061882023620456e-06\n",
            "\t val  val elbo loss 0.28806930780410767 | valid kl loss 4.088971763849258e-06\n",
            "Epoch: 75 | Epoch Time: 0m 0s\n",
            "\t train elbo loss 0.5849769208580256   | train kl loss 4.3373439240212974e-06\n",
            "\t val  val elbo loss 0.3012472093105316 | valid kl loss 4.676636308431625e-06\n",
            "Epoch: 76 | Epoch Time: 0m 0s\n",
            "\t train elbo loss 0.5668371077626944   | train kl loss 4.67763754841144e-06\n",
            "\t val  val elbo loss 0.24548549950122833 | valid kl loss 4.5181254790804815e-06\n",
            "Epoch: 77 | Epoch Time: 0m 0s\n",
            "\t train elbo loss 0.5577847510576248   | train kl loss 4.281976828224288e-06\n",
            "\t val  val elbo loss 0.26442110538482666 | valid kl loss 3.9696692510915454e-06\n",
            "Epoch: 78 | Epoch Time: 0m 0s\n",
            "\t train elbo loss 0.5445040836930275   | train kl loss 3.942556290326138e-06\n",
            "\t val  val elbo loss 0.2723664939403534 | valid kl loss 3.868155090458458e-06\n",
            "Epoch: 79 | Epoch Time: 0m 0s\n",
            "\t train elbo loss 0.5513772554695606   | train kl loss 3.9157749540663644e-06\n",
            "\t val  val elbo loss 0.290955126285553 | valid kl loss 3.911182375304634e-06\n",
            "Epoch: 80 | Epoch Time: 0m 0s\n",
            "\t train elbo loss 0.5496876183897257   | train kl loss 4.011590590380365e-06\n",
            "\t val  val elbo loss 0.24101004004478455 | valid kl loss 3.838352768070763e-06\n",
            "Epoch: 81 | Epoch Time: 0m 0s\n",
            "\t train elbo loss 0.5495989043265581   | train kl loss 3.780645855044895e-06\n",
            "\t val  val elbo loss 0.2601424753665924 | valid kl loss 3.873370587825775e-06\n",
            "Epoch: 82 | Epoch Time: 0m 0s\n",
            "\t train elbo loss 0.5415037777274847   | train kl loss 3.820611183869005e-06\n",
            "\t val  val elbo loss 0.22767452895641327 | valid kl loss 3.5870821193384472e-06\n",
            "Epoch: 83 | Epoch Time: 0m 0s\n",
            "\t train elbo loss 0.5374766476452351   | train kl loss 3.4793222454254646e-06\n",
            "\t val  val elbo loss 0.28610289096832275 | valid kl loss 3.34987430505862e-06\n",
            "Epoch: 84 | Epoch Time: 0m 0s\n",
            "\t train elbo loss 0.5327706430107355   | train kl loss 3.3450837264581423e-06\n",
            "\t val  val elbo loss 0.23440927267074585 | valid kl loss 3.359280526638031e-06\n",
            "Epoch: 85 | Epoch Time: 0m 0s\n",
            "\t train elbo loss 0.5353197604417801   | train kl loss 3.4929370258396375e-06\n",
            "\t val  val elbo loss 0.22897864878177643 | valid kl loss 3.724079533640179e-06\n",
            "Epoch: 86 | Epoch Time: 0m 0s\n",
            "\t train elbo loss 0.5233305729925632   | train kl loss 3.618298819674237e-06\n",
            "\t val  val elbo loss 0.23574888706207275 | valid kl loss 3.3296644232905237e-06\n",
            "Epoch: 87 | Epoch Time: 0m 0s\n",
            "\t train elbo loss 0.5259961597621441   | train kl loss 3.1242438467415923e-06\n",
            "\t val  val elbo loss 0.22831998765468597 | valid kl loss 3.1318515993916662e-06\n",
            "Epoch: 88 | Epoch Time: 0m 0s\n",
            "\t train elbo loss 0.53286999091506   | train kl loss 3.4690951480342846e-06\n",
            "\t val  val elbo loss 0.23972629010677338 | valid kl loss 3.827642558462685e-06\n",
            "Epoch: 89 | Epoch Time: 0m 0s\n",
            "\t train elbo loss 0.5007073543965816   | train kl loss 3.5938283531322668e-06\n",
            "\t val  val elbo loss 0.23587383329868317 | valid kl loss 3.2408163406216772e-06\n",
            "Epoch: 90 | Epoch Time: 0m 0s\n",
            "\t train elbo loss 0.5098700150847435   | train kl loss 2.9873278322156693e-06\n",
            "\t val  val elbo loss 0.22311609983444214 | valid kl loss 2.7203002446185565e-06\n",
            "Epoch: 91 | Epoch Time: 0m 0s\n",
            "\t train elbo loss 0.5204754695296288   | train kl loss 2.7218251830163354e-06\n",
            "\t val  val elbo loss 0.2221633791923523 | valid kl loss 2.8070062398910522e-06\n",
            "Epoch: 92 | Epoch Time: 0m 0s\n",
            "\t train elbo loss 0.5048933289945126   | train kl loss 3.111618624984658e-06\n",
            "\t val  val elbo loss 0.25196000933647156 | valid kl loss 3.171712251059944e-06\n",
            "Epoch: 93 | Epoch Time: 0m 0s\n",
            "\t train elbo loss 0.4985642321407795   | train kl loss 3.0451163581801666e-06\n",
            "\t val  val elbo loss 0.23745645582675934 | valid kl loss 2.73948535323143e-06\n",
            "Epoch: 94 | Epoch Time: 0m 0s\n",
            "\t train elbo loss 0.5000882055610418   | train kl loss 2.734706569640366e-06\n",
            "\t val  val elbo loss 0.21876347064971924 | valid kl loss 2.6315451577829663e-06\n",
            "Epoch: 95 | Epoch Time: 0m 0s\n",
            "\t train elbo loss 0.4845760092139244   | train kl loss 2.596224717876794e-06\n",
            "\t val  val elbo loss 0.22004154324531555 | valid kl loss 2.4817884423100622e-06\n",
            "Epoch: 96 | Epoch Time: 0m 0s\n",
            "\t train elbo loss 0.49457125179469585   | train kl loss 2.534559499167699e-06\n",
            "\t val  val elbo loss 0.23416899144649506 | valid kl loss 2.5275164716731524e-06\n",
            "Epoch: 97 | Epoch Time: 0m 0s\n",
            "\t train elbo loss 0.5000395011156797   | train kl loss 2.721563276963934e-06\n",
            "\t val  val elbo loss 0.21585184335708618 | valid kl loss 2.7097762540506665e-06\n",
            "Epoch: 98 | Epoch Time: 0m 0s\n",
            "\t train elbo loss 0.5000141877681017   | train kl loss 2.6847119727335667e-06\n",
            "\t val  val elbo loss 0.21656864881515503 | valid kl loss 2.4648384169267956e-06\n",
            "Epoch: 99 | Epoch Time: 0m 0s\n",
            "\t train elbo loss 0.478606179356575   | train kl loss 2.5172834980935477e-06\n",
            "\t val  val elbo loss 0.23782113194465637 | valid kl loss 2.3974105261004297e-06\n",
            "Epoch: 100 | Epoch Time: 0m 0s\n",
            "\t train elbo loss 0.47927355021238327   | train kl loss 2.465926847605715e-06\n",
            "\t val  val elbo loss 0.19833490252494812 | valid kl loss 2.3525208234786987e-06\n"
          ],
          "name": "stdout"
        }
      ]
    },
    {
      "cell_type": "code",
      "metadata": {
        "id": "T77GWqiPglHK"
      },
      "source": [
        "# save the model\n",
        "MODEL_PATH = 'model.pth'\n",
        "torch.save(model, MODEL_PATH)"
      ],
      "execution_count": 27,
      "outputs": []
    },
    {
      "cell_type": "code",
      "metadata": {
        "colab": {
          "base_uri": "https://localhost:8080/",
          "height": 449
        },
        "id": "jaXDAlImgsUD",
        "outputId": "25be6ed6-ca1d-46f8-98b9-d5a822746111"
      },
      "source": [
        "fig = plt.figure(figsize=(20,15))\n",
        "\n",
        "\n",
        "fig.add_subplot(2,2,1)\n",
        "plt.plot(list(range(0,len(history_elbo['train_elbo']))), history_elbo['train_elbo'],'r')\n",
        "plt.plot(list(range(0,len(history_elbo['test_elbo']))), history_elbo['test_elbo'],'g')\n",
        "plt.legend(['Train ELBO','Val ELBO'])\n",
        "plt.xlabel('EPOCH')\n",
        "plt.ylabel('Loss')\n",
        "plt.title('ELBO Loss')\n",
        "\n",
        "fig.add_subplot(2,2, 2)\n",
        "plt.plot(list(range(0,len(history_kl['train_kl']))), history_kl['train_kl'], 'r')\n",
        "plt.plot(list(range(0,len(history_kl['test_kl']))), history_kl['test_kl'],'g')\n",
        "plt.legend(['Train KL','Val KL'])\n",
        "plt.xlabel('EPOCH')\n",
        "plt.ylabel('Loss')\n",
        "plt.title('KL Loss')\n",
        "\n",
        "\n",
        "\n",
        "\n",
        "\n",
        "plt.show();\n",
        "\n"
      ],
      "execution_count": 28,
      "outputs": [
        {
          "output_type": "display_data",
          "data": {
            "image/png": "[encoded data removed]",
            "text/plain": [
              "<Figure size 1440x1080 with 2 Axes>"
            ]
          },
          "metadata": {
            "tags": [],
            "needs_background": "light"
          }
        }
      ]
    },
    {
      "cell_type": "code",
      "metadata": {
        "id": "4aoGYPvB0uaZ"
      },
      "source": [
        "def predict(model, dataset):\n",
        "    predictions = []\n",
        "    with torch.no_grad():\n",
        "        model = model.eval()\n",
        "    for t, X in enumerate(dataset):\n",
        "        X = X[0]\n",
        "        x = X.to(device)\n",
        "        #x = Variable(x, requires_grad = False)\n",
        "        x_hat, z_mu, z_var = model(x)\n",
        "        x_hat = x_hat.cpu().detach().numpy()\n",
        "        x_hat = np.squeeze(x_hat, axis=2)\n",
        "        predictions.append(x_hat)\n",
        "    predictions = np.concatenate(predictions, axis=0, out= None)\n",
        "    return predictions"
      ],
      "execution_count": 29,
      "outputs": []
    },
    {
      "cell_type": "code",
      "metadata": {
        "id": "pPJOw5Zo08go"
      },
      "source": [
        "predict_train = predict(model, train_loader)"
      ],
      "execution_count": 30,
      "outputs": []
    },
    {
      "cell_type": "code",
      "metadata": {
        "colab": {
          "base_uri": "https://localhost:8080/"
        },
        "id": "Ljrg6KlABdl7",
        "outputId": "d56348d7-1326-4fe8-a237-3e7b67b04fe8"
      },
      "source": [
        "predict_train.shape"
      ],
      "execution_count": 31,
      "outputs": [
        {
          "output_type": "execute_result",
          "data": {
            "text/plain": [
              "(512, 13)"
            ]
          },
          "metadata": {
            "tags": []
          },
          "execution_count": 31
        }
      ]
    },
    {
      "cell_type": "code",
      "metadata": {
        "id": "v2Lah1K51hnE"
      },
      "source": [
        "train_df = train_df[:512]\n",
        "train_original = np.squeeze(train_df,axis=2)"
      ],
      "execution_count": 32,
      "outputs": []
    },
    {
      "cell_type": "code",
      "metadata": {
        "colab": {
          "base_uri": "https://localhost:8080/"
        },
        "id": "1J8rxFYOB64b",
        "outputId": "07607872-d884-4b5f-edfa-5d726d7863ba"
      },
      "source": [
        "train_original.shape"
      ],
      "execution_count": 33,
      "outputs": [
        {
          "output_type": "execute_result",
          "data": {
            "text/plain": [
              "(512, 13)"
            ]
          },
          "metadata": {
            "tags": []
          },
          "execution_count": 33
        }
      ]
    },
    {
      "cell_type": "code",
      "metadata": {
        "colab": {
          "base_uri": "https://localhost:8080/",
          "height": 321
        },
        "id": "UwGEUatk1o9F",
        "outputId": "e79293be-873c-44f0-d68d-bfaa6a28e134"
      },
      "source": [
        "train_sq_loss = np.mean(( train_original- predict_train)**2, axis=1)\n",
        "sns.distplot(train_sq_loss, bins=40, kde=True)\n",
        "plt.show()"
      ],
      "execution_count": 34,
      "outputs": [
        {
          "output_type": "stream",
          "text": [
            "/usr/local/lib/python3.7/dist-packages/seaborn/distributions.py:2557: FutureWarning: `distplot` is a deprecated function and will be removed in a future version. Please adapt your code to use either `displot` (a figure-level function with similar flexibility) or `histplot` (an axes-level function for histograms).\n",
            "  warnings.warn(msg, FutureWarning)\n"
          ],
          "name": "stderr"
        },
        {
          "output_type": "display_data",
          "data": {
            "image/png": "[encoded data removed]",
            "text/plain": [
              "<Figure size 432x288 with 1 Axes>"
            ]
          },
          "metadata": {
            "tags": [],
            "needs_background": "light"
          }
        }
      ]
    },
    {
      "cell_type": "code",
      "metadata": {
        "colab": {
          "base_uri": "https://localhost:8080/"
        },
        "id": "zAbDy_Wx1ynw",
        "outputId": "2d8a4a31-6c67-40c4-aab3-8e58caf6c512"
      },
      "source": [
        "predict_test = predict(model, test_loader)\n",
        "predict_test.shape"
      ],
      "execution_count": 35,
      "outputs": [
        {
          "output_type": "execute_result",
          "data": {
            "text/plain": [
              "(32, 13)"
            ]
          },
          "metadata": {
            "tags": []
          },
          "execution_count": 35
        }
      ]
    },
    {
      "cell_type": "code",
      "metadata": {
        "colab": {
          "base_uri": "https://localhost:8080/",
          "height": 321
        },
        "id": "DnG7PA7pvxIA",
        "outputId": "1234493e-f67c-41e4-d7f0-0814839ae780"
      },
      "source": [
        "test_df=test_df[:32]\n",
        "test_original = np.squeeze(test_df,axis=2)\n",
        "test_sq_loss = np.mean(( test_original- predict_test)**2, axis=1)\n",
        "sns.distplot(test_sq_loss, bins=40, kde=True)\n",
        "plt.show()"
      ],
      "execution_count": 36,
      "outputs": [
        {
          "output_type": "stream",
          "text": [
            "/usr/local/lib/python3.7/dist-packages/seaborn/distributions.py:2557: FutureWarning: `distplot` is a deprecated function and will be removed in a future version. Please adapt your code to use either `displot` (a figure-level function with similar flexibility) or `histplot` (an axes-level function for histograms).\n",
            "  warnings.warn(msg, FutureWarning)\n"
          ],
          "name": "stderr"
        },
        {
          "output_type": "display_data",
          "data": {
            "image/png": "[encoded data removed]",
            "text/plain": [
              "<Figure size 432x288 with 1 Axes>"
            ]
          },
          "metadata": {
            "tags": [],
            "needs_background": "light"
          }
        }
      ]
    },
    {
      "cell_type": "code",
      "metadata": {
        "id": "wJq_g_uK18bM"
      },
      "source": [
        "\n",
        "# anomaly_dataset = TensorDataset(torch.from_numpy(anomaly_df).float())\n",
        "# anomaly_loader = DataLoader(anomaly_dataset, batch_size=batch_size, pin_memory=cuda,drop_last=True)\n",
        "predict_anomaly = predict(model, anomaly_loader)"
      ],
      "execution_count": 37,
      "outputs": []
    },
    {
      "cell_type": "code",
      "metadata": {
        "colab": {
          "base_uri": "https://localhost:8080/"
        },
        "id": "rFjIAUvEoC9n",
        "outputId": "e4c14d95-e6b8-41a1-8e62-9f52201883e4"
      },
      "source": [
        "predict_anomaly.shape"
      ],
      "execution_count": 38,
      "outputs": [
        {
          "output_type": "execute_result",
          "data": {
            "text/plain": [
              "(160, 13)"
            ]
          },
          "metadata": {
            "tags": []
          },
          "execution_count": 38
        }
      ]
    },
    {
      "cell_type": "code",
      "metadata": {
        "id": "KhCybFsyyqCg"
      },
      "source": [
        "anomaly_df = anomaly_df[:160]"
      ],
      "execution_count": 39,
      "outputs": []
    },
    {
      "cell_type": "code",
      "metadata": {
        "colab": {
          "base_uri": "https://localhost:8080/",
          "height": 319
        },
        "id": "AOtqquZlEegY",
        "outputId": "306fe9dc-c32c-4411-f850-078cb11045c1"
      },
      "source": [
        "anomaly_sq_loss = np.mean(( np.squeeze(anomaly_df) - predict_anomaly)**2, axis=1)\n",
        "sns.distplot(anomaly_sq_loss, bins=5, kde=True)\n",
        "plt.show()"
      ],
      "execution_count": 40,
      "outputs": [
        {
          "output_type": "stream",
          "text": [
            "/usr/local/lib/python3.7/dist-packages/seaborn/distributions.py:2557: FutureWarning: `distplot` is a deprecated function and will be removed in a future version. Please adapt your code to use either `displot` (a figure-level function with similar flexibility) or `histplot` (an axes-level function for histograms).\n",
            "  warnings.warn(msg, FutureWarning)\n"
          ],
          "name": "stderr"
        },
        {
          "output_type": "display_data",
          "data": {
            "image/png": "[encoded data removed]",
            "text/plain": [
              "<Figure size 432x288 with 1 Axes>"
            ]
          },
          "metadata": {
            "tags": [],
            "needs_background": "light"
          }
        }
      ]
    },
    {
      "cell_type": "code",
      "metadata": {
        "id": "TCnz2u-1J0K7"
      },
      "source": [
        "threshold_fixed = 0.003"
      ],
      "execution_count": 42,
      "outputs": []
    },
    {
      "cell_type": "code",
      "metadata": {
        "id": "9ZQzyw1nhpXr"
      },
      "source": [
        "def plot_prediction(data, reconstructed, title, ax):\n",
        "  ax.plot(data,'r', label='true')\n",
        "  ax.plot(reconstructed, 'b',label='reconstructed')\n",
        "  ax.set_title(f'{title} (Total loss: {np.around(np.mean(( data- reconstructed)**2), 2)})')\n",
        "  ax.legend()"
      ],
      "execution_count": 48,
      "outputs": []
    },
    {
      "cell_type": "code",
      "metadata": {
        "colab": {
          "base_uri": "https://localhost:8080/",
          "height": 585
        },
        "id": "tgSvMnRwhuGL",
        "outputId": "702f0f7b-4eb6-4656-911d-555e8a7e27d3"
      },
      "source": [
        "fig, axs = plt.subplots(nrows=2,ncols=6,sharey=True,sharex=True,figsize=(22, 8))\n",
        "\n",
        "for i, data in enumerate(test_original[:6]):\n",
        "  plot_prediction(data, predict_test[i], title='Normal', ax=axs[0, i])\n",
        "\n",
        "for i, data in enumerate(anomaly_df[:6]):\n",
        "  plot_prediction(data, predict_anomaly[i], title='Anomaly', ax=axs[1, i])\n",
        "\n",
        "fig.tight_layout();"
      ],
      "execution_count": 49,
      "outputs": [
        {
          "output_type": "display_data",
          "data": {
            "image/png": "[encoded data removed]",
            "text/plain": [
              "<Figure size 1584x576 with 12 Axes>"
            ]
          },
          "metadata": {
            "tags": [],
            "needs_background": "light"
          }
        }
      ]
    },
    {
      "cell_type": "code",
      "metadata": {
        "colab": {
          "base_uri": "https://localhost:8080/"
        },
        "id": "RAwebGjSVLcI",
        "outputId": "18b6f0f0-2e80-4850-dee9-3275063be8f2"
      },
      "source": [
        "len(anomaly_sq_loss)"
      ],
      "execution_count": 50,
      "outputs": [
        {
          "output_type": "execute_result",
          "data": {
            "text/plain": [
              "160"
            ]
          },
          "metadata": {
            "tags": []
          },
          "execution_count": 50
        }
      ]
    },
    {
      "cell_type": "code",
      "metadata": {
        "colab": {
          "base_uri": "https://localhost:8080/",
          "height": 111
        },
        "id": "RplRhj-PTna5",
        "outputId": "7cdff7b8-b17b-45df-e767-29854c56fc79"
      },
      "source": [
        "label = np.concatenate((np.ones(len(test_sq_loss)),np.zeros(len(test_sq_loss))))\n",
        "#total_losses = np.concatenate((train_sq_loss,anomaly_sq_loss),axis=0)\n",
        "total_losses = np.concatenate((test_sq_loss,np.random.choice(anomaly_sq_loss, len(test_sq_loss),replace=True)),axis=0)\n",
        "error_df = pd.DataFrame({'Reconstruction_error': total_losses,'Label':label})\n",
        "#error_df = error_df.sample(frac=1)\n",
        "error_df.head(2)"
      ],
      "execution_count": 51,
      "outputs": [
        {
          "output_type": "execute_result",
          "data": {
            "text/html": [
              "<div>\n",
              "<style scoped>\n",
              "    .dataframe tbody tr th:only-of-type {\n",
              "        vertical-align: middle;\n",
              "    }\n",
              "\n",
              "    .dataframe tbody tr th {\n",
              "        vertical-align: top;\n",
              "    }\n",
              "\n",
              "    .dataframe thead th {\n",
              "        text-align: right;\n",
              "    }\n",
              "</style>\n",
              "<table border=\"1\" class=\"dataframe\">\n",
              "  <thead>\n",
              "    <tr style=\"text-align: right;\">\n",
              "      <th></th>\n",
              "      <th>Reconstruction_error</th>\n",
              "      <th>Label</th>\n",
              "    </tr>\n",
              "  </thead>\n",
              "  <tbody>\n",
              "    <tr>\n",
              "      <th>0</th>\n",
              "      <td>0.000777</td>\n",
              "      <td>1.0</td>\n",
              "    </tr>\n",
              "    <tr>\n",
              "      <th>1</th>\n",
              "      <td>0.000457</td>\n",
              "      <td>1.0</td>\n",
              "    </tr>\n",
              "  </tbody>\n",
              "</table>\n",
              "</div>"
            ],
            "text/plain": [
              "   Reconstruction_error  Label\n",
              "0              0.000777    1.0\n",
              "1              0.000457    1.0"
            ]
          },
          "metadata": {
            "tags": []
          },
          "execution_count": 51
        }
      ]
    },
    {
      "cell_type": "code",
      "metadata": {
        "colab": {
          "base_uri": "https://localhost:8080/",
          "height": 496
        },
        "id": "8jdj_QW-J4FF",
        "outputId": "88dcd5fd-7bd5-4976-f6a7-6676d9304565"
      },
      "source": [
        "pred_y = [0 if e > threshold_fixed else 1 for e in error_df.Reconstruction_error.values]\n",
        "conf_matrix = confusion_matrix(error_df.Label, pred_y)\n",
        "plt.figure(figsize=(10, 8))\n",
        "sns.heatmap(conf_matrix, xticklabels=[], yticklabels=[], annot=True, fmt=\"d\");\n",
        "plt.title(\"Confusion matrix\")\n",
        "plt.ylabel('True class')\n",
        "plt.xlabel('Predicted class')\n",
        "plt.show()\n"
      ],
      "execution_count": 52,
      "outputs": [
        {
          "output_type": "display_data",
          "data": {
            "image/png": "[encoded data removed]",
            "text/plain": [
              "<Figure size 720x576 with 2 Axes>"
            ]
          },
          "metadata": {
            "tags": [],
            "needs_background": "light"
          }
        }
      ]
    },
    {
      "cell_type": "code",
      "metadata": {
        "id": "Xc_-KaGDC-nM"
      },
      "source": [
        "TN = conf_matrix[0][0]\n",
        "FN = conf_matrix[1][0]\n",
        "TP = conf_matrix[1][1]\n",
        "FP = conf_matrix[0][1]"
      ],
      "execution_count": 53,
      "outputs": []
    },
    {
      "cell_type": "code",
      "metadata": {
        "colab": {
          "base_uri": "https://localhost:8080/"
        },
        "id": "g3YaPVAUDJ-n",
        "outputId": "217de928-a770-4c89-ebe1-3adebcaae829"
      },
      "source": [
        "precision = TP/(TP+FP)\n",
        "recall = TP/(TP+FN)\n",
        "print('Precision',precision)\n",
        "print('Recall',recall)"
      ],
      "execution_count": 54,
      "outputs": [
        {
          "output_type": "stream",
          "text": [
            "Precision 0.543859649122807\n",
            "Recall 0.96875\n"
          ],
          "name": "stdout"
        }
      ]
    },
    {
      "cell_type": "code",
      "metadata": {
        "colab": {
          "base_uri": "https://localhost:8080/",
          "height": 295
        },
        "id": "e-wZm3-eACxc",
        "outputId": "67336bb4-c7b0-4af0-b55b-91a8fa8ce04e"
      },
      "source": [
        "false_pos_rate, true_pos_rate, thresholds = roc_curve(error_df.Label, pred_y)\n",
        "roc_auc = auc(false_pos_rate, true_pos_rate,)\n",
        "plt.plot(false_pos_rate, true_pos_rate, linewidth=2, label='AUC = %0.3f'% roc_auc)\n",
        "plt.plot([0,1],[0,1], linewidth=2)\n",
        "plt.xlim([-0.01, 1])\n",
        "plt.ylim([0, 1.01])\n",
        "plt.legend(loc='lower right')\n",
        "plt.title('Receiver operating characteristic curve (ROC)')\n",
        "plt.ylabel('True Positive Rate')\n",
        "plt.xlabel('False Positive Rate')\n",
        "plt.show()"
      ],
      "execution_count": 55,
      "outputs": [
        {
          "output_type": "display_data",
          "data": {
            "image/png": "[encoded data removed]",
            "text/plain": [
              "<Figure size 432x288 with 1 Axes>"
            ]
          },
          "metadata": {
            "tags": [],
            "needs_background": "light"
          }
        }
      ]
    },
    {
      "cell_type": "code",
      "metadata": {
        "id": "YU3YUw0_HF1W"
      },
      "source": [
        ""
      ],
      "execution_count": null,
      "outputs": []
    }
  ]
}